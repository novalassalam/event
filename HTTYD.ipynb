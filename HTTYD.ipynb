{
 "cells": [
  {
   "cell_type": "markdown",
   "id": "996ddbea",
   "metadata": {},
   "source": [
    "<p align=\"center\">\n",
    "    <b><big>CRISP-DM (Cross Industry Standard Process for Data Mining)</big></b>\n",
    "</p>\n"
   ]
  },
  {
   "cell_type": "markdown",
   "id": "143d5570",
   "metadata": {},
   "source": [
    "<b><font color=\"green\">1. Crips flow</font></b>"
   ]
  },
  {
   "cell_type": "markdown",
   "id": "abef39e7",
   "metadata": {
    "ExecuteTime": {
     "end_time": "2024-06-08T03:17:41.237670Z",
     "start_time": "2024-06-08T03:17:41.219100Z"
    }
   },
   "source": [
    "<img src=\"https://miro.medium.com/v2/resize:fit:1100/format:webp/1*vrmyUcAjG3UTxBpOXcyuPg.png\">"
   ]
  },
  {
   "cell_type": "markdown",
   "id": "0520161b",
   "metadata": {},
   "source": [
    "<b>2. Phases and generic tasks of CRISP-DM</b>"
   ]
  },
  {
   "cell_type": "markdown",
   "id": "c24bb1fb",
   "metadata": {
    "ExecuteTime": {
     "end_time": "2024-06-08T06:06:34.262425Z",
     "start_time": "2024-06-08T06:06:34.250262Z"
    }
   },
   "source": [
    "<img src=\"https://www.researchgate.net/publication/283430974/figure/fig1/AS:614004070309903@1523401386613/phases-and-generic-tasks-of-CRISP-DM.png\">"
   ]
  },
  {
   "cell_type": "markdown",
   "id": "4c6a8874",
   "metadata": {},
   "source": [
    "# Bussiness Understanding"
   ]
  },
  {
   "cell_type": "markdown",
   "id": "0f84f103",
   "metadata": {},
   "source": [
    "Business Understanding adalah tahap awal dari proses analisis data atau proyek data science, dan tujuannya adalah untuk memahami kebutuhan bisnis, tujuan proyek, serta bagaimana hasil dari analisis atau model akan digunakan untuk memberikan nilai tambah pada bisnis"
   ]
  },
  {
   "cell_type": "markdown",
   "id": "cc5c4163",
   "metadata": {},
   "source": [
    "## Ruang lingkup"
   ]
  },
  {
   "cell_type": "markdown",
   "id": "c5d0d303",
   "metadata": {},
   "source": [
    "Dalam suatu perusahaan penyedia jasa asuransi kesehatan sedang mengalami masalah karena banyaknya klaim asuransi dan tidak efisiennya program asuransi dalam beberapa tahun terakhir. Perusahaan membutuhkan studi pengetahuan untuk menjauhkan pelanggan dari penyakit DIABETES. Dengan mengetahui profil pelanggan yang dapat terjangkit penyakit DIABETES, serta mengetahui faktor penyebanya. Akan membantu perusahaan dalam mengurangi claim terhadap asuransi dan memperoleh keuntungan sebanyak mungkin."
   ]
  },
  {
   "cell_type": "markdown",
   "id": "4f4beb45",
   "metadata": {},
   "source": [
    "## Problem statement"
   ]
  },
  {
   "cell_type": "markdown",
   "id": "bd86bab8",
   "metadata": {},
   "source": [
    "1. Atribut apa yang paling berpengaruh terhadap penyakit DIABETES? <br>\n",
    "2. Memprediksi pelanggan yang dapat berpotensi menderita DIABETES"
   ]
  },
  {
   "cell_type": "markdown",
   "id": "97c7bb91",
   "metadata": {},
   "source": [
    "## Goal"
   ]
  },
  {
   "cell_type": "markdown",
   "id": "d4800fb7",
   "metadata": {
    "ExecuteTime": {
     "end_time": "2024-06-05T06:58:02.490690Z",
     "start_time": "2024-06-05T06:58:02.483709Z"
    }
   },
   "source": [
    "1. mengetahui atribut apa saja penyebab diabetes? <br>\n",
    "2. Membuat model yang dapat memprediksi diabetes?"
   ]
  },
  {
   "cell_type": "markdown",
   "id": "8838f807",
   "metadata": {},
   "source": [
    "# Data Understanding"
   ]
  },
  {
   "cell_type": "markdown",
   "id": "8736783d",
   "metadata": {},
   "source": [
    "    Memahami domain masalah dan tujuan analisis.\n",
    "    Mengumpulkan data dan memahami sumber data.\n",
    "    Menentukan label (target) dan fitur (atribut bebas).\n",
    "    Memahami struktur data dan konteks dari variabel-variabel yang ada."
   ]
  },
  {
   "cell_type": "markdown",
   "id": "188bda95",
   "metadata": {},
   "source": [
    "## Overview data"
   ]
  },
  {
   "cell_type": "markdown",
   "id": "03a334ef",
   "metadata": {},
   "source": [
    "Dataset ini merupakan bagian dari dataset besar yang dimiliki oleh National Institutes of Diabetes-Digestive-Kidney Diseases di Amerika Serikat. Data tersebut digunakan untuk penelitian diabetes pada wanita Indian Pima berusia 21 tahun ke atas yang tinggal di Phoenix, kota terbesar kelima di negara bagian Arizona, Amerika Serikat. <br>\n",
    "<b>sumber: https://www.kaggle.com/datasets/mathchi/diabetes-data-set.</b> <br>\n",
    "<b>Penjelasan Data </b><br>\n",
    "\n",
    "    Pregnancies: The number of pregnancies\n",
    "    Glucose: 2-hour plasma glucose concentration in the oral glucose tolerance test\n",
    "    Blood Pressure: Blood Pressure (Small blood pressure) (mmHg)\n",
    "    SkinThickness: Skin Thickness (mm)\n",
    "    Insulin: 2-hour serum insulin (mu U/ml)\n",
    "    DiabetesPedigreeFunction: A function that calculates the probability of having diabetes according to the descendants\n",
    "    BMI: Body mass index\n",
    "    Age: Age (year)\n",
    "    Outcome: Have the disease (1) or not (0)\n"
   ]
  },
  {
   "cell_type": "markdown",
   "id": "da52ee66",
   "metadata": {},
   "source": [
    "<b> Note. Dataset yang akan digunakan sudah dimodifikasi </b>"
   ]
  },
  {
   "cell_type": "markdown",
   "id": "1318d2c0",
   "metadata": {},
   "source": [
    "<b> Load semua library diatas </b>"
   ]
  },
  {
   "cell_type": "code",
   "execution_count": 1,
   "id": "d18a7576",
   "metadata": {
    "ExecuteTime": {
     "end_time": "2024-06-08T04:07:32.452446Z",
     "start_time": "2024-06-08T04:07:21.654616Z"
    }
   },
   "outputs": [],
   "source": [
    "import pandas as pd\n",
    "from sklearn.preprocessing import LabelEncoder\n",
    "import seaborn as sns\n",
    "import matplotlib.pyplot as plt\n",
    "import matplotlib.gridspec as gridspec\n",
    "from sklearn.metrics import classification_report, confusion_matrix\n",
    "from sklearn.ensemble import GradientBoostingClassifier, plot_tree\n",
    "from imblearn.over_sampling import SMOTE\n",
    "from sklearn.model_selection import train_test_split\n",
    "import tensorflow as tf\n",
    "import numpy as np"
   ]
  },
  {
   "cell_type": "markdown",
   "id": "e5f08877",
   "metadata": {},
   "source": [
    "### Load dan overview data"
   ]
  },
  {
   "cell_type": "code",
   "execution_count": 2,
   "id": "874820b8",
   "metadata": {
    "ExecuteTime": {
     "end_time": "2024-06-08T04:08:13.047456Z",
     "start_time": "2024-06-08T04:08:12.989007Z"
    }
   },
   "outputs": [
    {
     "data": {
      "text/html": [
       "<div>\n",
       "<style scoped>\n",
       "    .dataframe tbody tr th:only-of-type {\n",
       "        vertical-align: middle;\n",
       "    }\n",
       "\n",
       "    .dataframe tbody tr th {\n",
       "        vertical-align: top;\n",
       "    }\n",
       "\n",
       "    .dataframe thead th {\n",
       "        text-align: right;\n",
       "    }\n",
       "</style>\n",
       "<table border=\"1\" class=\"dataframe\">\n",
       "  <thead>\n",
       "    <tr style=\"text-align: right;\">\n",
       "      <th></th>\n",
       "      <th>Pregnancies</th>\n",
       "      <th>Glucose</th>\n",
       "      <th>BloodPressure</th>\n",
       "      <th>SkinThickness</th>\n",
       "      <th>Insulin</th>\n",
       "      <th>BMI</th>\n",
       "      <th>DiabetesPedigreeFunction</th>\n",
       "      <th>Age</th>\n",
       "      <th>Outcome</th>\n",
       "    </tr>\n",
       "  </thead>\n",
       "  <tbody>\n",
       "    <tr>\n",
       "      <th>0</th>\n",
       "      <td>6</td>\n",
       "      <td>148.0</td>\n",
       "      <td>72.0</td>\n",
       "      <td>35</td>\n",
       "      <td>0</td>\n",
       "      <td>33.6</td>\n",
       "      <td>0.627</td>\n",
       "      <td>50</td>\n",
       "      <td>1</td>\n",
       "    </tr>\n",
       "    <tr>\n",
       "      <th>1</th>\n",
       "      <td>1</td>\n",
       "      <td>85.0</td>\n",
       "      <td>66.0</td>\n",
       "      <td>29</td>\n",
       "      <td>0</td>\n",
       "      <td>26.6</td>\n",
       "      <td>0.351</td>\n",
       "      <td>31</td>\n",
       "      <td>0</td>\n",
       "    </tr>\n",
       "    <tr>\n",
       "      <th>2</th>\n",
       "      <td>8</td>\n",
       "      <td>183.0</td>\n",
       "      <td>64.0</td>\n",
       "      <td>0</td>\n",
       "      <td>0</td>\n",
       "      <td>23.3</td>\n",
       "      <td>0.672</td>\n",
       "      <td>32</td>\n",
       "      <td>1</td>\n",
       "    </tr>\n",
       "    <tr>\n",
       "      <th>3</th>\n",
       "      <td>1</td>\n",
       "      <td>89.0</td>\n",
       "      <td>66.0</td>\n",
       "      <td>23</td>\n",
       "      <td>94</td>\n",
       "      <td>28.1</td>\n",
       "      <td>0.167</td>\n",
       "      <td>21</td>\n",
       "      <td>0</td>\n",
       "    </tr>\n",
       "    <tr>\n",
       "      <th>4</th>\n",
       "      <td>0</td>\n",
       "      <td>137.0</td>\n",
       "      <td>40.0</td>\n",
       "      <td>35</td>\n",
       "      <td>168</td>\n",
       "      <td>43.1</td>\n",
       "      <td>2.288</td>\n",
       "      <td>33</td>\n",
       "      <td>1</td>\n",
       "    </tr>\n",
       "    <tr>\n",
       "      <th>...</th>\n",
       "      <td>...</td>\n",
       "      <td>...</td>\n",
       "      <td>...</td>\n",
       "      <td>...</td>\n",
       "      <td>...</td>\n",
       "      <td>...</td>\n",
       "      <td>...</td>\n",
       "      <td>...</td>\n",
       "      <td>...</td>\n",
       "    </tr>\n",
       "    <tr>\n",
       "      <th>801</th>\n",
       "      <td>1</td>\n",
       "      <td>128.0</td>\n",
       "      <td>82.0</td>\n",
       "      <td>17</td>\n",
       "      <td>183</td>\n",
       "      <td>27.5</td>\n",
       "      <td>0.115</td>\n",
       "      <td>22</td>\n",
       "      <td>0</td>\n",
       "    </tr>\n",
       "    <tr>\n",
       "      <th>802</th>\n",
       "      <td>1</td>\n",
       "      <td>103.0</td>\n",
       "      <td>80.0</td>\n",
       "      <td>11</td>\n",
       "      <td>82</td>\n",
       "      <td>19.4</td>\n",
       "      <td>0.491</td>\n",
       "      <td>22</td>\n",
       "      <td>0</td>\n",
       "    </tr>\n",
       "    <tr>\n",
       "      <th>803</th>\n",
       "      <td>5</td>\n",
       "      <td>136.0</td>\n",
       "      <td>84.0</td>\n",
       "      <td>41</td>\n",
       "      <td>88</td>\n",
       "      <td>35.0</td>\n",
       "      <td>0.286</td>\n",
       "      <td>35</td>\n",
       "      <td>1</td>\n",
       "    </tr>\n",
       "    <tr>\n",
       "      <th>804</th>\n",
       "      <td>0</td>\n",
       "      <td>137.0</td>\n",
       "      <td>40.0</td>\n",
       "      <td>35</td>\n",
       "      <td>168</td>\n",
       "      <td>43.1</td>\n",
       "      <td>2.288</td>\n",
       "      <td>33</td>\n",
       "      <td>1</td>\n",
       "    </tr>\n",
       "    <tr>\n",
       "      <th>805</th>\n",
       "      <td>0</td>\n",
       "      <td>124.0</td>\n",
       "      <td>56.0</td>\n",
       "      <td>13</td>\n",
       "      <td>105</td>\n",
       "      <td>21.8</td>\n",
       "      <td>0.452</td>\n",
       "      <td>21</td>\n",
       "      <td>0</td>\n",
       "    </tr>\n",
       "  </tbody>\n",
       "</table>\n",
       "<p>806 rows × 9 columns</p>\n",
       "</div>"
      ],
      "text/plain": [
       "     Pregnancies  Glucose  BloodPressure  SkinThickness  Insulin   BMI  \\\n",
       "0              6    148.0           72.0             35        0  33.6   \n",
       "1              1     85.0           66.0             29        0  26.6   \n",
       "2              8    183.0           64.0              0        0  23.3   \n",
       "3              1     89.0           66.0             23       94  28.1   \n",
       "4              0    137.0           40.0             35      168  43.1   \n",
       "..           ...      ...            ...            ...      ...   ...   \n",
       "801            1    128.0           82.0             17      183  27.5   \n",
       "802            1    103.0           80.0             11       82  19.4   \n",
       "803            5    136.0           84.0             41       88  35.0   \n",
       "804            0    137.0           40.0             35      168  43.1   \n",
       "805            0    124.0           56.0             13      105  21.8   \n",
       "\n",
       "     DiabetesPedigreeFunction  Age  Outcome  \n",
       "0                       0.627   50        1  \n",
       "1                       0.351   31        0  \n",
       "2                       0.672   32        1  \n",
       "3                       0.167   21        0  \n",
       "4                       2.288   33        1  \n",
       "..                        ...  ...      ...  \n",
       "801                     0.115   22        0  \n",
       "802                     0.491   22        0  \n",
       "803                     0.286   35        1  \n",
       "804                     2.288   33        1  \n",
       "805                     0.452   21        0  \n",
       "\n",
       "[806 rows x 9 columns]"
      ]
     },
     "execution_count": 2,
     "metadata": {},
     "output_type": "execute_result"
    }
   ],
   "source": [
    "df = pd.read_csv('diabetes_modified.csv')\n",
    "df"
   ]
  },
  {
   "cell_type": "markdown",
   "id": "7d954b9a",
   "metadata": {},
   "source": [
    "diketahui total data sejumlah 809 dan terdapat 9 kolom (attribut)"
   ]
  },
  {
   "cell_type": "markdown",
   "id": "4b864e2b",
   "metadata": {},
   "source": [
    "### Missing value dan tipe data "
   ]
  },
  {
   "cell_type": "code",
   "execution_count": 3,
   "id": "f7f60bd8",
   "metadata": {
    "ExecuteTime": {
     "end_time": "2024-06-08T04:08:16.226300Z",
     "start_time": "2024-06-08T04:08:16.207050Z"
    }
   },
   "outputs": [
    {
     "name": "stdout",
     "output_type": "stream",
     "text": [
      "<class 'pandas.core.frame.DataFrame'>\n",
      "RangeIndex: 806 entries, 0 to 805\n",
      "Data columns (total 9 columns):\n",
      " #   Column                    Non-Null Count  Dtype  \n",
      "---  ------                    --------------  -----  \n",
      " 0   Pregnancies               806 non-null    int64  \n",
      " 1   Glucose                   727 non-null    float64\n",
      " 2   BloodPressure             727 non-null    float64\n",
      " 3   SkinThickness             806 non-null    int64  \n",
      " 4   Insulin                   806 non-null    int64  \n",
      " 5   BMI                       806 non-null    float64\n",
      " 6   DiabetesPedigreeFunction  806 non-null    float64\n",
      " 7   Age                       806 non-null    int64  \n",
      " 8   Outcome                   806 non-null    int64  \n",
      "dtypes: float64(4), int64(5)\n",
      "memory usage: 56.8 KB\n"
     ]
    }
   ],
   "source": [
    "df.info()"
   ]
  },
  {
   "cell_type": "markdown",
   "id": "81a827b4",
   "metadata": {},
   "source": [
    "diketahui jumlah data 806 dan terdapat beberapa data yang null (missing value) dan tipe data yang digunakan"
   ]
  },
  {
   "cell_type": "code",
   "execution_count": 4,
   "id": "f74abb11",
   "metadata": {
    "ExecuteTime": {
     "end_time": "2024-06-08T04:08:18.089016Z",
     "start_time": "2024-06-08T04:08:18.071919Z"
    }
   },
   "outputs": [
    {
     "name": "stdout",
     "output_type": "stream",
     "text": [
      "\n",
      "Jumlah nilai null di setiap kolom:\n",
      "Pregnancies                  0\n",
      "Glucose                     79\n",
      "BloodPressure               79\n",
      "SkinThickness                0\n",
      "Insulin                      0\n",
      "BMI                          0\n",
      "DiabetesPedigreeFunction     0\n",
      "Age                          0\n",
      "Outcome                      0\n",
      "dtype: int64\n"
     ]
    }
   ],
   "source": [
    "# tampilkan jumlah null\n",
    "null_counts = df.isnull().sum()\n",
    "print(\"\\nJumlah nilai null di setiap kolom:\")\n",
    "print(null_counts)"
   ]
  },
  {
   "cell_type": "markdown",
   "id": "9360a472",
   "metadata": {},
   "source": [
    "### Cek duplikasi"
   ]
  },
  {
   "cell_type": "code",
   "execution_count": 6,
   "id": "6dbf242b",
   "metadata": {
    "ExecuteTime": {
     "end_time": "2024-06-08T04:08:29.517133Z",
     "start_time": "2024-06-08T04:08:29.501041Z"
    }
   },
   "outputs": [
    {
     "name": "stdout",
     "output_type": "stream",
     "text": [
      "\n",
      " Jumlah baris duplikat:\n",
      " 38\n"
     ]
    }
   ],
   "source": [
    "# Memeriksa duplikat\n",
    "duplikat = df.duplicated()\n",
    "# Menampilkan baris yang duplikat\n",
    "baris_duplikat = df[df.duplicated()]\n",
    "print(\"\\n Jumlah baris duplikat:\\n\", len(baris_duplikat))"
   ]
  },
  {
   "cell_type": "markdown",
   "id": "ec3f3db2",
   "metadata": {},
   "source": [
    "### Menentukan label (target) dan fitur (atribut bebas)"
   ]
  },
  {
   "cell_type": "code",
   "execution_count": 7,
   "id": "5a338518",
   "metadata": {
    "ExecuteTime": {
     "end_time": "2024-06-08T04:08:31.194452Z",
     "start_time": "2024-06-08T04:08:31.163354Z"
    }
   },
   "outputs": [
    {
     "data": {
      "text/html": [
       "<div>\n",
       "<style scoped>\n",
       "    .dataframe tbody tr th:only-of-type {\n",
       "        vertical-align: middle;\n",
       "    }\n",
       "\n",
       "    .dataframe tbody tr th {\n",
       "        vertical-align: top;\n",
       "    }\n",
       "\n",
       "    .dataframe thead th {\n",
       "        text-align: right;\n",
       "    }\n",
       "</style>\n",
       "<table border=\"1\" class=\"dataframe\">\n",
       "  <thead>\n",
       "    <tr style=\"text-align: right;\">\n",
       "      <th></th>\n",
       "      <th>Pregnancies</th>\n",
       "      <th>Glucose</th>\n",
       "      <th>BloodPressure</th>\n",
       "      <th>SkinThickness</th>\n",
       "      <th>Insulin</th>\n",
       "      <th>BMI</th>\n",
       "      <th>DiabetesPedigreeFunction</th>\n",
       "      <th>Age</th>\n",
       "    </tr>\n",
       "  </thead>\n",
       "  <tbody>\n",
       "    <tr>\n",
       "      <th>0</th>\n",
       "      <td>6</td>\n",
       "      <td>148.0</td>\n",
       "      <td>72.0</td>\n",
       "      <td>35</td>\n",
       "      <td>0</td>\n",
       "      <td>33.6</td>\n",
       "      <td>0.627</td>\n",
       "      <td>50</td>\n",
       "    </tr>\n",
       "    <tr>\n",
       "      <th>1</th>\n",
       "      <td>1</td>\n",
       "      <td>85.0</td>\n",
       "      <td>66.0</td>\n",
       "      <td>29</td>\n",
       "      <td>0</td>\n",
       "      <td>26.6</td>\n",
       "      <td>0.351</td>\n",
       "      <td>31</td>\n",
       "    </tr>\n",
       "    <tr>\n",
       "      <th>2</th>\n",
       "      <td>8</td>\n",
       "      <td>183.0</td>\n",
       "      <td>64.0</td>\n",
       "      <td>0</td>\n",
       "      <td>0</td>\n",
       "      <td>23.3</td>\n",
       "      <td>0.672</td>\n",
       "      <td>32</td>\n",
       "    </tr>\n",
       "    <tr>\n",
       "      <th>3</th>\n",
       "      <td>1</td>\n",
       "      <td>89.0</td>\n",
       "      <td>66.0</td>\n",
       "      <td>23</td>\n",
       "      <td>94</td>\n",
       "      <td>28.1</td>\n",
       "      <td>0.167</td>\n",
       "      <td>21</td>\n",
       "    </tr>\n",
       "    <tr>\n",
       "      <th>4</th>\n",
       "      <td>0</td>\n",
       "      <td>137.0</td>\n",
       "      <td>40.0</td>\n",
       "      <td>35</td>\n",
       "      <td>168</td>\n",
       "      <td>43.1</td>\n",
       "      <td>2.288</td>\n",
       "      <td>33</td>\n",
       "    </tr>\n",
       "  </tbody>\n",
       "</table>\n",
       "</div>"
      ],
      "text/plain": [
       "   Pregnancies  Glucose  BloodPressure  SkinThickness  Insulin   BMI  \\\n",
       "0            6    148.0           72.0             35        0  33.6   \n",
       "1            1     85.0           66.0             29        0  26.6   \n",
       "2            8    183.0           64.0              0        0  23.3   \n",
       "3            1     89.0           66.0             23       94  28.1   \n",
       "4            0    137.0           40.0             35      168  43.1   \n",
       "\n",
       "   DiabetesPedigreeFunction  Age  \n",
       "0                     0.627   50  \n",
       "1                     0.351   31  \n",
       "2                     0.672   32  \n",
       "3                     0.167   21  \n",
       "4                     2.288   33  "
      ]
     },
     "execution_count": 7,
     "metadata": {},
     "output_type": "execute_result"
    }
   ],
   "source": [
    "X = df.iloc[:, :8] # Mengambil 8 kolom pertama\n",
    "y = df.iloc[:, 8]  # Mengambil kolom target\n",
    "\n",
    "# drop\n",
    "X.head() #tampilkan contoh data"
   ]
  },
  {
   "cell_type": "markdown",
   "id": "31691926",
   "metadata": {},
   "source": [
    "## Exploratory Data Analysis (EDA)"
   ]
  },
  {
   "cell_type": "markdown",
   "id": "3c4518bc",
   "metadata": {},
   "source": [
    "Tahap ini melibatkan:\n",
    "\n",
    "    Menganalisis data untuk memahami pola, distribusi, dan hubungan antar variabel.\n",
    "    Mendeteksi nilai yang hilang dan outliers.\n",
    "    Visualisasi data untuk menggali lebih dalam tentang karakteristik dataset.\n",
    "    Melakukan analisis statistik deskriptif."
   ]
  },
  {
   "cell_type": "code",
   "execution_count": 10,
   "id": "a6ddb3dd",
   "metadata": {
    "ExecuteTime": {
     "end_time": "2024-06-08T04:09:16.389775Z",
     "start_time": "2024-06-08T04:09:15.916239Z"
    }
   },
   "outputs": [
    {
     "name": "stderr",
     "output_type": "stream",
     "text": [
      "/usr/local/lib/python3.9/site-packages/seaborn/distributions.py:2619: FutureWarning: `distplot` is a deprecated function and will be removed in a future version. Please adapt your code to use either `displot` (a figure-level function with similar flexibility) or `histplot` (an axes-level function for histograms).\n",
      "  warnings.warn(msg, FutureWarning)\n",
      "/usr/local/lib/python3.9/site-packages/seaborn/_decorators.py:36: FutureWarning: Pass the following variable as a keyword arg: x. From version 0.12, the only valid positional argument will be `data`, and passing other arguments without an explicit keyword will result in an error or misinterpretation.\n",
      "  warnings.warn(\n",
      "/usr/local/lib/python3.9/site-packages/seaborn/_core.py:1326: UserWarning: Vertical orientation ignored with only `x` specified.\n",
      "  warnings.warn(single_var_warning.format(\"Vertical\", \"x\"))\n"
     ]
    },
    {
     "data": {
      "image/png": "[encoded data removed]",
      "text/plain": [
       "<Figure size 720x216 with 2 Axes>"
      ]
     },
     "metadata": {
      "needs_background": "light"
     },
     "output_type": "display_data"
    }
   ],
   "source": [
    "def plots(feature):\n",
    "    fig = plt.figure(constrained_layout = True, figsize=(10,3))\n",
    "    gs = gridspec.GridSpec(nrows=1, ncols=4, figure=fig)\n",
    "\n",
    "    ax1 = fig.add_subplot(gs[0,:3])    \n",
    "    sns.histplot(df.loc[df[\"Outcome\"]==0,feature],\n",
    "                 kde = False, color = \"#004a4d\", \n",
    "                  bins=40,\n",
    "                 label=\"Not Diabetes\", ax=ax1);\n",
    "    sns.histplot(df.loc[df[\"Outcome\"]==1,feature],\n",
    "                 kde = False, color = \"#7d0101\", \n",
    "                 bins=40,\n",
    "                 label=\"Diabetes\", ax=ax1);\n",
    "    ax2 = fig.add_subplot(gs[0,3])    \n",
    "    sns.boxplot(X[feature], orient=\"v\", color = \"#989100\",\n",
    "                width = 0.2, ax=ax2);\n",
    "    \n",
    "    ax1.legend(loc=\"upper right\");\n",
    "\n",
    "plots(\"Age\")"
   ]
  },
  {
   "cell_type": "markdown",
   "id": "48e9bd98",
   "metadata": {},
   "source": [
    "### Pearson corelation matrix"
   ]
  },
  {
   "cell_type": "markdown",
   "id": "7cbec141",
   "metadata": {
    "ExecuteTime": {
     "end_time": "2024-05-22T03:00:15.156133Z",
     "start_time": "2024-05-22T03:00:15.141120Z"
    }
   },
   "source": [
    " Korelasi Pearson adalah salah satu metode untuk menghitung korelasi antara dua variabel. Ketika kita menghitung korelasi Pearson untuk setiap pasangan variabel dalam sebuah DataFrame, hasilnya adalah sebuah matriks korelasi.\n",
    "    Nilai korelasi (r) dekat dengan 1 atau -1 menunjukkan hubungan linear yang kuat.\n",
    "    Nilai korelasi (r) dekat dengan 0 menunjukkan hubungan linear yang lemah atau tidak ada hubungan linear.\n",
    "\n",
    "Interpretasi Umum\n",
    "\n",
    "Berikut adalah interpretasi umum dari nilai korelasi Pearson:\n",
    "\n",
    "    |r| ≥ 0.9: Korelasi sangat kuat\n",
    "    0.7 ≤ |r| < 0.9: Korelasi kuat\n",
    "    0.5 ≤ |r| < 0.7: Korelasi sedang\n",
    "    0.3 ≤ |r| < 0.5: Korelasi lemah\n",
    "    |r| < 0.3: Korelasi sangat lemah atau tidak ada korelasi"
   ]
  },
  {
   "cell_type": "code",
   "execution_count": 11,
   "id": "1623d04f",
   "metadata": {
    "ExecuteTime": {
     "end_time": "2024-06-08T04:09:35.417178Z",
     "start_time": "2024-06-08T04:09:34.736930Z"
    }
   },
   "outputs": [
    {
     "data": {
      "image/png": "[encoded data removed]",
      "text/plain": [
       "<Figure size 864x720 with 2 Axes>"
      ]
     },
     "metadata": {
      "needs_background": "light"
     },
     "output_type": "display_data"
    }
   ],
   "source": [
    "# Menghitung matriks korelasi Pearson\n",
    "correlation_matrix = df.corr(method='pearson')\n",
    "plt.figure(figsize=(12,10))\n",
    "# Membuat heatmap dari matriks korelasi\n",
    "sns.heatmap(correlation_matrix, annot=True, cmap='coolwarm')\n",
    "plt.title('Matriks Korelasi Pearson')\n",
    "plt.show()"
   ]
  },
  {
   "cell_type": "markdown",
   "id": "4e7c3bb5",
   "metadata": {},
   "source": [
    "opsi lain bisa menggunakan scatter plot antar atribut"
   ]
  },
  {
   "cell_type": "code",
   "execution_count": 12,
   "id": "8becf3be",
   "metadata": {
    "ExecuteTime": {
     "end_time": "2024-06-08T04:09:40.421390Z",
     "start_time": "2024-06-08T04:09:40.396087Z"
    }
   },
   "outputs": [
    {
     "name": "stdout",
     "output_type": "stream",
     "text": [
      "Atribut yang saling berpengaruh berdasarkan threshold:\n",
      "Atribut Pregnancies dan Age memiliki korelasi 0.55\n",
      "Pada tahapan ini anda juga bisa membuang atribut yang tidak relevan\n"
     ]
    }
   ],
   "source": [
    "# Menentukan threshold\n",
    "threshold = 0.5\n",
    "\n",
    "# Mencari pasangan atribut yang berpengaruh berdasarkan threshold\n",
    "influential_pairs = []\n",
    "\n",
    "for i in range(len(correlation_matrix.columns)):\n",
    "    for j in range(i+1, len(correlation_matrix.columns)):\n",
    "        if abs(correlation_matrix.iloc[i, j]) >= threshold:\n",
    "            influential_pairs.append((correlation_matrix.columns[i], correlation_matrix.columns[j], correlation_matrix.iloc[i, j]))\n",
    "\n",
    "# Menampilkan hasil\n",
    "print(\"Atribut yang saling berpengaruh berdasarkan threshold:\")\n",
    "for pair in influential_pairs:\n",
    "    print(f\"Atribut {pair[0]} dan {pair[1]} memiliki korelasi {pair[2]:.2f}\")\n",
    "    \n",
    "print('Pada tahapan ini anda juga bisa membuang atribut yang tidak relevan')"
   ]
  },
  {
   "cell_type": "markdown",
   "id": "399b0d88",
   "metadata": {},
   "source": [
    "### Mengetahui proporsi jumlah tiap label"
   ]
  },
  {
   "cell_type": "code",
   "execution_count": 13,
   "id": "0d3fe2ee",
   "metadata": {
    "ExecuteTime": {
     "end_time": "2024-06-08T04:09:45.604060Z",
     "start_time": "2024-06-08T04:09:45.472670Z"
    }
   },
   "outputs": [
    {
     "data": {
      "image/png": "[encoded data removed]",
      "text/plain": [
       "<Figure size 432x288 with 1 Axes>"
      ]
     },
     "metadata": {
      "needs_background": "light"
     },
     "output_type": "display_data"
    }
   ],
   "source": [
    "# Menghitung jumlah 0 dan 1\n",
    "unique, counts = np.unique(y, return_counts=True)\n",
    "count_dict = dict(zip(unique, counts))\n",
    "keys_list = list(count_dict.keys())\n",
    "\n",
    "# Plot jumlah 0 dan 1 ke dalam diagram batang\n",
    "plt.bar(count_dict.keys(), count_dict.values(), color=['blue', 'green'])\n",
    "plt.xlabel('Value')\n",
    "plt.ylabel('Count')\n",
    "plt.title('Count of Label')\n",
    "plt.xticks(keys_list, keys_list)\n",
    "plt.show()"
   ]
  },
  {
   "cell_type": "markdown",
   "id": "8aae69fe",
   "metadata": {},
   "source": [
    "dapat disimpulkan label tidak imbang"
   ]
  },
  {
   "cell_type": "markdown",
   "id": "fec1737a",
   "metadata": {},
   "source": [
    "### Analisa deskriptif"
   ]
  },
  {
   "cell_type": "code",
   "execution_count": 14,
   "id": "fe4d4422",
   "metadata": {
    "ExecuteTime": {
     "end_time": "2024-06-08T04:09:56.776341Z",
     "start_time": "2024-06-08T04:09:56.714762Z"
    }
   },
   "outputs": [
    {
     "data": {
      "text/html": [
       "<div>\n",
       "<style scoped>\n",
       "    .dataframe tbody tr th:only-of-type {\n",
       "        vertical-align: middle;\n",
       "    }\n",
       "\n",
       "    .dataframe tbody tr th {\n",
       "        vertical-align: top;\n",
       "    }\n",
       "\n",
       "    .dataframe thead th {\n",
       "        text-align: right;\n",
       "    }\n",
       "</style>\n",
       "<table border=\"1\" class=\"dataframe\">\n",
       "  <thead>\n",
       "    <tr style=\"text-align: right;\">\n",
       "      <th></th>\n",
       "      <th>Pregnancies</th>\n",
       "      <th>Glucose</th>\n",
       "      <th>BloodPressure</th>\n",
       "      <th>SkinThickness</th>\n",
       "      <th>Insulin</th>\n",
       "      <th>BMI</th>\n",
       "      <th>DiabetesPedigreeFunction</th>\n",
       "      <th>Age</th>\n",
       "      <th>Outcome</th>\n",
       "    </tr>\n",
       "  </thead>\n",
       "  <tbody>\n",
       "    <tr>\n",
       "      <th>count</th>\n",
       "      <td>806.000000</td>\n",
       "      <td>727.000000</td>\n",
       "      <td>727.000000</td>\n",
       "      <td>806.000000</td>\n",
       "      <td>806.000000</td>\n",
       "      <td>806.000000</td>\n",
       "      <td>806.000000</td>\n",
       "      <td>806.000000</td>\n",
       "      <td>806.000000</td>\n",
       "    </tr>\n",
       "    <tr>\n",
       "      <th>mean</th>\n",
       "      <td>3.815136</td>\n",
       "      <td>120.616231</td>\n",
       "      <td>69.056396</td>\n",
       "      <td>20.682382</td>\n",
       "      <td>80.548387</td>\n",
       "      <td>31.930025</td>\n",
       "      <td>0.468635</td>\n",
       "      <td>33.166253</td>\n",
       "      <td>0.348635</td>\n",
       "    </tr>\n",
       "    <tr>\n",
       "      <th>std</th>\n",
       "      <td>3.344311</td>\n",
       "      <td>32.374060</td>\n",
       "      <td>19.135615</td>\n",
       "      <td>15.844222</td>\n",
       "      <td>114.901360</td>\n",
       "      <td>7.976834</td>\n",
       "      <td>0.333260</td>\n",
       "      <td>11.763916</td>\n",
       "      <td>0.476834</td>\n",
       "    </tr>\n",
       "    <tr>\n",
       "      <th>min</th>\n",
       "      <td>0.000000</td>\n",
       "      <td>0.000000</td>\n",
       "      <td>0.000000</td>\n",
       "      <td>0.000000</td>\n",
       "      <td>0.000000</td>\n",
       "      <td>0.000000</td>\n",
       "      <td>0.078000</td>\n",
       "      <td>21.000000</td>\n",
       "      <td>0.000000</td>\n",
       "    </tr>\n",
       "    <tr>\n",
       "      <th>25%</th>\n",
       "      <td>1.000000</td>\n",
       "      <td>99.000000</td>\n",
       "      <td>62.000000</td>\n",
       "      <td>0.000000</td>\n",
       "      <td>0.000000</td>\n",
       "      <td>27.200000</td>\n",
       "      <td>0.240250</td>\n",
       "      <td>24.000000</td>\n",
       "      <td>0.000000</td>\n",
       "    </tr>\n",
       "    <tr>\n",
       "      <th>50%</th>\n",
       "      <td>3.000000</td>\n",
       "      <td>117.000000</td>\n",
       "      <td>72.000000</td>\n",
       "      <td>23.000000</td>\n",
       "      <td>37.000000</td>\n",
       "      <td>32.000000</td>\n",
       "      <td>0.365500</td>\n",
       "      <td>29.000000</td>\n",
       "      <td>0.000000</td>\n",
       "    </tr>\n",
       "    <tr>\n",
       "      <th>75%</th>\n",
       "      <td>6.000000</td>\n",
       "      <td>140.000000</td>\n",
       "      <td>80.000000</td>\n",
       "      <td>32.000000</td>\n",
       "      <td>128.750000</td>\n",
       "      <td>36.575000</td>\n",
       "      <td>0.613750</td>\n",
       "      <td>41.000000</td>\n",
       "      <td>1.000000</td>\n",
       "    </tr>\n",
       "    <tr>\n",
       "      <th>max</th>\n",
       "      <td>17.000000</td>\n",
       "      <td>199.000000</td>\n",
       "      <td>122.000000</td>\n",
       "      <td>99.000000</td>\n",
       "      <td>846.000000</td>\n",
       "      <td>67.100000</td>\n",
       "      <td>2.420000</td>\n",
       "      <td>81.000000</td>\n",
       "      <td>1.000000</td>\n",
       "    </tr>\n",
       "  </tbody>\n",
       "</table>\n",
       "</div>"
      ],
      "text/plain": [
       "       Pregnancies     Glucose  BloodPressure  SkinThickness     Insulin  \\\n",
       "count   806.000000  727.000000     727.000000     806.000000  806.000000   \n",
       "mean      3.815136  120.616231      69.056396      20.682382   80.548387   \n",
       "std       3.344311   32.374060      19.135615      15.844222  114.901360   \n",
       "min       0.000000    0.000000       0.000000       0.000000    0.000000   \n",
       "25%       1.000000   99.000000      62.000000       0.000000    0.000000   \n",
       "50%       3.000000  117.000000      72.000000      23.000000   37.000000   \n",
       "75%       6.000000  140.000000      80.000000      32.000000  128.750000   \n",
       "max      17.000000  199.000000     122.000000      99.000000  846.000000   \n",
       "\n",
       "              BMI  DiabetesPedigreeFunction         Age     Outcome  \n",
       "count  806.000000                806.000000  806.000000  806.000000  \n",
       "mean    31.930025                  0.468635   33.166253    0.348635  \n",
       "std      7.976834                  0.333260   11.763916    0.476834  \n",
       "min      0.000000                  0.078000   21.000000    0.000000  \n",
       "25%     27.200000                  0.240250   24.000000    0.000000  \n",
       "50%     32.000000                  0.365500   29.000000    0.000000  \n",
       "75%     36.575000                  0.613750   41.000000    1.000000  \n",
       "max     67.100000                  2.420000   81.000000    1.000000  "
      ]
     },
     "execution_count": 14,
     "metadata": {},
     "output_type": "execute_result"
    }
   ],
   "source": [
    "df.describe() #jika data categorical \"string\" bisa gunakan bar plot"
   ]
  },
  {
   "cell_type": "markdown",
   "id": "8ae7d5c1",
   "metadata": {
    "ExecuteTime": {
     "end_time": "2024-06-05T07:19:42.829286Z",
     "start_time": "2024-06-05T07:19:42.811144Z"
    }
   },
   "source": [
    "dapat dilihat range nilai data dari tiap attribut dan dapat juga untuk melihat outlier"
   ]
  },
  {
   "cell_type": "markdown",
   "id": "e123ddb0",
   "metadata": {},
   "source": [
    "### Cek data outlier (box plot)"
   ]
  },
  {
   "cell_type": "code",
   "execution_count": 15,
   "id": "7ac95f6c",
   "metadata": {
    "ExecuteTime": {
     "end_time": "2024-06-08T04:10:00.588614Z",
     "start_time": "2024-06-08T04:10:00.226369Z"
    }
   },
   "outputs": [
    {
     "data": {
      "image/png": "[encoded data removed]",
      "text/plain": [
       "<Figure size 720x432 with 1 Axes>"
      ]
     },
     "metadata": {
      "needs_background": "light"
     },
     "output_type": "display_data"
    }
   ],
   "source": [
    "# Membuat boxplot untuk setiap kolom\n",
    "plt.figure(figsize=(10, 6))\n",
    "sns.boxplot(data=df.values)\n",
    "plt.title('Boxplot Semua Kolom')\n",
    "plt.show()"
   ]
  },
  {
   "cell_type": "code",
   "execution_count": 16,
   "id": "39d54fe2",
   "metadata": {
    "ExecuteTime": {
     "end_time": "2024-06-08T04:10:01.397562Z",
     "start_time": "2024-06-08T04:10:01.213350Z"
    }
   },
   "outputs": [
    {
     "data": {
      "image/png": "[encoded data removed]",
      "text/plain": [
       "<Figure size 720x432 with 1 Axes>"
      ]
     },
     "metadata": {
      "needs_background": "light"
     },
     "output_type": "display_data"
    }
   ],
   "source": [
    "# Membuat boxplot untuk setiap kolom\n",
    "plt.figure(figsize=(10, 6))\n",
    "sns.boxplot(data=df['Insulin'].values)\n",
    "plt.title('Boxplot Sample Kolom')\n",
    "plt.show()"
   ]
  },
  {
   "cell_type": "markdown",
   "id": "1b3ab992",
   "metadata": {},
   "source": [
    "# Preprocessing "
   ]
  },
  {
   "cell_type": "markdown",
   "id": "3eda7dc4",
   "metadata": {
    "ExecuteTime": {
     "end_time": "2024-06-08T03:31:50.495621Z",
     "start_time": "2024-06-08T03:31:50.475235Z"
    }
   },
   "source": [
    "<img src=\"https://cdn.letterdrop.co/pictures/fe3db832-862f-4a35-be7c-37231ad814bb.png\">"
   ]
  },
  {
   "cell_type": "markdown",
   "id": "8be80051",
   "metadata": {
    "ExecuteTime": {
     "end_time": "2024-05-22T03:03:32.006458Z",
     "start_time": "2024-05-22T03:03:31.992349Z"
    }
   },
   "source": [
    "Tahap ini melibatkan:\n",
    "\n",
    "    Membersihkan data dari nilai-nilai yang hilang dan outliers.\n",
    "    Transformasi variabel jika diperlukan (misalnya, normalisasi atau standaridasi).\n",
    "    Encoding variabel kategorikal.\n",
    "    Membagi dataset menjadi training dan testing set."
   ]
  },
  {
   "cell_type": "markdown",
   "id": "fc4aacdf",
   "metadata": {},
   "source": [
    "## Hapus Missing Value (NULL) "
   ]
  },
  {
   "cell_type": "code",
   "execution_count": 17,
   "id": "094233ba",
   "metadata": {
    "ExecuteTime": {
     "end_time": "2024-06-08T04:10:04.513868Z",
     "start_time": "2024-06-08T04:10:04.481663Z"
    }
   },
   "outputs": [
    {
     "data": {
      "text/html": [
       "<div>\n",
       "<style scoped>\n",
       "    .dataframe tbody tr th:only-of-type {\n",
       "        vertical-align: middle;\n",
       "    }\n",
       "\n",
       "    .dataframe tbody tr th {\n",
       "        vertical-align: top;\n",
       "    }\n",
       "\n",
       "    .dataframe thead th {\n",
       "        text-align: right;\n",
       "    }\n",
       "</style>\n",
       "<table border=\"1\" class=\"dataframe\">\n",
       "  <thead>\n",
       "    <tr style=\"text-align: right;\">\n",
       "      <th></th>\n",
       "      <th>Pregnancies</th>\n",
       "      <th>Glucose</th>\n",
       "      <th>BloodPressure</th>\n",
       "      <th>SkinThickness</th>\n",
       "      <th>Insulin</th>\n",
       "      <th>BMI</th>\n",
       "      <th>DiabetesPedigreeFunction</th>\n",
       "      <th>Age</th>\n",
       "      <th>Outcome</th>\n",
       "    </tr>\n",
       "  </thead>\n",
       "  <tbody>\n",
       "    <tr>\n",
       "      <th>0</th>\n",
       "      <td>6</td>\n",
       "      <td>148.0</td>\n",
       "      <td>72.0</td>\n",
       "      <td>35</td>\n",
       "      <td>0</td>\n",
       "      <td>33.6</td>\n",
       "      <td>0.627</td>\n",
       "      <td>50</td>\n",
       "      <td>1</td>\n",
       "    </tr>\n",
       "    <tr>\n",
       "      <th>1</th>\n",
       "      <td>1</td>\n",
       "      <td>85.0</td>\n",
       "      <td>66.0</td>\n",
       "      <td>29</td>\n",
       "      <td>0</td>\n",
       "      <td>26.6</td>\n",
       "      <td>0.351</td>\n",
       "      <td>31</td>\n",
       "      <td>0</td>\n",
       "    </tr>\n",
       "    <tr>\n",
       "      <th>2</th>\n",
       "      <td>8</td>\n",
       "      <td>183.0</td>\n",
       "      <td>64.0</td>\n",
       "      <td>0</td>\n",
       "      <td>0</td>\n",
       "      <td>23.3</td>\n",
       "      <td>0.672</td>\n",
       "      <td>32</td>\n",
       "      <td>1</td>\n",
       "    </tr>\n",
       "    <tr>\n",
       "      <th>3</th>\n",
       "      <td>1</td>\n",
       "      <td>89.0</td>\n",
       "      <td>66.0</td>\n",
       "      <td>23</td>\n",
       "      <td>94</td>\n",
       "      <td>28.1</td>\n",
       "      <td>0.167</td>\n",
       "      <td>21</td>\n",
       "      <td>0</td>\n",
       "    </tr>\n",
       "    <tr>\n",
       "      <th>4</th>\n",
       "      <td>0</td>\n",
       "      <td>137.0</td>\n",
       "      <td>40.0</td>\n",
       "      <td>35</td>\n",
       "      <td>168</td>\n",
       "      <td>43.1</td>\n",
       "      <td>2.288</td>\n",
       "      <td>33</td>\n",
       "      <td>1</td>\n",
       "    </tr>\n",
       "    <tr>\n",
       "      <th>...</th>\n",
       "      <td>...</td>\n",
       "      <td>...</td>\n",
       "      <td>...</td>\n",
       "      <td>...</td>\n",
       "      <td>...</td>\n",
       "      <td>...</td>\n",
       "      <td>...</td>\n",
       "      <td>...</td>\n",
       "      <td>...</td>\n",
       "    </tr>\n",
       "    <tr>\n",
       "      <th>722</th>\n",
       "      <td>1</td>\n",
       "      <td>128.0</td>\n",
       "      <td>82.0</td>\n",
       "      <td>17</td>\n",
       "      <td>183</td>\n",
       "      <td>27.5</td>\n",
       "      <td>0.115</td>\n",
       "      <td>22</td>\n",
       "      <td>0</td>\n",
       "    </tr>\n",
       "    <tr>\n",
       "      <th>723</th>\n",
       "      <td>1</td>\n",
       "      <td>103.0</td>\n",
       "      <td>80.0</td>\n",
       "      <td>11</td>\n",
       "      <td>82</td>\n",
       "      <td>19.4</td>\n",
       "      <td>0.491</td>\n",
       "      <td>22</td>\n",
       "      <td>0</td>\n",
       "    </tr>\n",
       "    <tr>\n",
       "      <th>724</th>\n",
       "      <td>5</td>\n",
       "      <td>136.0</td>\n",
       "      <td>84.0</td>\n",
       "      <td>41</td>\n",
       "      <td>88</td>\n",
       "      <td>35.0</td>\n",
       "      <td>0.286</td>\n",
       "      <td>35</td>\n",
       "      <td>1</td>\n",
       "    </tr>\n",
       "    <tr>\n",
       "      <th>725</th>\n",
       "      <td>0</td>\n",
       "      <td>137.0</td>\n",
       "      <td>40.0</td>\n",
       "      <td>35</td>\n",
       "      <td>168</td>\n",
       "      <td>43.1</td>\n",
       "      <td>2.288</td>\n",
       "      <td>33</td>\n",
       "      <td>1</td>\n",
       "    </tr>\n",
       "    <tr>\n",
       "      <th>726</th>\n",
       "      <td>0</td>\n",
       "      <td>124.0</td>\n",
       "      <td>56.0</td>\n",
       "      <td>13</td>\n",
       "      <td>105</td>\n",
       "      <td>21.8</td>\n",
       "      <td>0.452</td>\n",
       "      <td>21</td>\n",
       "      <td>0</td>\n",
       "    </tr>\n",
       "  </tbody>\n",
       "</table>\n",
       "<p>727 rows × 9 columns</p>\n",
       "</div>"
      ],
      "text/plain": [
       "     Pregnancies  Glucose  BloodPressure  SkinThickness  Insulin   BMI  \\\n",
       "0              6    148.0           72.0             35        0  33.6   \n",
       "1              1     85.0           66.0             29        0  26.6   \n",
       "2              8    183.0           64.0              0        0  23.3   \n",
       "3              1     89.0           66.0             23       94  28.1   \n",
       "4              0    137.0           40.0             35      168  43.1   \n",
       "..           ...      ...            ...            ...      ...   ...   \n",
       "722            1    128.0           82.0             17      183  27.5   \n",
       "723            1    103.0           80.0             11       82  19.4   \n",
       "724            5    136.0           84.0             41       88  35.0   \n",
       "725            0    137.0           40.0             35      168  43.1   \n",
       "726            0    124.0           56.0             13      105  21.8   \n",
       "\n",
       "     DiabetesPedigreeFunction  Age  Outcome  \n",
       "0                       0.627   50        1  \n",
       "1                       0.351   31        0  \n",
       "2                       0.672   32        1  \n",
       "3                       0.167   21        0  \n",
       "4                       2.288   33        1  \n",
       "..                        ...  ...      ...  \n",
       "722                     0.115   22        0  \n",
       "723                     0.491   22        0  \n",
       "724                     0.286   35        1  \n",
       "725                     2.288   33        1  \n",
       "726                     0.452   21        0  \n",
       "\n",
       "[727 rows x 9 columns]"
      ]
     },
     "execution_count": 17,
     "metadata": {},
     "output_type": "execute_result"
    }
   ],
   "source": [
    "df_no_null = df.dropna()\n",
    "df_no_null_reset = df_no_null.reset_index(drop=True)\n",
    "df_no_null_reset"
   ]
  },
  {
   "cell_type": "markdown",
   "id": "73b654f0",
   "metadata": {},
   "source": [
    "jumlah data berkurang dari 806 ke 727"
   ]
  },
  {
   "cell_type": "markdown",
   "id": "6e244fdf",
   "metadata": {},
   "source": [
    "## Hapus Duplikat"
   ]
  },
  {
   "cell_type": "code",
   "execution_count": 18,
   "id": "626ce119",
   "metadata": {
    "ExecuteTime": {
     "end_time": "2024-06-08T04:10:08.518555Z",
     "start_time": "2024-06-08T04:10:08.481075Z"
    }
   },
   "outputs": [
    {
     "data": {
      "text/html": [
       "<div>\n",
       "<style scoped>\n",
       "    .dataframe tbody tr th:only-of-type {\n",
       "        vertical-align: middle;\n",
       "    }\n",
       "\n",
       "    .dataframe tbody tr th {\n",
       "        vertical-align: top;\n",
       "    }\n",
       "\n",
       "    .dataframe thead th {\n",
       "        text-align: right;\n",
       "    }\n",
       "</style>\n",
       "<table border=\"1\" class=\"dataframe\">\n",
       "  <thead>\n",
       "    <tr style=\"text-align: right;\">\n",
       "      <th></th>\n",
       "      <th>Pregnancies</th>\n",
       "      <th>Glucose</th>\n",
       "      <th>BloodPressure</th>\n",
       "      <th>SkinThickness</th>\n",
       "      <th>Insulin</th>\n",
       "      <th>BMI</th>\n",
       "      <th>DiabetesPedigreeFunction</th>\n",
       "      <th>Age</th>\n",
       "      <th>Outcome</th>\n",
       "    </tr>\n",
       "  </thead>\n",
       "  <tbody>\n",
       "    <tr>\n",
       "      <th>0</th>\n",
       "      <td>6</td>\n",
       "      <td>148.0</td>\n",
       "      <td>72.0</td>\n",
       "      <td>35</td>\n",
       "      <td>0</td>\n",
       "      <td>33.6</td>\n",
       "      <td>0.627</td>\n",
       "      <td>50</td>\n",
       "      <td>1</td>\n",
       "    </tr>\n",
       "    <tr>\n",
       "      <th>1</th>\n",
       "      <td>1</td>\n",
       "      <td>85.0</td>\n",
       "      <td>66.0</td>\n",
       "      <td>29</td>\n",
       "      <td>0</td>\n",
       "      <td>26.6</td>\n",
       "      <td>0.351</td>\n",
       "      <td>31</td>\n",
       "      <td>0</td>\n",
       "    </tr>\n",
       "    <tr>\n",
       "      <th>2</th>\n",
       "      <td>8</td>\n",
       "      <td>183.0</td>\n",
       "      <td>64.0</td>\n",
       "      <td>0</td>\n",
       "      <td>0</td>\n",
       "      <td>23.3</td>\n",
       "      <td>0.672</td>\n",
       "      <td>32</td>\n",
       "      <td>1</td>\n",
       "    </tr>\n",
       "    <tr>\n",
       "      <th>3</th>\n",
       "      <td>1</td>\n",
       "      <td>89.0</td>\n",
       "      <td>66.0</td>\n",
       "      <td>23</td>\n",
       "      <td>94</td>\n",
       "      <td>28.1</td>\n",
       "      <td>0.167</td>\n",
       "      <td>21</td>\n",
       "      <td>0</td>\n",
       "    </tr>\n",
       "    <tr>\n",
       "      <th>4</th>\n",
       "      <td>0</td>\n",
       "      <td>137.0</td>\n",
       "      <td>40.0</td>\n",
       "      <td>35</td>\n",
       "      <td>168</td>\n",
       "      <td>43.1</td>\n",
       "      <td>2.288</td>\n",
       "      <td>33</td>\n",
       "      <td>1</td>\n",
       "    </tr>\n",
       "    <tr>\n",
       "      <th>...</th>\n",
       "      <td>...</td>\n",
       "      <td>...</td>\n",
       "      <td>...</td>\n",
       "      <td>...</td>\n",
       "      <td>...</td>\n",
       "      <td>...</td>\n",
       "      <td>...</td>\n",
       "      <td>...</td>\n",
       "      <td>...</td>\n",
       "    </tr>\n",
       "    <tr>\n",
       "      <th>687</th>\n",
       "      <td>9</td>\n",
       "      <td>89.0</td>\n",
       "      <td>62.0</td>\n",
       "      <td>0</td>\n",
       "      <td>0</td>\n",
       "      <td>22.5</td>\n",
       "      <td>0.142</td>\n",
       "      <td>33</td>\n",
       "      <td>0</td>\n",
       "    </tr>\n",
       "    <tr>\n",
       "      <th>688</th>\n",
       "      <td>10</td>\n",
       "      <td>101.0</td>\n",
       "      <td>76.0</td>\n",
       "      <td>48</td>\n",
       "      <td>180</td>\n",
       "      <td>32.9</td>\n",
       "      <td>0.171</td>\n",
       "      <td>63</td>\n",
       "      <td>0</td>\n",
       "    </tr>\n",
       "    <tr>\n",
       "      <th>689</th>\n",
       "      <td>5</td>\n",
       "      <td>121.0</td>\n",
       "      <td>72.0</td>\n",
       "      <td>23</td>\n",
       "      <td>112</td>\n",
       "      <td>26.2</td>\n",
       "      <td>0.245</td>\n",
       "      <td>30</td>\n",
       "      <td>0</td>\n",
       "    </tr>\n",
       "    <tr>\n",
       "      <th>690</th>\n",
       "      <td>1</td>\n",
       "      <td>126.0</td>\n",
       "      <td>60.0</td>\n",
       "      <td>0</td>\n",
       "      <td>0</td>\n",
       "      <td>30.1</td>\n",
       "      <td>0.349</td>\n",
       "      <td>47</td>\n",
       "      <td>1</td>\n",
       "    </tr>\n",
       "    <tr>\n",
       "      <th>691</th>\n",
       "      <td>1</td>\n",
       "      <td>93.0</td>\n",
       "      <td>70.0</td>\n",
       "      <td>31</td>\n",
       "      <td>0</td>\n",
       "      <td>30.4</td>\n",
       "      <td>0.315</td>\n",
       "      <td>23</td>\n",
       "      <td>0</td>\n",
       "    </tr>\n",
       "  </tbody>\n",
       "</table>\n",
       "<p>692 rows × 9 columns</p>\n",
       "</div>"
      ],
      "text/plain": [
       "     Pregnancies  Glucose  BloodPressure  SkinThickness  Insulin   BMI  \\\n",
       "0              6    148.0           72.0             35        0  33.6   \n",
       "1              1     85.0           66.0             29        0  26.6   \n",
       "2              8    183.0           64.0              0        0  23.3   \n",
       "3              1     89.0           66.0             23       94  28.1   \n",
       "4              0    137.0           40.0             35      168  43.1   \n",
       "..           ...      ...            ...            ...      ...   ...   \n",
       "687            9     89.0           62.0              0        0  22.5   \n",
       "688           10    101.0           76.0             48      180  32.9   \n",
       "689            5    121.0           72.0             23      112  26.2   \n",
       "690            1    126.0           60.0              0        0  30.1   \n",
       "691            1     93.0           70.0             31        0  30.4   \n",
       "\n",
       "     DiabetesPedigreeFunction  Age  Outcome  \n",
       "0                       0.627   50        1  \n",
       "1                       0.351   31        0  \n",
       "2                       0.672   32        1  \n",
       "3                       0.167   21        0  \n",
       "4                       2.288   33        1  \n",
       "..                        ...  ...      ...  \n",
       "687                     0.142   33        0  \n",
       "688                     0.171   63        0  \n",
       "689                     0.245   30        0  \n",
       "690                     0.349   47        1  \n",
       "691                     0.315   23        0  \n",
       "\n",
       "[692 rows x 9 columns]"
      ]
     },
     "execution_count": 18,
     "metadata": {},
     "output_type": "execute_result"
    }
   ],
   "source": [
    "df_no_duplicates = df_no_null_reset.drop_duplicates()\n",
    "df_no_duplicates_reset = df_no_duplicates.reset_index(drop=True)\n",
    "df_no_duplicates_reset"
   ]
  },
  {
   "cell_type": "markdown",
   "id": "db8eb070",
   "metadata": {},
   "source": [
    "setelah dihapus duplikasi berkurang dari 727 ke 692"
   ]
  },
  {
   "cell_type": "markdown",
   "id": "b5778f4a",
   "metadata": {},
   "source": [
    "## Hapus outlier (IQR)"
   ]
  },
  {
   "cell_type": "markdown",
   "id": "b89933da",
   "metadata": {},
   "source": [
    "IQR adalah singkatan dari Interquartile Range, yaitu rentang antar kuartil. IQR adalah ukuran statistik yang digunakan untuk menggambarkan penyebaran tengah dalam kumpulan data dan sering digunakan untuk mengidentifikasi outlier.\n",
    "\n",
    "<b>Rumus IQR</b>\n",
    "\n",
    "IQR adalah selisih antara kuartil ketiga (Q3) dan kuartil pertama (Q1) dalam dataset. Kuartil adalah nilai yang membagi data yang diurutkan menjadi empat bagian yang sama besar.\n",
    "\n",
    "    Q1 (Kuartil Pertama): Nilai di bawah 25% dari data terletak.\n",
    "    Q3 (Kuartil Ketiga): Nilai di bawah 75% dari data terletak.\n",
    "    IQR (Interquartile Range): Dihitung sebagai Q3 - Q1."
   ]
  },
  {
   "cell_type": "code",
   "execution_count": 19,
   "id": "3acc7e84",
   "metadata": {
    "ExecuteTime": {
     "end_time": "2024-06-08T04:10:13.357447Z",
     "start_time": "2024-06-08T04:10:13.294247Z"
    }
   },
   "outputs": [
    {
     "name": "stdout",
     "output_type": "stream",
     "text": [
      "Data setelah menghapus outlier:\n"
     ]
    },
    {
     "data": {
      "text/html": [
       "<div>\n",
       "<style scoped>\n",
       "    .dataframe tbody tr th:only-of-type {\n",
       "        vertical-align: middle;\n",
       "    }\n",
       "\n",
       "    .dataframe tbody tr th {\n",
       "        vertical-align: top;\n",
       "    }\n",
       "\n",
       "    .dataframe thead th {\n",
       "        text-align: right;\n",
       "    }\n",
       "</style>\n",
       "<table border=\"1\" class=\"dataframe\">\n",
       "  <thead>\n",
       "    <tr style=\"text-align: right;\">\n",
       "      <th></th>\n",
       "      <th>Pregnancies</th>\n",
       "      <th>Glucose</th>\n",
       "      <th>BloodPressure</th>\n",
       "      <th>SkinThickness</th>\n",
       "      <th>Insulin</th>\n",
       "      <th>BMI</th>\n",
       "      <th>DiabetesPedigreeFunction</th>\n",
       "      <th>Age</th>\n",
       "      <th>Outcome</th>\n",
       "    </tr>\n",
       "  </thead>\n",
       "  <tbody>\n",
       "    <tr>\n",
       "      <th>0</th>\n",
       "      <td>6</td>\n",
       "      <td>148.0</td>\n",
       "      <td>72.0</td>\n",
       "      <td>35</td>\n",
       "      <td>0</td>\n",
       "      <td>33.6</td>\n",
       "      <td>0.627</td>\n",
       "      <td>50</td>\n",
       "      <td>1</td>\n",
       "    </tr>\n",
       "    <tr>\n",
       "      <th>1</th>\n",
       "      <td>1</td>\n",
       "      <td>85.0</td>\n",
       "      <td>66.0</td>\n",
       "      <td>29</td>\n",
       "      <td>0</td>\n",
       "      <td>26.6</td>\n",
       "      <td>0.351</td>\n",
       "      <td>31</td>\n",
       "      <td>0</td>\n",
       "    </tr>\n",
       "    <tr>\n",
       "      <th>2</th>\n",
       "      <td>8</td>\n",
       "      <td>183.0</td>\n",
       "      <td>64.0</td>\n",
       "      <td>0</td>\n",
       "      <td>0</td>\n",
       "      <td>23.3</td>\n",
       "      <td>0.672</td>\n",
       "      <td>32</td>\n",
       "      <td>1</td>\n",
       "    </tr>\n",
       "    <tr>\n",
       "      <th>3</th>\n",
       "      <td>1</td>\n",
       "      <td>89.0</td>\n",
       "      <td>66.0</td>\n",
       "      <td>23</td>\n",
       "      <td>94</td>\n",
       "      <td>28.1</td>\n",
       "      <td>0.167</td>\n",
       "      <td>21</td>\n",
       "      <td>0</td>\n",
       "    </tr>\n",
       "    <tr>\n",
       "      <th>5</th>\n",
       "      <td>5</td>\n",
       "      <td>116.0</td>\n",
       "      <td>74.0</td>\n",
       "      <td>0</td>\n",
       "      <td>0</td>\n",
       "      <td>25.6</td>\n",
       "      <td>0.201</td>\n",
       "      <td>30</td>\n",
       "      <td>0</td>\n",
       "    </tr>\n",
       "    <tr>\n",
       "      <th>...</th>\n",
       "      <td>...</td>\n",
       "      <td>...</td>\n",
       "      <td>...</td>\n",
       "      <td>...</td>\n",
       "      <td>...</td>\n",
       "      <td>...</td>\n",
       "      <td>...</td>\n",
       "      <td>...</td>\n",
       "      <td>...</td>\n",
       "    </tr>\n",
       "    <tr>\n",
       "      <th>687</th>\n",
       "      <td>9</td>\n",
       "      <td>89.0</td>\n",
       "      <td>62.0</td>\n",
       "      <td>0</td>\n",
       "      <td>0</td>\n",
       "      <td>22.5</td>\n",
       "      <td>0.142</td>\n",
       "      <td>33</td>\n",
       "      <td>0</td>\n",
       "    </tr>\n",
       "    <tr>\n",
       "      <th>688</th>\n",
       "      <td>10</td>\n",
       "      <td>101.0</td>\n",
       "      <td>76.0</td>\n",
       "      <td>48</td>\n",
       "      <td>180</td>\n",
       "      <td>32.9</td>\n",
       "      <td>0.171</td>\n",
       "      <td>63</td>\n",
       "      <td>0</td>\n",
       "    </tr>\n",
       "    <tr>\n",
       "      <th>689</th>\n",
       "      <td>5</td>\n",
       "      <td>121.0</td>\n",
       "      <td>72.0</td>\n",
       "      <td>23</td>\n",
       "      <td>112</td>\n",
       "      <td>26.2</td>\n",
       "      <td>0.245</td>\n",
       "      <td>30</td>\n",
       "      <td>0</td>\n",
       "    </tr>\n",
       "    <tr>\n",
       "      <th>690</th>\n",
       "      <td>1</td>\n",
       "      <td>126.0</td>\n",
       "      <td>60.0</td>\n",
       "      <td>0</td>\n",
       "      <td>0</td>\n",
       "      <td>30.1</td>\n",
       "      <td>0.349</td>\n",
       "      <td>47</td>\n",
       "      <td>1</td>\n",
       "    </tr>\n",
       "    <tr>\n",
       "      <th>691</th>\n",
       "      <td>1</td>\n",
       "      <td>93.0</td>\n",
       "      <td>70.0</td>\n",
       "      <td>31</td>\n",
       "      <td>0</td>\n",
       "      <td>30.4</td>\n",
       "      <td>0.315</td>\n",
       "      <td>23</td>\n",
       "      <td>0</td>\n",
       "    </tr>\n",
       "  </tbody>\n",
       "</table>\n",
       "<p>574 rows × 9 columns</p>\n",
       "</div>"
      ],
      "text/plain": [
       "     Pregnancies  Glucose  BloodPressure  SkinThickness  Insulin   BMI  \\\n",
       "0              6    148.0           72.0             35        0  33.6   \n",
       "1              1     85.0           66.0             29        0  26.6   \n",
       "2              8    183.0           64.0              0        0  23.3   \n",
       "3              1     89.0           66.0             23       94  28.1   \n",
       "5              5    116.0           74.0              0        0  25.6   \n",
       "..           ...      ...            ...            ...      ...   ...   \n",
       "687            9     89.0           62.0              0        0  22.5   \n",
       "688           10    101.0           76.0             48      180  32.9   \n",
       "689            5    121.0           72.0             23      112  26.2   \n",
       "690            1    126.0           60.0              0        0  30.1   \n",
       "691            1     93.0           70.0             31        0  30.4   \n",
       "\n",
       "     DiabetesPedigreeFunction  Age  Outcome  \n",
       "0                       0.627   50        1  \n",
       "1                       0.351   31        0  \n",
       "2                       0.672   32        1  \n",
       "3                       0.167   21        0  \n",
       "5                       0.201   30        0  \n",
       "..                        ...  ...      ...  \n",
       "687                     0.142   33        0  \n",
       "688                     0.171   63        0  \n",
       "689                     0.245   30        0  \n",
       "690                     0.349   47        1  \n",
       "691                     0.315   23        0  \n",
       "\n",
       "[574 rows x 9 columns]"
      ]
     },
     "execution_count": 19,
     "metadata": {},
     "output_type": "execute_result"
    }
   ],
   "source": [
    "# Mendefinisikan fungsi untuk menghapus outlier menggunakan IQR\n",
    "def remove_outliers_iqr(df):\n",
    "    Q1 = df.quantile(0.25)\n",
    "    Q3 = df.quantile(0.75)\n",
    "    IQR = Q3 - Q1\n",
    "    lower_bound = Q1 - 1.5 * IQR\n",
    "    upper_bound = Q3 + 1.5 * IQR\n",
    "    \n",
    "    # Memfilter data yang berada dalam rentang [lower_bound, upper_bound]\n",
    "    df_cleaned = df[~((df < lower_bound) | (df > upper_bound)).any(axis=1)]\n",
    "    return df_cleaned\n",
    "\n",
    "# Menghapus outlier\n",
    "df_cleaned = remove_outliers_iqr(df_no_duplicates_reset)\n",
    "\n",
    "print(\"Data setelah menghapus outlier:\")\n",
    "df_cleaned"
   ]
  },
  {
   "cell_type": "code",
   "execution_count": 20,
   "id": "3b96ebef",
   "metadata": {
    "ExecuteTime": {
     "end_time": "2024-06-08T04:10:16.833865Z",
     "start_time": "2024-06-08T04:10:16.422367Z"
    }
   },
   "outputs": [
    {
     "data": {
      "image/png": "[encoded data removed]",
      "text/plain": [
       "<Figure size 720x432 with 1 Axes>"
      ]
     },
     "metadata": {
      "needs_background": "light"
     },
     "output_type": "display_data"
    }
   ],
   "source": [
    "# Visualisasi data setelah menghapus outliers dengan boxplot\n",
    "plt.figure(figsize=(10, 6))\n",
    "sns.boxplot(data=df_cleaned.values)\n",
    "plt.title('Boxplot Setelah Menghapus Outliers')\n",
    "plt.show()"
   ]
  },
  {
   "cell_type": "code",
   "execution_count": 21,
   "id": "baec3f30",
   "metadata": {
    "ExecuteTime": {
     "end_time": "2024-06-08T04:10:18.895645Z",
     "start_time": "2024-06-08T04:10:18.706514Z"
    }
   },
   "outputs": [
    {
     "data": {
      "image/png": "[encoded data removed]",
      "text/plain": [
       "<Figure size 720x432 with 1 Axes>"
      ]
     },
     "metadata": {
      "needs_background": "light"
     },
     "output_type": "display_data"
    }
   ],
   "source": [
    "# Membuat boxplot untuk setiap kolom\n",
    "plt.figure(figsize=(10, 6))\n",
    "sns.boxplot(data=df_cleaned['Insulin'].values)\n",
    "plt.title('Boxplot Sample Kolom')\n",
    "plt.show()"
   ]
  },
  {
   "cell_type": "code",
   "execution_count": 22,
   "id": "119b0b75",
   "metadata": {
    "ExecuteTime": {
     "end_time": "2024-06-08T04:10:27.086997Z",
     "start_time": "2024-06-08T04:10:27.033504Z"
    }
   },
   "outputs": [
    {
     "data": {
      "text/html": [
       "<div>\n",
       "<style scoped>\n",
       "    .dataframe tbody tr th:only-of-type {\n",
       "        vertical-align: middle;\n",
       "    }\n",
       "\n",
       "    .dataframe tbody tr th {\n",
       "        vertical-align: top;\n",
       "    }\n",
       "\n",
       "    .dataframe thead th {\n",
       "        text-align: right;\n",
       "    }\n",
       "</style>\n",
       "<table border=\"1\" class=\"dataframe\">\n",
       "  <thead>\n",
       "    <tr style=\"text-align: right;\">\n",
       "      <th></th>\n",
       "      <th>Pregnancies</th>\n",
       "      <th>Glucose</th>\n",
       "      <th>BloodPressure</th>\n",
       "      <th>SkinThickness</th>\n",
       "      <th>Insulin</th>\n",
       "      <th>BMI</th>\n",
       "      <th>DiabetesPedigreeFunction</th>\n",
       "      <th>Age</th>\n",
       "      <th>Outcome</th>\n",
       "    </tr>\n",
       "  </thead>\n",
       "  <tbody>\n",
       "    <tr>\n",
       "      <th>count</th>\n",
       "      <td>574.000000</td>\n",
       "      <td>574.000000</td>\n",
       "      <td>574.000000</td>\n",
       "      <td>574.000000</td>\n",
       "      <td>574.000000</td>\n",
       "      <td>574.000000</td>\n",
       "      <td>574.000000</td>\n",
       "      <td>574.000000</td>\n",
       "      <td>574.000000</td>\n",
       "    </tr>\n",
       "    <tr>\n",
       "      <th>mean</th>\n",
       "      <td>3.738676</td>\n",
       "      <td>119.102787</td>\n",
       "      <td>72.038328</td>\n",
       "      <td>20.735192</td>\n",
       "      <td>67.287456</td>\n",
       "      <td>32.086411</td>\n",
       "      <td>0.430878</td>\n",
       "      <td>32.052265</td>\n",
       "      <td>0.317073</td>\n",
       "    </tr>\n",
       "    <tr>\n",
       "      <th>std</th>\n",
       "      <td>3.231823</td>\n",
       "      <td>29.023819</td>\n",
       "      <td>11.397250</td>\n",
       "      <td>15.371930</td>\n",
       "      <td>79.431285</td>\n",
       "      <td>6.460844</td>\n",
       "      <td>0.248712</td>\n",
       "      <td>10.288206</td>\n",
       "      <td>0.465742</td>\n",
       "    </tr>\n",
       "    <tr>\n",
       "      <th>min</th>\n",
       "      <td>0.000000</td>\n",
       "      <td>44.000000</td>\n",
       "      <td>38.000000</td>\n",
       "      <td>0.000000</td>\n",
       "      <td>0.000000</td>\n",
       "      <td>18.200000</td>\n",
       "      <td>0.078000</td>\n",
       "      <td>21.000000</td>\n",
       "      <td>0.000000</td>\n",
       "    </tr>\n",
       "    <tr>\n",
       "      <th>25%</th>\n",
       "      <td>1.000000</td>\n",
       "      <td>99.000000</td>\n",
       "      <td>64.000000</td>\n",
       "      <td>0.000000</td>\n",
       "      <td>0.000000</td>\n",
       "      <td>27.300000</td>\n",
       "      <td>0.244250</td>\n",
       "      <td>24.000000</td>\n",
       "      <td>0.000000</td>\n",
       "    </tr>\n",
       "    <tr>\n",
       "      <th>50%</th>\n",
       "      <td>3.000000</td>\n",
       "      <td>114.500000</td>\n",
       "      <td>72.000000</td>\n",
       "      <td>23.000000</td>\n",
       "      <td>44.000000</td>\n",
       "      <td>32.000000</td>\n",
       "      <td>0.367000</td>\n",
       "      <td>29.000000</td>\n",
       "      <td>0.000000</td>\n",
       "    </tr>\n",
       "    <tr>\n",
       "      <th>75%</th>\n",
       "      <td>6.000000</td>\n",
       "      <td>136.000000</td>\n",
       "      <td>80.000000</td>\n",
       "      <td>32.000000</td>\n",
       "      <td>120.000000</td>\n",
       "      <td>36.100000</td>\n",
       "      <td>0.587000</td>\n",
       "      <td>39.000000</td>\n",
       "      <td>1.000000</td>\n",
       "    </tr>\n",
       "    <tr>\n",
       "      <th>max</th>\n",
       "      <td>13.000000</td>\n",
       "      <td>198.000000</td>\n",
       "      <td>106.000000</td>\n",
       "      <td>60.000000</td>\n",
       "      <td>321.000000</td>\n",
       "      <td>50.000000</td>\n",
       "      <td>1.191000</td>\n",
       "      <td>64.000000</td>\n",
       "      <td>1.000000</td>\n",
       "    </tr>\n",
       "  </tbody>\n",
       "</table>\n",
       "</div>"
      ],
      "text/plain": [
       "       Pregnancies     Glucose  BloodPressure  SkinThickness     Insulin  \\\n",
       "count   574.000000  574.000000     574.000000     574.000000  574.000000   \n",
       "mean      3.738676  119.102787      72.038328      20.735192   67.287456   \n",
       "std       3.231823   29.023819      11.397250      15.371930   79.431285   \n",
       "min       0.000000   44.000000      38.000000       0.000000    0.000000   \n",
       "25%       1.000000   99.000000      64.000000       0.000000    0.000000   \n",
       "50%       3.000000  114.500000      72.000000      23.000000   44.000000   \n",
       "75%       6.000000  136.000000      80.000000      32.000000  120.000000   \n",
       "max      13.000000  198.000000     106.000000      60.000000  321.000000   \n",
       "\n",
       "              BMI  DiabetesPedigreeFunction         Age     Outcome  \n",
       "count  574.000000                574.000000  574.000000  574.000000  \n",
       "mean    32.086411                  0.430878   32.052265    0.317073  \n",
       "std      6.460844                  0.248712   10.288206    0.465742  \n",
       "min     18.200000                  0.078000   21.000000    0.000000  \n",
       "25%     27.300000                  0.244250   24.000000    0.000000  \n",
       "50%     32.000000                  0.367000   29.000000    0.000000  \n",
       "75%     36.100000                  0.587000   39.000000    1.000000  \n",
       "max     50.000000                  1.191000   64.000000    1.000000  "
      ]
     },
     "execution_count": 22,
     "metadata": {},
     "output_type": "execute_result"
    }
   ],
   "source": [
    "df_cleaned.describe()"
   ]
  },
  {
   "cell_type": "markdown",
   "id": "f8c442ce",
   "metadata": {},
   "source": [
    "## Cleaning out range.\n",
    "Bisa dengan menghapus, median, mean"
   ]
  },
  {
   "cell_type": "code",
   "execution_count": 23,
   "id": "06c56be5",
   "metadata": {
    "ExecuteTime": {
     "end_time": "2024-06-08T04:10:34.978862Z",
     "start_time": "2024-06-08T04:10:34.928608Z"
    }
   },
   "outputs": [
    {
     "data": {
      "text/html": [
       "<div>\n",
       "<style scoped>\n",
       "    .dataframe tbody tr th:only-of-type {\n",
       "        vertical-align: middle;\n",
       "    }\n",
       "\n",
       "    .dataframe tbody tr th {\n",
       "        vertical-align: top;\n",
       "    }\n",
       "\n",
       "    .dataframe thead th {\n",
       "        text-align: right;\n",
       "    }\n",
       "</style>\n",
       "<table border=\"1\" class=\"dataframe\">\n",
       "  <thead>\n",
       "    <tr style=\"text-align: right;\">\n",
       "      <th></th>\n",
       "      <th>Pregnancies</th>\n",
       "      <th>Glucose</th>\n",
       "      <th>BloodPressure</th>\n",
       "      <th>SkinThickness</th>\n",
       "      <th>Insulin</th>\n",
       "      <th>BMI</th>\n",
       "      <th>DiabetesPedigreeFunction</th>\n",
       "      <th>Age</th>\n",
       "      <th>Outcome</th>\n",
       "    </tr>\n",
       "  </thead>\n",
       "  <tbody>\n",
       "    <tr>\n",
       "      <th>count</th>\n",
       "      <td>305.000000</td>\n",
       "      <td>305.000000</td>\n",
       "      <td>305.000000</td>\n",
       "      <td>305.000000</td>\n",
       "      <td>305.000000</td>\n",
       "      <td>305.000000</td>\n",
       "      <td>305.000000</td>\n",
       "      <td>305.000000</td>\n",
       "      <td>305.000000</td>\n",
       "    </tr>\n",
       "    <tr>\n",
       "      <th>mean</th>\n",
       "      <td>3.160656</td>\n",
       "      <td>119.439344</td>\n",
       "      <td>70.839344</td>\n",
       "      <td>28.580328</td>\n",
       "      <td>126.632787</td>\n",
       "      <td>32.404918</td>\n",
       "      <td>0.472210</td>\n",
       "      <td>30.101639</td>\n",
       "      <td>0.278689</td>\n",
       "    </tr>\n",
       "    <tr>\n",
       "      <th>std</th>\n",
       "      <td>3.005000</td>\n",
       "      <td>29.077886</td>\n",
       "      <td>11.525591</td>\n",
       "      <td>10.515071</td>\n",
       "      <td>65.973252</td>\n",
       "      <td>6.376732</td>\n",
       "      <td>0.247542</td>\n",
       "      <td>9.281392</td>\n",
       "      <td>0.449091</td>\n",
       "    </tr>\n",
       "    <tr>\n",
       "      <th>min</th>\n",
       "      <td>0.000000</td>\n",
       "      <td>56.000000</td>\n",
       "      <td>38.000000</td>\n",
       "      <td>8.000000</td>\n",
       "      <td>15.000000</td>\n",
       "      <td>18.200000</td>\n",
       "      <td>0.085000</td>\n",
       "      <td>21.000000</td>\n",
       "      <td>0.000000</td>\n",
       "    </tr>\n",
       "    <tr>\n",
       "      <th>25%</th>\n",
       "      <td>1.000000</td>\n",
       "      <td>99.000000</td>\n",
       "      <td>62.000000</td>\n",
       "      <td>20.000000</td>\n",
       "      <td>75.000000</td>\n",
       "      <td>27.500000</td>\n",
       "      <td>0.268000</td>\n",
       "      <td>23.000000</td>\n",
       "      <td>0.000000</td>\n",
       "    </tr>\n",
       "    <tr>\n",
       "      <th>50%</th>\n",
       "      <td>2.000000</td>\n",
       "      <td>116.000000</td>\n",
       "      <td>70.000000</td>\n",
       "      <td>28.000000</td>\n",
       "      <td>115.000000</td>\n",
       "      <td>32.900000</td>\n",
       "      <td>0.439000</td>\n",
       "      <td>26.000000</td>\n",
       "      <td>0.000000</td>\n",
       "    </tr>\n",
       "    <tr>\n",
       "      <th>75%</th>\n",
       "      <td>5.000000</td>\n",
       "      <td>136.000000</td>\n",
       "      <td>78.000000</td>\n",
       "      <td>36.000000</td>\n",
       "      <td>168.000000</td>\n",
       "      <td>36.500000</td>\n",
       "      <td>0.640000</td>\n",
       "      <td>35.000000</td>\n",
       "      <td>1.000000</td>\n",
       "    </tr>\n",
       "    <tr>\n",
       "      <th>max</th>\n",
       "      <td>13.000000</td>\n",
       "      <td>198.000000</td>\n",
       "      <td>106.000000</td>\n",
       "      <td>60.000000</td>\n",
       "      <td>321.000000</td>\n",
       "      <td>49.700000</td>\n",
       "      <td>1.189000</td>\n",
       "      <td>63.000000</td>\n",
       "      <td>1.000000</td>\n",
       "    </tr>\n",
       "  </tbody>\n",
       "</table>\n",
       "</div>"
      ],
      "text/plain": [
       "       Pregnancies     Glucose  BloodPressure  SkinThickness     Insulin  \\\n",
       "count   305.000000  305.000000     305.000000     305.000000  305.000000   \n",
       "mean      3.160656  119.439344      70.839344      28.580328  126.632787   \n",
       "std       3.005000   29.077886      11.525591      10.515071   65.973252   \n",
       "min       0.000000   56.000000      38.000000       8.000000   15.000000   \n",
       "25%       1.000000   99.000000      62.000000      20.000000   75.000000   \n",
       "50%       2.000000  116.000000      70.000000      28.000000  115.000000   \n",
       "75%       5.000000  136.000000      78.000000      36.000000  168.000000   \n",
       "max      13.000000  198.000000     106.000000      60.000000  321.000000   \n",
       "\n",
       "              BMI  DiabetesPedigreeFunction         Age     Outcome  \n",
       "count  305.000000                305.000000  305.000000  305.000000  \n",
       "mean    32.404918                  0.472210   30.101639    0.278689  \n",
       "std      6.376732                  0.247542    9.281392    0.449091  \n",
       "min     18.200000                  0.085000   21.000000    0.000000  \n",
       "25%     27.500000                  0.268000   23.000000    0.000000  \n",
       "50%     32.900000                  0.439000   26.000000    0.000000  \n",
       "75%     36.500000                  0.640000   35.000000    1.000000  \n",
       "max     49.700000                  1.189000   63.000000    1.000000  "
      ]
     },
     "execution_count": 23,
     "metadata": {},
     "output_type": "execute_result"
    }
   ],
   "source": [
    "# Hapus baris yang memiliki nilai 0 di kolom 'SkinThickness' dan 'Insulin'\n",
    "df_cleaned = df_cleaned[(df_cleaned['SkinThickness'] != 0) & (df_cleaned['Insulin'] != 0)]\n",
    "\n",
    "# Menampilkan deskripsi dari DataFrame setelah penghapusan\n",
    "df_cleaned.describe()"
   ]
  },
  {
   "cell_type": "markdown",
   "id": "d3ad5f10",
   "metadata": {},
   "source": [
    "data berkurang 574 jadi 305"
   ]
  },
  {
   "cell_type": "markdown",
   "id": "a4105688",
   "metadata": {},
   "source": [
    "## Susun ulang variable X dan y"
   ]
  },
  {
   "cell_type": "code",
   "execution_count": 24,
   "id": "544eb293",
   "metadata": {
    "ExecuteTime": {
     "end_time": "2024-06-08T04:11:13.379054Z",
     "start_time": "2024-06-08T04:11:13.350617Z"
    }
   },
   "outputs": [
    {
     "data": {
      "text/html": [
       "<div>\n",
       "<style scoped>\n",
       "    .dataframe tbody tr th:only-of-type {\n",
       "        vertical-align: middle;\n",
       "    }\n",
       "\n",
       "    .dataframe tbody tr th {\n",
       "        vertical-align: top;\n",
       "    }\n",
       "\n",
       "    .dataframe thead th {\n",
       "        text-align: right;\n",
       "    }\n",
       "</style>\n",
       "<table border=\"1\" class=\"dataframe\">\n",
       "  <thead>\n",
       "    <tr style=\"text-align: right;\">\n",
       "      <th></th>\n",
       "      <th>Pregnancies</th>\n",
       "      <th>Glucose</th>\n",
       "      <th>BloodPressure</th>\n",
       "      <th>SkinThickness</th>\n",
       "      <th>Insulin</th>\n",
       "      <th>BMI</th>\n",
       "      <th>DiabetesPedigreeFunction</th>\n",
       "      <th>Age</th>\n",
       "    </tr>\n",
       "  </thead>\n",
       "  <tbody>\n",
       "    <tr>\n",
       "      <th>3</th>\n",
       "      <td>1</td>\n",
       "      <td>89.0</td>\n",
       "      <td>66.0</td>\n",
       "      <td>23</td>\n",
       "      <td>94</td>\n",
       "      <td>28.1</td>\n",
       "      <td>0.167</td>\n",
       "      <td>21</td>\n",
       "    </tr>\n",
       "    <tr>\n",
       "      <th>6</th>\n",
       "      <td>3</td>\n",
       "      <td>78.0</td>\n",
       "      <td>50.0</td>\n",
       "      <td>32</td>\n",
       "      <td>88</td>\n",
       "      <td>31.0</td>\n",
       "      <td>0.248</td>\n",
       "      <td>26</td>\n",
       "    </tr>\n",
       "    <tr>\n",
       "      <th>14</th>\n",
       "      <td>5</td>\n",
       "      <td>166.0</td>\n",
       "      <td>72.0</td>\n",
       "      <td>19</td>\n",
       "      <td>175</td>\n",
       "      <td>25.8</td>\n",
       "      <td>0.587</td>\n",
       "      <td>51</td>\n",
       "    </tr>\n",
       "    <tr>\n",
       "      <th>16</th>\n",
       "      <td>0</td>\n",
       "      <td>118.0</td>\n",
       "      <td>84.0</td>\n",
       "      <td>47</td>\n",
       "      <td>230</td>\n",
       "      <td>45.8</td>\n",
       "      <td>0.551</td>\n",
       "      <td>31</td>\n",
       "    </tr>\n",
       "    <tr>\n",
       "      <th>19</th>\n",
       "      <td>1</td>\n",
       "      <td>115.0</td>\n",
       "      <td>70.0</td>\n",
       "      <td>30</td>\n",
       "      <td>96</td>\n",
       "      <td>34.6</td>\n",
       "      <td>0.529</td>\n",
       "      <td>32</td>\n",
       "    </tr>\n",
       "  </tbody>\n",
       "</table>\n",
       "</div>"
      ],
      "text/plain": [
       "    Pregnancies  Glucose  BloodPressure  SkinThickness  Insulin   BMI  \\\n",
       "3             1     89.0           66.0             23       94  28.1   \n",
       "6             3     78.0           50.0             32       88  31.0   \n",
       "14            5    166.0           72.0             19      175  25.8   \n",
       "16            0    118.0           84.0             47      230  45.8   \n",
       "19            1    115.0           70.0             30       96  34.6   \n",
       "\n",
       "    DiabetesPedigreeFunction  Age  \n",
       "3                      0.167   21  \n",
       "6                      0.248   26  \n",
       "14                     0.587   51  \n",
       "16                     0.551   31  \n",
       "19                     0.529   32  "
      ]
     },
     "execution_count": 24,
     "metadata": {},
     "output_type": "execute_result"
    }
   ],
   "source": [
    "X = df_cleaned.drop(columns=[\"Outcome\"])  # Mengambil semua kolom kecuali kolom \"label\"\n",
    "y = df_cleaned[\"Outcome\"]  # Mengambil kolom \"label\n",
    "\n",
    "X.head() #tampilkan contoh data"
   ]
  },
  {
   "cell_type": "markdown",
   "id": "113a9c68",
   "metadata": {},
   "source": [
    "## Split data"
   ]
  },
  {
   "cell_type": "markdown",
   "id": "e0458cad",
   "metadata": {
    "ExecuteTime": {
     "end_time": "2024-06-08T04:01:19.493671Z",
     "start_time": "2024-06-08T04:01:19.468791Z"
    }
   },
   "source": [
    "<img src=\"https://www.kdnuggets.com/wp-content/uploads/train_test_split.jpg\">"
   ]
  },
  {
   "cell_type": "code",
   "execution_count": 222,
   "id": "adb94568",
   "metadata": {
    "ExecuteTime": {
     "end_time": "2024-06-08T05:40:47.524619Z",
     "start_time": "2024-06-08T05:40:47.499556Z"
    }
   },
   "outputs": [
    {
     "name": "stdout",
     "output_type": "stream",
     "text": [
      "Train set: 244 samples\n",
      "Validation set: 30 samples\n",
      "Test set: 31 samples\n"
     ]
    }
   ],
   "source": [
    "# Split dataset\n",
    "# Membagi data menjadi train (70%) dan sementara (20%)\n",
    "X_train, X_temp, y_train, y_temp = train_test_split(X, y, test_size=0.2, random_state=42, stratify=y)\n",
    "\n",
    "# Membagi data sementara menjadi validation (50% dari 20% yaitu 10%) dan test (50% dari 20% yaitu 10%)\n",
    "X_val, X_test, y_val, y_test = train_test_split(X_temp, y_temp, test_size=0.5, random_state=42, stratify=y_temp)\n",
    "\n",
    "# Memeriksa proporsi data\n",
    "print(f\"Train set: {len(X_train)} samples\")\n",
    "print(f\"Validation set: {len(X_val)} samples\")\n",
    "print(f\"Test set: {len(X_test)} samples\")"
   ]
  },
  {
   "cell_type": "markdown",
   "id": "1b21ac37",
   "metadata": {},
   "source": [
    "## Handeling imbalance data"
   ]
  },
  {
   "cell_type": "markdown",
   "id": "f1050120",
   "metadata": {},
   "source": [
    "Apa itu SMOTE?\n",
    "\n",
    "SMOTE adalah metode yang digunakan untuk menghasilkan sampel-sampel baru dari kelas minoritas (kelas dengan jumlah sampel yang lebih sedikit) untuk menyeimbangkan distribusi kelas dalam dataset. SMOTE bekerja dengan cara membuat sampel-sampel sintetis berdasarkan sampel-sampel yang sudah ada dengan menggunakan pendekatan ketetanggaan."
   ]
  },
  {
   "cell_type": "markdown",
   "id": "01829c35",
   "metadata": {},
   "source": [
    "<img src=\"https://miro.medium.com/v2/resize:fit:1400/format:webp/1*QaNfJwU6P-VnG1zp3U4cVg.png\">"
   ]
  },
  {
   "cell_type": "code",
   "execution_count": 223,
   "id": "7a72644d",
   "metadata": {
    "ExecuteTime": {
     "end_time": "2024-06-08T05:40:50.313914Z",
     "start_time": "2024-06-08T05:40:49.984198Z"
    }
   },
   "outputs": [
    {
     "data": {
      "image/png": "[encoded data removed]",
      "text/plain": [
       "<Figure size 576x432 with 1 Axes>"
      ]
     },
     "metadata": {
      "needs_background": "light"
     },
     "output_type": "display_data"
    },
    {
     "data": {
      "image/png": "[encoded data removed]",
      "text/plain": [
       "<Figure size 576x432 with 1 Axes>"
      ]
     },
     "metadata": {
      "needs_background": "light"
     },
     "output_type": "display_data"
    }
   ],
   "source": [
    "# Apply SMOTE to the training set\n",
    "smote = SMOTE(random_state=42)\n",
    "X_train_resampled, y_train_resampled = smote.fit_resample(X_train, y_train)\n",
    "\n",
    "\n",
    "# Function to plot class distribution\n",
    "def plot_class_distribution(y, title):\n",
    "    plt.figure(figsize=(8, 6))\n",
    "    y.value_counts().sort_index().plot(kind='bar', color=['blue', 'green'])\n",
    "    plt.title(title)\n",
    "    plt.xlabel('Class')\n",
    "    plt.ylabel('Frequency')\n",
    "    plt.xticks(rotation=0)\n",
    "    plt.show()\n",
    "\n",
    "# Plot class distribution before SMOTE\n",
    "plot_class_distribution(y_train, 'Class Distribution Before SMOTE (Train)')\n",
    "\n",
    "# Apply SMOTE to the training set\n",
    "smote = SMOTE(random_state=42)\n",
    "X_train_resampled, y_train_resampled = smote.fit_resample(X_train, y_train)\n",
    "\n",
    "# Plot class distribution after SMote\n",
    "plot_class_distribution(y_train_resampled, 'Class Distribution After SMOTE (Train)')"
   ]
  },
  {
   "cell_type": "markdown",
   "id": "6039fe5d",
   "metadata": {},
   "source": [
    "# Modeling"
   ]
  },
  {
   "cell_type": "markdown",
   "id": "d52a58a2",
   "metadata": {},
   "source": [
    "## Fitur important"
   ]
  },
  {
   "cell_type": "code",
   "execution_count": 224,
   "id": "7875c289",
   "metadata": {
    "ExecuteTime": {
     "end_time": "2024-06-08T05:40:54.277818Z",
     "start_time": "2024-06-08T05:40:54.034104Z"
    }
   },
   "outputs": [
    {
     "data": {
      "image/png": "[encoded data removed]",
      "text/plain": [
       "<Figure size 720x432 with 1 Axes>"
      ]
     },
     "metadata": {
      "needs_background": "light"
     },
     "output_type": "display_data"
    }
   ],
   "source": [
    "# Membuat model Gradient Boosting\n",
    "gb = GradientBoostingClassifier(learning_rate=0.15, max_depth=4, n_estimators=20, random_state=0)\n",
    "gb.fit(X_train_resampled, y_train_resampled)\n",
    "\n",
    "# Menghitung fitur importansi\n",
    "importances = gb.feature_importances_\n",
    "indices = np.argsort(importances)\n",
    "\n",
    "# Plot fitur importansi\n",
    "plt.figure(figsize=(10, 6))\n",
    "plt.barh(range(X_train_resampled.shape[1]), importances[indices], align='center')\n",
    "plt.yticks(range(X_train_resampled.shape[1]), [X_train_resampled.columns[i] for i in indices])\n",
    "plt.xlabel('Feature Importance')\n",
    "plt.ylabel('Feature')\n",
    "plt.title('Feature Importance Plot')\n",
    "plt.show()"
   ]
  },
  {
   "cell_type": "markdown",
   "id": "14010d62",
   "metadata": {},
   "source": [
    "## Training"
   ]
  },
  {
   "cell_type": "markdown",
   "id": "7fc3d9cb",
   "metadata": {
    "ExecuteTime": {
     "end_time": "2024-06-08T04:27:10.590271Z",
     "start_time": "2024-06-08T04:27:10.577111Z"
    }
   },
   "source": [
    "ANN (Artificial Neural Network) adalah model komputasi yang terinspirasi oleh jaringan saraf biologis, seperti otak manusia. ANN digunakan dalam pembelajaran mesin dan kecerdasan buatan untuk memecahkan berbagai masalah seperti klasifikasi, regresi, dan pengenalan pola. ANN juga merupakan cikal bakal arsitektur deeplearning\n",
    "<img src=\"https://miro.medium.com/v2/resize:fit:1100/format:webp/1*VMnUsUBSXWyYnzdM68A1jw.png\">"
   ]
  },
  {
   "cell_type": "code",
   "execution_count": 231,
   "id": "fc19a8c6",
   "metadata": {
    "ExecuteTime": {
     "end_time": "2024-06-08T05:43:53.279800Z",
     "start_time": "2024-06-08T05:43:53.098710Z"
    }
   },
   "outputs": [
    {
     "name": "stdout",
     "output_type": "stream",
     "text": [
      "Model: \"sequential\"\n",
      "_________________________________________________________________\n",
      " Layer (type)                Output Shape              Param #   \n",
      "=================================================================\n",
      " dense (Dense)               (None, 32)                288       \n",
      "                                                                 \n",
      " dense_1 (Dense)             (None, 64)                2112      \n",
      "                                                                 \n",
      " dense_2 (Dense)             (None, 32)                2080      \n",
      "                                                                 \n",
      " dense_3 (Dense)             (None, 16)                528       \n",
      "                                                                 \n",
      " dense_4 (Dense)             (None, 1)                 17        \n",
      "                                                                 \n",
      "=================================================================\n",
      "Total params: 5,025\n",
      "Trainable params: 5,025\n",
      "Non-trainable params: 0\n",
      "_________________________________________________________________\n"
     ]
    }
   ],
   "source": [
    "# Membuat model neural network sederhana\n",
    "tf.keras.backend.clear_session()\n",
    "model = tf.keras.Sequential([    \n",
    "    tf.keras.layers.Dense(32, input_shape=(8,), activation='relu'),\n",
    "    tf.keras.layers.Dense(64, activation='relu'),\n",
    "    tf.keras.layers.Dense(32, activation='relu'),\n",
    "    tf.keras.layers.Dense(16, activation='relu', kernel_regularizer=\"l2\"),\n",
    "    tf.keras.layers.Dense(1, activation='sigmoid')\n",
    "])\n",
    "\n",
    "opt = tf.keras.optimizers.Adam(learning_rate=0.0001)\n",
    "\n",
    "# Kompilasi model\n",
    "model.compile(optimizer=opt, loss='binary_crossentropy', metrics=['accuracy'])\n",
    "model.summary()"
   ]
  },
  {
   "cell_type": "code",
   "execution_count": 232,
   "id": "e3f0adc3",
   "metadata": {
    "ExecuteTime": {
     "end_time": "2024-06-08T05:43:56.365027Z",
     "start_time": "2024-06-08T05:43:55.983718Z"
    }
   },
   "outputs": [
    {
     "data": {
      "image/png": "[encoded data removed]",
      "text/plain": [
       "<IPython.core.display.Image object>"
      ]
     },
     "execution_count": 232,
     "metadata": {},
     "output_type": "execute_result"
    }
   ],
   "source": [
    "from keras.utils.vis_utils import plot_model\n",
    "plot_model(model, to_file='cnn_model.png', show_shapes=True, show_layer_names=False, rankdir=\"LR\")"
   ]
  },
  {
   "cell_type": "code",
   "execution_count": 233,
   "id": "ba00bf19",
   "metadata": {
    "ExecuteTime": {
     "end_time": "2024-06-08T05:44:59.539060Z",
     "start_time": "2024-06-08T05:43:57.016087Z"
    }
   },
   "outputs": [
    {
     "name": "stdout",
     "output_type": "stream",
     "text": [
      "Epoch 1/500\n",
      "44/44 [==============================] - 1s 9ms/step - loss: 20.5818 - accuracy: 0.5000 - val_loss: 7.9542 - val_accuracy: 0.7333\n",
      "Epoch 2/500\n",
      "44/44 [==============================] - 0s 4ms/step - loss: 8.2735 - accuracy: 0.4801 - val_loss: 1.6590 - val_accuracy: 0.3000\n",
      "Epoch 3/500\n",
      "44/44 [==============================] - 0s 3ms/step - loss: 1.3021 - accuracy: 0.4858 - val_loss: 0.9402 - val_accuracy: 0.6000\n",
      "Epoch 4/500\n",
      "44/44 [==============================] - 0s 2ms/step - loss: 0.8850 - accuracy: 0.5739 - val_loss: 0.7427 - val_accuracy: 0.7000\n",
      "Epoch 5/500\n",
      "44/44 [==============================] - 0s 2ms/step - loss: 0.8138 - accuracy: 0.6335 - val_loss: 0.8361 - val_accuracy: 0.5667\n",
      "Epoch 6/500\n",
      "44/44 [==============================] - 0s 2ms/step - loss: 0.8050 - accuracy: 0.6364 - val_loss: 0.6768 - val_accuracy: 0.7667\n",
      "Epoch 7/500\n",
      "44/44 [==============================] - 0s 2ms/step - loss: 0.7698 - accuracy: 0.6705 - val_loss: 0.7684 - val_accuracy: 0.6333\n",
      "Epoch 8/500\n",
      "44/44 [==============================] - 0s 2ms/step - loss: 0.7697 - accuracy: 0.6449 - val_loss: 0.6879 - val_accuracy: 0.6667\n",
      "Epoch 9/500\n",
      "44/44 [==============================] - 0s 2ms/step - loss: 0.7599 - accuracy: 0.6847 - val_loss: 0.6892 - val_accuracy: 0.6667\n",
      "Epoch 10/500\n",
      "44/44 [==============================] - 0s 2ms/step - loss: 0.7645 - accuracy: 0.6506 - val_loss: 0.6422 - val_accuracy: 0.8000\n",
      "Epoch 11/500\n",
      "44/44 [==============================] - 0s 2ms/step - loss: 0.7374 - accuracy: 0.6562 - val_loss: 0.6404 - val_accuracy: 0.8333\n",
      "Epoch 12/500\n",
      "44/44 [==============================] - 0s 2ms/step - loss: 0.7171 - accuracy: 0.6733 - val_loss: 0.6614 - val_accuracy: 0.7333\n",
      "Epoch 13/500\n",
      "44/44 [==============================] - 0s 3ms/step - loss: 0.7075 - accuracy: 0.7074 - val_loss: 0.6146 - val_accuracy: 0.8333\n",
      "Epoch 14/500\n",
      "44/44 [==============================] - 0s 3ms/step - loss: 0.7128 - accuracy: 0.6932 - val_loss: 0.6576 - val_accuracy: 0.6667\n",
      "Epoch 15/500\n",
      "44/44 [==============================] - 0s 3ms/step - loss: 0.6951 - accuracy: 0.7330 - val_loss: 0.6476 - val_accuracy: 0.7333\n",
      "Epoch 16/500\n",
      "44/44 [==============================] - 0s 3ms/step - loss: 0.6891 - accuracy: 0.7017 - val_loss: 0.5898 - val_accuracy: 0.7667\n",
      "Epoch 17/500\n",
      "44/44 [==============================] - 0s 4ms/step - loss: 0.6812 - accuracy: 0.7159 - val_loss: 0.6171 - val_accuracy: 0.7000\n",
      "Epoch 18/500\n",
      "44/44 [==============================] - 0s 3ms/step - loss: 0.6649 - accuracy: 0.7500 - val_loss: 0.6236 - val_accuracy: 0.7667\n",
      "Epoch 19/500\n",
      "44/44 [==============================] - 0s 3ms/step - loss: 0.6764 - accuracy: 0.7188 - val_loss: 0.6183 - val_accuracy: 0.7667\n",
      "Epoch 20/500\n",
      "44/44 [==============================] - 0s 3ms/step - loss: 0.6535 - accuracy: 0.7216 - val_loss: 0.6001 - val_accuracy: 0.7333\n",
      "Epoch 21/500\n",
      "44/44 [==============================] - 0s 2ms/step - loss: 0.6591 - accuracy: 0.7216 - val_loss: 0.5619 - val_accuracy: 0.8000\n",
      "Epoch 22/500\n",
      "44/44 [==============================] - 0s 2ms/step - loss: 0.6565 - accuracy: 0.7244 - val_loss: 0.5808 - val_accuracy: 0.8000\n",
      "Epoch 23/500\n",
      "44/44 [==============================] - 0s 3ms/step - loss: 0.6463 - accuracy: 0.7244 - val_loss: 0.5700 - val_accuracy: 0.8000\n",
      "Epoch 24/500\n",
      "44/44 [==============================] - 0s 2ms/step - loss: 0.6579 - accuracy: 0.7216 - val_loss: 0.5483 - val_accuracy: 0.8000\n",
      "Epoch 25/500\n",
      "44/44 [==============================] - 0s 2ms/step - loss: 0.6354 - accuracy: 0.7472 - val_loss: 0.5447 - val_accuracy: 0.8667\n",
      "Epoch 26/500\n",
      "44/44 [==============================] - 0s 2ms/step - loss: 0.6341 - accuracy: 0.7443 - val_loss: 0.5314 - val_accuracy: 0.8333\n",
      "Epoch 27/500\n",
      "44/44 [==============================] - 0s 2ms/step - loss: 0.6267 - accuracy: 0.7472 - val_loss: 0.5362 - val_accuracy: 0.8667\n",
      "Epoch 28/500\n",
      "44/44 [==============================] - 0s 3ms/step - loss: 0.6178 - accuracy: 0.7386 - val_loss: 0.5314 - val_accuracy: 0.8333\n",
      "Epoch 29/500\n",
      "44/44 [==============================] - 0s 2ms/step - loss: 0.6456 - accuracy: 0.6932 - val_loss: 0.5684 - val_accuracy: 0.7667\n",
      "Epoch 30/500\n",
      "44/44 [==============================] - 0s 2ms/step - loss: 0.6227 - accuracy: 0.7415 - val_loss: 0.5289 - val_accuracy: 0.8333\n",
      "Epoch 31/500\n",
      "44/44 [==============================] - 0s 2ms/step - loss: 0.6168 - accuracy: 0.7472 - val_loss: 0.5470 - val_accuracy: 0.8000\n",
      "Epoch 32/500\n",
      "44/44 [==============================] - 0s 2ms/step - loss: 0.6134 - accuracy: 0.7301 - val_loss: 0.5490 - val_accuracy: 0.7667\n",
      "Epoch 33/500\n",
      "44/44 [==============================] - 0s 2ms/step - loss: 0.6031 - accuracy: 0.7330 - val_loss: 0.5381 - val_accuracy: 0.8000\n",
      "Epoch 34/500\n",
      "44/44 [==============================] - 0s 3ms/step - loss: 0.5961 - accuracy: 0.7443 - val_loss: 0.5377 - val_accuracy: 0.8000\n",
      "Epoch 35/500\n",
      "44/44 [==============================] - 0s 3ms/step - loss: 0.5963 - accuracy: 0.7273 - val_loss: 0.5185 - val_accuracy: 0.9000\n",
      "Epoch 36/500\n",
      "44/44 [==============================] - 0s 2ms/step - loss: 0.5874 - accuracy: 0.7528 - val_loss: 0.5391 - val_accuracy: 0.7333\n",
      "Epoch 37/500\n",
      "44/44 [==============================] - 0s 2ms/step - loss: 0.6061 - accuracy: 0.7358 - val_loss: 0.5087 - val_accuracy: 0.9000\n",
      "Epoch 38/500\n",
      "44/44 [==============================] - 0s 2ms/step - loss: 0.5879 - accuracy: 0.7585 - val_loss: 0.5026 - val_accuracy: 0.9000\n",
      "Epoch 39/500\n",
      "44/44 [==============================] - 0s 3ms/step - loss: 0.5822 - accuracy: 0.7415 - val_loss: 0.5603 - val_accuracy: 0.6667\n",
      "Epoch 40/500\n",
      "44/44 [==============================] - 0s 2ms/step - loss: 0.5891 - accuracy: 0.7301 - val_loss: 0.5085 - val_accuracy: 0.8667\n",
      "Epoch 41/500\n",
      "44/44 [==============================] - 0s 2ms/step - loss: 0.5925 - accuracy: 0.7244 - val_loss: 0.4951 - val_accuracy: 0.9000\n",
      "Epoch 42/500\n",
      "44/44 [==============================] - 0s 2ms/step - loss: 0.5738 - accuracy: 0.7614 - val_loss: 0.4864 - val_accuracy: 0.8333\n",
      "Epoch 43/500\n",
      "44/44 [==============================] - 0s 2ms/step - loss: 0.5744 - accuracy: 0.7358 - val_loss: 0.5317 - val_accuracy: 0.7333\n",
      "Epoch 44/500\n",
      "44/44 [==============================] - 0s 5ms/step - loss: 0.5823 - accuracy: 0.7500 - val_loss: 0.4873 - val_accuracy: 0.9000\n",
      "Epoch 45/500\n",
      "44/44 [==============================] - 0s 4ms/step - loss: 0.5660 - accuracy: 0.7585 - val_loss: 0.4894 - val_accuracy: 0.9000\n",
      "Epoch 46/500\n",
      "44/44 [==============================] - 0s 3ms/step - loss: 0.5625 - accuracy: 0.7614 - val_loss: 0.4957 - val_accuracy: 0.9000\n",
      "Epoch 47/500\n",
      "44/44 [==============================] - 0s 3ms/step - loss: 0.5646 - accuracy: 0.7614 - val_loss: 0.5464 - val_accuracy: 0.7000\n",
      "Epoch 48/500\n",
      "44/44 [==============================] - 0s 4ms/step - loss: 0.5714 - accuracy: 0.7699 - val_loss: 0.5762 - val_accuracy: 0.6667\n",
      "Epoch 49/500\n",
      "44/44 [==============================] - 0s 3ms/step - loss: 0.5999 - accuracy: 0.6960 - val_loss: 0.5939 - val_accuracy: 0.6667\n",
      "Epoch 50/500\n",
      "44/44 [==============================] - 0s 2ms/step - loss: 0.5815 - accuracy: 0.7244 - val_loss: 0.5364 - val_accuracy: 0.7000\n",
      "Epoch 51/500\n",
      "44/44 [==============================] - 0s 2ms/step - loss: 0.5534 - accuracy: 0.7557 - val_loss: 0.5158 - val_accuracy: 0.8000\n",
      "Epoch 52/500\n",
      "44/44 [==============================] - 0s 2ms/step - loss: 0.5504 - accuracy: 0.7528 - val_loss: 0.4707 - val_accuracy: 0.8667\n",
      "Epoch 53/500\n",
      "44/44 [==============================] - 0s 3ms/step - loss: 0.5538 - accuracy: 0.7443 - val_loss: 0.4600 - val_accuracy: 0.8667\n",
      "Epoch 54/500\n",
      "44/44 [==============================] - 0s 2ms/step - loss: 0.5434 - accuracy: 0.7756 - val_loss: 0.4986 - val_accuracy: 0.8667\n",
      "Epoch 55/500\n",
      "44/44 [==============================] - 0s 3ms/step - loss: 0.5519 - accuracy: 0.7756 - val_loss: 0.4779 - val_accuracy: 0.8000\n",
      "Epoch 56/500\n",
      "44/44 [==============================] - 0s 2ms/step - loss: 0.5400 - accuracy: 0.7898 - val_loss: 0.4797 - val_accuracy: 0.9000\n",
      "Epoch 57/500\n",
      "44/44 [==============================] - 0s 3ms/step - loss: 0.5353 - accuracy: 0.7699 - val_loss: 0.5056 - val_accuracy: 0.7667\n",
      "Epoch 58/500\n",
      "44/44 [==============================] - 0s 2ms/step - loss: 0.5418 - accuracy: 0.7557 - val_loss: 0.4933 - val_accuracy: 0.8000\n"
     ]
    },
    {
     "name": "stdout",
     "output_type": "stream",
     "text": [
      "Epoch 59/500\n",
      "44/44 [==============================] - 0s 2ms/step - loss: 0.5442 - accuracy: 0.7585 - val_loss: 0.4729 - val_accuracy: 0.9000\n",
      "Epoch 60/500\n",
      "44/44 [==============================] - 0s 2ms/step - loss: 0.5348 - accuracy: 0.7699 - val_loss: 0.4624 - val_accuracy: 0.9000\n",
      "Epoch 61/500\n",
      "44/44 [==============================] - 0s 4ms/step - loss: 0.5295 - accuracy: 0.7699 - val_loss: 0.5798 - val_accuracy: 0.6667\n",
      "Epoch 62/500\n",
      "44/44 [==============================] - 0s 3ms/step - loss: 0.5559 - accuracy: 0.7500 - val_loss: 0.4534 - val_accuracy: 0.9000\n",
      "Epoch 63/500\n",
      "44/44 [==============================] - 0s 3ms/step - loss: 0.5466 - accuracy: 0.7614 - val_loss: 0.4780 - val_accuracy: 0.9000\n",
      "Epoch 64/500\n",
      "44/44 [==============================] - 0s 3ms/step - loss: 0.5388 - accuracy: 0.7585 - val_loss: 0.4704 - val_accuracy: 0.8333\n",
      "Epoch 65/500\n",
      "44/44 [==============================] - 0s 2ms/step - loss: 0.5404 - accuracy: 0.7642 - val_loss: 0.4707 - val_accuracy: 0.8000\n",
      "Epoch 66/500\n",
      "44/44 [==============================] - 0s 3ms/step - loss: 0.5302 - accuracy: 0.7642 - val_loss: 0.5185 - val_accuracy: 0.6667\n",
      "Epoch 67/500\n",
      "44/44 [==============================] - 0s 2ms/step - loss: 0.5474 - accuracy: 0.7472 - val_loss: 0.4509 - val_accuracy: 0.8333\n",
      "Epoch 68/500\n",
      "44/44 [==============================] - 0s 2ms/step - loss: 0.5248 - accuracy: 0.7841 - val_loss: 0.4549 - val_accuracy: 0.9000\n",
      "Epoch 69/500\n",
      "44/44 [==============================] - 0s 2ms/step - loss: 0.5239 - accuracy: 0.7756 - val_loss: 0.4714 - val_accuracy: 0.9000\n",
      "Epoch 70/500\n",
      "44/44 [==============================] - 0s 3ms/step - loss: 0.5220 - accuracy: 0.7841 - val_loss: 0.4959 - val_accuracy: 0.7333\n",
      "Epoch 71/500\n",
      "44/44 [==============================] - 0s 3ms/step - loss: 0.5218 - accuracy: 0.7614 - val_loss: 0.4591 - val_accuracy: 0.8333\n",
      "Epoch 72/500\n",
      "44/44 [==============================] - 0s 2ms/step - loss: 0.5266 - accuracy: 0.7869 - val_loss: 0.5070 - val_accuracy: 0.7000\n",
      "Epoch 73/500\n",
      "44/44 [==============================] - 0s 2ms/step - loss: 0.5217 - accuracy: 0.7812 - val_loss: 0.4591 - val_accuracy: 0.8333\n",
      "Epoch 74/500\n",
      "44/44 [==============================] - 0s 3ms/step - loss: 0.5402 - accuracy: 0.7585 - val_loss: 0.4746 - val_accuracy: 0.8333\n",
      "Epoch 75/500\n",
      "44/44 [==============================] - 0s 2ms/step - loss: 0.5479 - accuracy: 0.7330 - val_loss: 0.4953 - val_accuracy: 0.7333\n",
      "Epoch 76/500\n",
      "44/44 [==============================] - 0s 3ms/step - loss: 0.5164 - accuracy: 0.7642 - val_loss: 0.4613 - val_accuracy: 0.9000\n",
      "Epoch 77/500\n",
      "44/44 [==============================] - 0s 3ms/step - loss: 0.5139 - accuracy: 0.7699 - val_loss: 0.4568 - val_accuracy: 0.8333\n",
      "Epoch 78/500\n",
      "44/44 [==============================] - 0s 3ms/step - loss: 0.5295 - accuracy: 0.7528 - val_loss: 0.4804 - val_accuracy: 0.7667\n",
      "Epoch 79/500\n",
      "44/44 [==============================] - 0s 3ms/step - loss: 0.5295 - accuracy: 0.7898 - val_loss: 0.5121 - val_accuracy: 0.7667\n",
      "Epoch 80/500\n",
      "44/44 [==============================] - 0s 3ms/step - loss: 0.5100 - accuracy: 0.7841 - val_loss: 0.4371 - val_accuracy: 0.9000\n",
      "Epoch 81/500\n",
      "44/44 [==============================] - 0s 2ms/step - loss: 0.5046 - accuracy: 0.7756 - val_loss: 0.4818 - val_accuracy: 0.7667\n",
      "Epoch 82/500\n",
      "44/44 [==============================] - 0s 3ms/step - loss: 0.5117 - accuracy: 0.7898 - val_loss: 0.4644 - val_accuracy: 0.8667\n",
      "Epoch 83/500\n",
      "44/44 [==============================] - 0s 3ms/step - loss: 0.5040 - accuracy: 0.7557 - val_loss: 0.5024 - val_accuracy: 0.7000\n",
      "Epoch 84/500\n",
      "44/44 [==============================] - 0s 3ms/step - loss: 0.5020 - accuracy: 0.7841 - val_loss: 0.4422 - val_accuracy: 0.8667\n",
      "Epoch 85/500\n",
      "44/44 [==============================] - 0s 2ms/step - loss: 0.5023 - accuracy: 0.7955 - val_loss: 0.4369 - val_accuracy: 0.9000\n",
      "Epoch 86/500\n",
      "44/44 [==============================] - 0s 2ms/step - loss: 0.5018 - accuracy: 0.7784 - val_loss: 0.4605 - val_accuracy: 0.9000\n",
      "Epoch 87/500\n",
      "44/44 [==============================] - 0s 3ms/step - loss: 0.5007 - accuracy: 0.7841 - val_loss: 0.4575 - val_accuracy: 0.8667\n",
      "Epoch 88/500\n",
      "44/44 [==============================] - 0s 5ms/step - loss: 0.5044 - accuracy: 0.7898 - val_loss: 0.5006 - val_accuracy: 0.7000\n",
      "Epoch 89/500\n",
      "44/44 [==============================] - 0s 3ms/step - loss: 0.5145 - accuracy: 0.7585 - val_loss: 0.4617 - val_accuracy: 0.8000\n",
      "Epoch 90/500\n",
      "44/44 [==============================] - 0s 2ms/step - loss: 0.5004 - accuracy: 0.7727 - val_loss: 0.4469 - val_accuracy: 0.8333\n",
      "Epoch 91/500\n",
      "44/44 [==============================] - 0s 3ms/step - loss: 0.5117 - accuracy: 0.7955 - val_loss: 0.4430 - val_accuracy: 0.9000\n",
      "Epoch 92/500\n",
      "44/44 [==============================] - 0s 3ms/step - loss: 0.5163 - accuracy: 0.7585 - val_loss: 0.6422 - val_accuracy: 0.6333\n",
      "Epoch 93/500\n",
      "44/44 [==============================] - 0s 3ms/step - loss: 0.5146 - accuracy: 0.7614 - val_loss: 0.4807 - val_accuracy: 0.7667\n",
      "Epoch 94/500\n",
      "44/44 [==============================] - 0s 2ms/step - loss: 0.5031 - accuracy: 0.7869 - val_loss: 0.5611 - val_accuracy: 0.6333\n",
      "Epoch 95/500\n",
      "44/44 [==============================] - 0s 2ms/step - loss: 0.5110 - accuracy: 0.7756 - val_loss: 0.4409 - val_accuracy: 0.8333\n",
      "Epoch 96/500\n",
      "44/44 [==============================] - 0s 2ms/step - loss: 0.4861 - accuracy: 0.8040 - val_loss: 0.4499 - val_accuracy: 0.9000\n",
      "Epoch 97/500\n",
      "44/44 [==============================] - 0s 2ms/step - loss: 0.5029 - accuracy: 0.7614 - val_loss: 0.4545 - val_accuracy: 0.8000\n",
      "Epoch 98/500\n",
      "44/44 [==============================] - 0s 2ms/step - loss: 0.5040 - accuracy: 0.7670 - val_loss: 0.4626 - val_accuracy: 0.8000\n",
      "Epoch 99/500\n",
      "44/44 [==============================] - 0s 2ms/step - loss: 0.4938 - accuracy: 0.7955 - val_loss: 0.4478 - val_accuracy: 0.8333\n",
      "Epoch 100/500\n",
      "44/44 [==============================] - 0s 3ms/step - loss: 0.4813 - accuracy: 0.8097 - val_loss: 0.4399 - val_accuracy: 0.8000\n",
      "Epoch 101/500\n",
      "44/44 [==============================] - 0s 3ms/step - loss: 0.4861 - accuracy: 0.7983 - val_loss: 0.4576 - val_accuracy: 0.7667\n",
      "Epoch 102/500\n",
      "44/44 [==============================] - 0s 3ms/step - loss: 0.4932 - accuracy: 0.7812 - val_loss: 0.4449 - val_accuracy: 0.8667\n",
      "Epoch 103/500\n",
      "44/44 [==============================] - 0s 2ms/step - loss: 0.5326 - accuracy: 0.7585 - val_loss: 0.4569 - val_accuracy: 0.8667\n",
      "Epoch 104/500\n",
      "44/44 [==============================] - 0s 2ms/step - loss: 0.5035 - accuracy: 0.7756 - val_loss: 0.4968 - val_accuracy: 0.7667\n",
      "Epoch 105/500\n",
      "44/44 [==============================] - 0s 3ms/step - loss: 0.4942 - accuracy: 0.8125 - val_loss: 0.4492 - val_accuracy: 0.8667\n",
      "Epoch 106/500\n",
      "44/44 [==============================] - 0s 2ms/step - loss: 0.4827 - accuracy: 0.8097 - val_loss: 0.4294 - val_accuracy: 0.9000\n",
      "Epoch 107/500\n",
      "44/44 [==============================] - 0s 3ms/step - loss: 0.4957 - accuracy: 0.7727 - val_loss: 0.4992 - val_accuracy: 0.7333\n",
      "Epoch 108/500\n",
      "44/44 [==============================] - 0s 2ms/step - loss: 0.4883 - accuracy: 0.7955 - val_loss: 0.4541 - val_accuracy: 0.8667\n",
      "Epoch 109/500\n",
      "44/44 [==============================] - 0s 2ms/step - loss: 0.5042 - accuracy: 0.7528 - val_loss: 0.4757 - val_accuracy: 0.7667\n",
      "Epoch 110/500\n",
      "44/44 [==============================] - 0s 3ms/step - loss: 0.4896 - accuracy: 0.7926 - val_loss: 0.4337 - val_accuracy: 0.8667\n",
      "Epoch 111/500\n",
      "44/44 [==============================] - 0s 2ms/step - loss: 0.4778 - accuracy: 0.7955 - val_loss: 0.4892 - val_accuracy: 0.7333\n",
      "Epoch 112/500\n",
      "44/44 [==============================] - 0s 2ms/step - loss: 0.4839 - accuracy: 0.7670 - val_loss: 0.4270 - val_accuracy: 0.8667\n",
      "Epoch 113/500\n",
      "44/44 [==============================] - 0s 2ms/step - loss: 0.4856 - accuracy: 0.8011 - val_loss: 0.4324 - val_accuracy: 0.9000\n",
      "Epoch 114/500\n",
      "44/44 [==============================] - 0s 3ms/step - loss: 0.4728 - accuracy: 0.8097 - val_loss: 0.4567 - val_accuracy: 0.7667\n",
      "Epoch 115/500\n",
      "44/44 [==============================] - 0s 2ms/step - loss: 0.4736 - accuracy: 0.7955 - val_loss: 0.4631 - val_accuracy: 0.7333\n",
      "Epoch 116/500\n",
      "44/44 [==============================] - 0s 2ms/step - loss: 0.4778 - accuracy: 0.8011 - val_loss: 0.4460 - val_accuracy: 0.8000\n",
      "Epoch 117/500\n",
      "44/44 [==============================] - 0s 2ms/step - loss: 0.4662 - accuracy: 0.8153 - val_loss: 0.4422 - val_accuracy: 0.8667\n",
      "Epoch 118/500\n",
      "44/44 [==============================] - 0s 2ms/step - loss: 0.4757 - accuracy: 0.8040 - val_loss: 0.4298 - val_accuracy: 0.9000\n",
      "Epoch 119/500\n",
      "44/44 [==============================] - 0s 2ms/step - loss: 0.4684 - accuracy: 0.7926 - val_loss: 0.4275 - val_accuracy: 0.8667\n",
      "Epoch 120/500\n",
      "44/44 [==============================] - 0s 2ms/step - loss: 0.5065 - accuracy: 0.7642 - val_loss: 0.4282 - val_accuracy: 0.8667\n",
      "Epoch 121/500\n",
      "44/44 [==============================] - 0s 2ms/step - loss: 0.5071 - accuracy: 0.7784 - val_loss: 0.5476 - val_accuracy: 0.6667\n",
      "Epoch 122/500\n",
      "44/44 [==============================] - 0s 3ms/step - loss: 0.4824 - accuracy: 0.7955 - val_loss: 0.4384 - val_accuracy: 0.8333\n",
      "Epoch 123/500\n",
      "44/44 [==============================] - 0s 3ms/step - loss: 0.4687 - accuracy: 0.8011 - val_loss: 0.6003 - val_accuracy: 0.6333\n",
      "Epoch 124/500\n",
      "44/44 [==============================] - 0s 3ms/step - loss: 0.4694 - accuracy: 0.8097 - val_loss: 0.4255 - val_accuracy: 0.9000\n",
      "Epoch 125/500\n",
      "44/44 [==============================] - 0s 4ms/step - loss: 0.4725 - accuracy: 0.8210 - val_loss: 0.4433 - val_accuracy: 0.8667\n",
      "Epoch 126/500\n",
      "44/44 [==============================] - 0s 3ms/step - loss: 0.4652 - accuracy: 0.8040 - val_loss: 0.4462 - val_accuracy: 0.7667\n",
      "Epoch 127/500\n",
      "44/44 [==============================] - 0s 3ms/step - loss: 0.4836 - accuracy: 0.7812 - val_loss: 0.4691 - val_accuracy: 0.8333\n",
      "Epoch 128/500\n",
      "44/44 [==============================] - 0s 3ms/step - loss: 0.4992 - accuracy: 0.7727 - val_loss: 0.4400 - val_accuracy: 0.9000\n",
      "Epoch 129/500\n",
      "44/44 [==============================] - 0s 3ms/step - loss: 0.4598 - accuracy: 0.8068 - val_loss: 0.4792 - val_accuracy: 0.7333\n",
      "Epoch 130/500\n",
      "44/44 [==============================] - 0s 3ms/step - loss: 0.4681 - accuracy: 0.7983 - val_loss: 0.4681 - val_accuracy: 0.7667\n",
      "Epoch 131/500\n",
      "44/44 [==============================] - 0s 2ms/step - loss: 0.4793 - accuracy: 0.7926 - val_loss: 0.4543 - val_accuracy: 0.7667\n",
      "Epoch 132/500\n",
      "44/44 [==============================] - 0s 2ms/step - loss: 0.4577 - accuracy: 0.7926 - val_loss: 0.4340 - val_accuracy: 0.8000\n",
      "Epoch 133/500\n",
      "44/44 [==============================] - 0s 2ms/step - loss: 0.4881 - accuracy: 0.7614 - val_loss: 0.4667 - val_accuracy: 0.8333\n",
      "Epoch 134/500\n",
      "44/44 [==============================] - 0s 2ms/step - loss: 0.4777 - accuracy: 0.8011 - val_loss: 0.4226 - val_accuracy: 0.8667\n",
      "Epoch 135/500\n",
      "44/44 [==============================] - 0s 2ms/step - loss: 0.4568 - accuracy: 0.8068 - val_loss: 0.4334 - val_accuracy: 0.8667\n",
      "Epoch 136/500\n",
      "44/44 [==============================] - 0s 3ms/step - loss: 0.4559 - accuracy: 0.8153 - val_loss: 0.4207 - val_accuracy: 0.9000\n",
      "Epoch 137/500\n",
      "44/44 [==============================] - 0s 2ms/step - loss: 0.4545 - accuracy: 0.8210 - val_loss: 0.4629 - val_accuracy: 0.7333\n",
      "Epoch 138/500\n",
      "44/44 [==============================] - 0s 2ms/step - loss: 0.4535 - accuracy: 0.8097 - val_loss: 0.4343 - val_accuracy: 0.8667\n",
      "Epoch 139/500\n",
      "44/44 [==============================] - 0s 3ms/step - loss: 0.4703 - accuracy: 0.7898 - val_loss: 0.4096 - val_accuracy: 0.9000\n",
      "Epoch 140/500\n",
      "44/44 [==============================] - 0s 2ms/step - loss: 0.4511 - accuracy: 0.8267 - val_loss: 0.4266 - val_accuracy: 0.9000\n",
      "Epoch 141/500\n",
      "44/44 [==============================] - 0s 2ms/step - loss: 0.4482 - accuracy: 0.8153 - val_loss: 0.4588 - val_accuracy: 0.7667\n",
      "Epoch 142/500\n",
      "44/44 [==============================] - 0s 2ms/step - loss: 0.4496 - accuracy: 0.8040 - val_loss: 0.4419 - val_accuracy: 0.8333\n",
      "Epoch 143/500\n",
      "44/44 [==============================] - 0s 3ms/step - loss: 0.4714 - accuracy: 0.7727 - val_loss: 0.4256 - val_accuracy: 0.8667\n",
      "Epoch 144/500\n",
      "44/44 [==============================] - 0s 2ms/step - loss: 0.4529 - accuracy: 0.8097 - val_loss: 0.4394 - val_accuracy: 0.7667\n",
      "Epoch 145/500\n",
      "44/44 [==============================] - 0s 2ms/step - loss: 0.4494 - accuracy: 0.8125 - val_loss: 0.5584 - val_accuracy: 0.6667\n",
      "Epoch 146/500\n",
      "44/44 [==============================] - 0s 3ms/step - loss: 0.4614 - accuracy: 0.8125 - val_loss: 0.4244 - val_accuracy: 0.8000\n",
      "Epoch 147/500\n",
      "44/44 [==============================] - 0s 4ms/step - loss: 0.4657 - accuracy: 0.7926 - val_loss: 0.4561 - val_accuracy: 0.7667\n",
      "Epoch 148/500\n",
      "44/44 [==============================] - 0s 2ms/step - loss: 0.4455 - accuracy: 0.7955 - val_loss: 0.4561 - val_accuracy: 0.7667\n",
      "Epoch 149/500\n",
      "44/44 [==============================] - 0s 3ms/step - loss: 0.4447 - accuracy: 0.7983 - val_loss: 0.4552 - val_accuracy: 0.7333\n",
      "Epoch 150/500\n",
      "44/44 [==============================] - 0s 3ms/step - loss: 0.4602 - accuracy: 0.8011 - val_loss: 0.4336 - val_accuracy: 0.9000\n",
      "Epoch 151/500\n",
      "44/44 [==============================] - 0s 3ms/step - loss: 0.4764 - accuracy: 0.7784 - val_loss: 0.4081 - val_accuracy: 0.9000\n",
      "Epoch 152/500\n",
      "44/44 [==============================] - 0s 3ms/step - loss: 0.4503 - accuracy: 0.8239 - val_loss: 0.4229 - val_accuracy: 0.8667\n",
      "Epoch 153/500\n",
      "44/44 [==============================] - 0s 2ms/step - loss: 0.4831 - accuracy: 0.7699 - val_loss: 0.4583 - val_accuracy: 0.8000\n",
      "Epoch 154/500\n",
      "44/44 [==============================] - 0s 2ms/step - loss: 0.4476 - accuracy: 0.8040 - val_loss: 0.4366 - val_accuracy: 0.8333\n",
      "Epoch 155/500\n",
      "44/44 [==============================] - 0s 2ms/step - loss: 0.4514 - accuracy: 0.7869 - val_loss: 0.4729 - val_accuracy: 0.7333\n",
      "Epoch 156/500\n",
      "44/44 [==============================] - 0s 3ms/step - loss: 0.4547 - accuracy: 0.8040 - val_loss: 0.4158 - val_accuracy: 0.8667\n",
      "Epoch 157/500\n",
      "44/44 [==============================] - 0s 2ms/step - loss: 0.4601 - accuracy: 0.8125 - val_loss: 0.4328 - val_accuracy: 0.8667\n",
      "Epoch 158/500\n",
      "44/44 [==============================] - 0s 2ms/step - loss: 0.4699 - accuracy: 0.7983 - val_loss: 0.4382 - val_accuracy: 0.8333\n",
      "Epoch 159/500\n",
      "44/44 [==============================] - 0s 4ms/step - loss: 0.4652 - accuracy: 0.7841 - val_loss: 0.4251 - val_accuracy: 0.8667\n",
      "Epoch 160/500\n",
      "44/44 [==============================] - 0s 2ms/step - loss: 0.4428 - accuracy: 0.7955 - val_loss: 0.4232 - val_accuracy: 0.9000\n",
      "Epoch 161/500\n",
      "44/44 [==============================] - 0s 2ms/step - loss: 0.4478 - accuracy: 0.8011 - val_loss: 0.4397 - val_accuracy: 0.7667\n",
      "Epoch 162/500\n",
      "44/44 [==============================] - 0s 2ms/step - loss: 0.4519 - accuracy: 0.8068 - val_loss: 0.4300 - val_accuracy: 0.8667\n",
      "Epoch 163/500\n",
      "44/44 [==============================] - 0s 2ms/step - loss: 0.4710 - accuracy: 0.7869 - val_loss: 0.4632 - val_accuracy: 0.7667\n",
      "Epoch 164/500\n",
      "44/44 [==============================] - 0s 4ms/step - loss: 0.4433 - accuracy: 0.8153 - val_loss: 0.4686 - val_accuracy: 0.7667\n",
      "Epoch 165/500\n",
      "44/44 [==============================] - 0s 2ms/step - loss: 0.4375 - accuracy: 0.8011 - val_loss: 0.4167 - val_accuracy: 0.8667\n",
      "Epoch 166/500\n",
      "44/44 [==============================] - 0s 3ms/step - loss: 0.4496 - accuracy: 0.7955 - val_loss: 0.4253 - val_accuracy: 0.9000\n",
      "Epoch 167/500\n",
      "44/44 [==============================] - 0s 3ms/step - loss: 0.4375 - accuracy: 0.8267 - val_loss: 0.4275 - val_accuracy: 0.9000\n",
      "Epoch 168/500\n",
      "44/44 [==============================] - 0s 3ms/step - loss: 0.4404 - accuracy: 0.8239 - val_loss: 0.4130 - val_accuracy: 0.9000\n",
      "Epoch 169/500\n",
      "44/44 [==============================] - 0s 3ms/step - loss: 0.4465 - accuracy: 0.8068 - val_loss: 0.4256 - val_accuracy: 0.9000\n",
      "Epoch 170/500\n",
      "44/44 [==============================] - 0s 3ms/step - loss: 0.4333 - accuracy: 0.8239 - val_loss: 0.4234 - val_accuracy: 0.8333\n",
      "Epoch 171/500\n",
      "44/44 [==============================] - 0s 2ms/step - loss: 0.4252 - accuracy: 0.8210 - val_loss: 0.4435 - val_accuracy: 0.7667\n",
      "Epoch 172/500\n",
      "44/44 [==============================] - 0s 2ms/step - loss: 0.4438 - accuracy: 0.8295 - val_loss: 0.4146 - val_accuracy: 0.9000\n",
      "Epoch 173/500\n"
     ]
    },
    {
     "name": "stdout",
     "output_type": "stream",
     "text": [
      "44/44 [==============================] - 0s 3ms/step - loss: 0.4347 - accuracy: 0.8097 - val_loss: 0.4377 - val_accuracy: 0.7667\n",
      "Epoch 174/500\n",
      "44/44 [==============================] - 0s 3ms/step - loss: 0.4314 - accuracy: 0.8267 - val_loss: 0.4162 - val_accuracy: 0.9000\n",
      "Epoch 175/500\n",
      "44/44 [==============================] - 0s 2ms/step - loss: 0.4347 - accuracy: 0.8267 - val_loss: 0.4557 - val_accuracy: 0.7333\n",
      "Epoch 176/500\n",
      "44/44 [==============================] - 0s 2ms/step - loss: 0.4317 - accuracy: 0.8153 - val_loss: 0.4167 - val_accuracy: 0.8667\n",
      "Epoch 177/500\n",
      "44/44 [==============================] - 0s 2ms/step - loss: 0.4515 - accuracy: 0.8011 - val_loss: 0.4127 - val_accuracy: 0.9000\n",
      "Epoch 178/500\n",
      "44/44 [==============================] - 0s 2ms/step - loss: 0.4273 - accuracy: 0.8295 - val_loss: 0.4664 - val_accuracy: 0.7667\n",
      "Epoch 179/500\n",
      "44/44 [==============================] - 0s 3ms/step - loss: 0.4425 - accuracy: 0.8125 - val_loss: 0.4317 - val_accuracy: 0.7667\n",
      "Epoch 180/500\n",
      "44/44 [==============================] - 0s 4ms/step - loss: 0.4311 - accuracy: 0.8040 - val_loss: 0.4264 - val_accuracy: 0.8667\n",
      "Epoch 181/500\n",
      "44/44 [==============================] - 0s 3ms/step - loss: 0.4234 - accuracy: 0.8210 - val_loss: 0.4258 - val_accuracy: 0.8333\n",
      "Epoch 182/500\n",
      "44/44 [==============================] - 0s 3ms/step - loss: 0.4413 - accuracy: 0.8153 - val_loss: 0.4376 - val_accuracy: 0.7667\n",
      "Epoch 183/500\n",
      "44/44 [==============================] - 0s 2ms/step - loss: 0.4269 - accuracy: 0.7983 - val_loss: 0.4402 - val_accuracy: 0.7667\n",
      "Epoch 184/500\n",
      "44/44 [==============================] - 0s 2ms/step - loss: 0.4386 - accuracy: 0.7955 - val_loss: 0.3992 - val_accuracy: 0.8667\n",
      "Epoch 185/500\n",
      "44/44 [==============================] - 0s 2ms/step - loss: 0.4210 - accuracy: 0.8153 - val_loss: 0.4177 - val_accuracy: 0.7667\n",
      "Epoch 186/500\n",
      "44/44 [==============================] - 0s 2ms/step - loss: 0.4181 - accuracy: 0.8182 - val_loss: 0.4071 - val_accuracy: 0.9000\n",
      "Epoch 187/500\n",
      "44/44 [==============================] - 0s 3ms/step - loss: 0.4156 - accuracy: 0.8239 - val_loss: 0.4320 - val_accuracy: 0.8333\n",
      "Epoch 188/500\n",
      "44/44 [==============================] - 0s 3ms/step - loss: 0.4216 - accuracy: 0.8125 - val_loss: 0.4208 - val_accuracy: 0.7667\n",
      "Epoch 189/500\n",
      "44/44 [==============================] - 0s 3ms/step - loss: 0.4219 - accuracy: 0.8239 - val_loss: 0.4366 - val_accuracy: 0.8667\n",
      "Epoch 190/500\n",
      "44/44 [==============================] - 0s 2ms/step - loss: 0.4141 - accuracy: 0.8381 - val_loss: 0.4604 - val_accuracy: 0.8000\n",
      "Epoch 191/500\n",
      "44/44 [==============================] - 0s 2ms/step - loss: 0.4280 - accuracy: 0.8210 - val_loss: 0.4024 - val_accuracy: 0.8667\n",
      "Epoch 192/500\n",
      "44/44 [==============================] - 0s 2ms/step - loss: 0.4206 - accuracy: 0.8125 - val_loss: 0.4600 - val_accuracy: 0.7333\n",
      "Epoch 193/500\n",
      "44/44 [==============================] - 0s 2ms/step - loss: 0.4197 - accuracy: 0.8182 - val_loss: 0.4031 - val_accuracy: 0.8667\n",
      "Epoch 194/500\n",
      "44/44 [==============================] - 0s 3ms/step - loss: 0.4385 - accuracy: 0.7983 - val_loss: 0.4079 - val_accuracy: 0.9000\n",
      "Epoch 195/500\n",
      "44/44 [==============================] - 0s 3ms/step - loss: 0.4096 - accuracy: 0.8239 - val_loss: 0.4320 - val_accuracy: 0.8000\n",
      "Epoch 196/500\n",
      "44/44 [==============================] - 0s 2ms/step - loss: 0.4485 - accuracy: 0.8097 - val_loss: 0.4049 - val_accuracy: 0.8000\n",
      "Epoch 197/500\n",
      "44/44 [==============================] - 0s 2ms/step - loss: 0.4327 - accuracy: 0.8040 - val_loss: 0.4074 - val_accuracy: 0.9000\n",
      "Epoch 198/500\n",
      "44/44 [==============================] - 0s 2ms/step - loss: 0.4118 - accuracy: 0.8125 - val_loss: 0.4048 - val_accuracy: 0.8667\n",
      "Epoch 199/500\n",
      "44/44 [==============================] - 0s 2ms/step - loss: 0.4200 - accuracy: 0.8068 - val_loss: 0.4066 - val_accuracy: 0.9000\n",
      "Epoch 200/500\n",
      "44/44 [==============================] - 0s 2ms/step - loss: 0.4175 - accuracy: 0.8153 - val_loss: 0.4726 - val_accuracy: 0.7333\n",
      "Epoch 201/500\n",
      "44/44 [==============================] - 0s 3ms/step - loss: 0.4168 - accuracy: 0.8125 - val_loss: 0.4149 - val_accuracy: 0.7667\n",
      "Epoch 202/500\n",
      "44/44 [==============================] - 0s 2ms/step - loss: 0.4092 - accuracy: 0.8324 - val_loss: 0.4416 - val_accuracy: 0.7667\n",
      "Epoch 203/500\n",
      "44/44 [==============================] - 0s 2ms/step - loss: 0.4183 - accuracy: 0.7983 - val_loss: 0.3964 - val_accuracy: 0.8333\n",
      "Epoch 204/500\n",
      "44/44 [==============================] - 0s 2ms/step - loss: 0.4137 - accuracy: 0.8153 - val_loss: 0.4698 - val_accuracy: 0.7000\n",
      "Epoch 205/500\n",
      "44/44 [==============================] - 0s 2ms/step - loss: 0.4146 - accuracy: 0.8267 - val_loss: 0.3942 - val_accuracy: 0.9000\n",
      "Epoch 206/500\n",
      "44/44 [==============================] - 0s 2ms/step - loss: 0.4154 - accuracy: 0.8182 - val_loss: 0.5025 - val_accuracy: 0.6333\n",
      "Epoch 207/500\n",
      "44/44 [==============================] - 0s 2ms/step - loss: 0.4145 - accuracy: 0.8267 - val_loss: 0.4163 - val_accuracy: 0.8000\n",
      "Epoch 208/500\n",
      "44/44 [==============================] - 0s 2ms/step - loss: 0.4037 - accuracy: 0.8324 - val_loss: 0.4912 - val_accuracy: 0.7333\n",
      "Epoch 209/500\n",
      "44/44 [==============================] - 0s 3ms/step - loss: 0.4173 - accuracy: 0.8153 - val_loss: 0.3983 - val_accuracy: 0.9000\n",
      "Epoch 210/500\n",
      "44/44 [==============================] - 0s 2ms/step - loss: 0.4246 - accuracy: 0.8210 - val_loss: 0.4087 - val_accuracy: 0.8667\n",
      "Epoch 211/500\n",
      "44/44 [==============================] - 0s 3ms/step - loss: 0.4261 - accuracy: 0.8011 - val_loss: 0.3946 - val_accuracy: 0.9000\n",
      "Epoch 212/500\n",
      "44/44 [==============================] - 0s 2ms/step - loss: 0.4105 - accuracy: 0.8182 - val_loss: 0.4045 - val_accuracy: 0.8667\n",
      "Epoch 213/500\n",
      "44/44 [==============================] - 0s 3ms/step - loss: 0.4090 - accuracy: 0.8239 - val_loss: 0.4106 - val_accuracy: 0.8000\n",
      "Epoch 214/500\n",
      "44/44 [==============================] - 0s 3ms/step - loss: 0.4034 - accuracy: 0.8267 - val_loss: 0.4019 - val_accuracy: 0.9000\n",
      "Epoch 215/500\n",
      "44/44 [==============================] - 0s 3ms/step - loss: 0.4113 - accuracy: 0.8182 - val_loss: 0.5146 - val_accuracy: 0.6667\n",
      "Epoch 216/500\n",
      "44/44 [==============================] - 0s 3ms/step - loss: 0.4066 - accuracy: 0.8352 - val_loss: 0.4048 - val_accuracy: 0.8000\n",
      "Epoch 217/500\n",
      "44/44 [==============================] - 0s 2ms/step - loss: 0.4164 - accuracy: 0.8239 - val_loss: 0.4256 - val_accuracy: 0.8667\n",
      "Epoch 218/500\n",
      "44/44 [==============================] - 0s 2ms/step - loss: 0.4039 - accuracy: 0.8068 - val_loss: 0.4037 - val_accuracy: 0.8667\n",
      "Epoch 219/500\n",
      "44/44 [==============================] - 0s 3ms/step - loss: 0.4101 - accuracy: 0.8153 - val_loss: 0.4090 - val_accuracy: 0.9000\n",
      "Epoch 220/500\n",
      "44/44 [==============================] - 0s 3ms/step - loss: 0.4071 - accuracy: 0.8324 - val_loss: 0.4105 - val_accuracy: 0.8333\n",
      "Epoch 221/500\n",
      "44/44 [==============================] - 0s 3ms/step - loss: 0.3996 - accuracy: 0.8409 - val_loss: 0.4015 - val_accuracy: 0.8667\n",
      "Epoch 222/500\n",
      "44/44 [==============================] - 0s 2ms/step - loss: 0.4187 - accuracy: 0.8040 - val_loss: 0.3938 - val_accuracy: 0.8667\n",
      "Epoch 223/500\n",
      "44/44 [==============================] - 0s 2ms/step - loss: 0.4151 - accuracy: 0.8295 - val_loss: 0.4468 - val_accuracy: 0.7667\n",
      "Epoch 224/500\n",
      "44/44 [==============================] - 0s 2ms/step - loss: 0.4053 - accuracy: 0.8210 - val_loss: 0.4127 - val_accuracy: 0.8333\n",
      "Epoch 225/500\n",
      "44/44 [==============================] - 0s 2ms/step - loss: 0.3968 - accuracy: 0.8153 - val_loss: 0.4132 - val_accuracy: 0.9000\n",
      "Epoch 226/500\n",
      "44/44 [==============================] - 0s 2ms/step - loss: 0.4047 - accuracy: 0.8324 - val_loss: 0.4533 - val_accuracy: 0.8000\n",
      "Epoch 227/500\n",
      "44/44 [==============================] - 0s 2ms/step - loss: 0.4085 - accuracy: 0.8153 - val_loss: 0.4242 - val_accuracy: 0.8000\n",
      "Epoch 228/500\n",
      "44/44 [==============================] - 0s 2ms/step - loss: 0.3987 - accuracy: 0.8438 - val_loss: 0.4039 - val_accuracy: 0.8667\n",
      "Epoch 229/500\n",
      "44/44 [==============================] - 0s 3ms/step - loss: 0.4019 - accuracy: 0.8324 - val_loss: 0.4289 - val_accuracy: 0.8000\n",
      "Epoch 230/500\n",
      "44/44 [==============================] - 0s 3ms/step - loss: 0.4140 - accuracy: 0.7926 - val_loss: 0.4670 - val_accuracy: 0.7333\n",
      "Epoch 231/500\n",
      "44/44 [==============================] - 0s 2ms/step - loss: 0.4037 - accuracy: 0.8352 - val_loss: 0.4694 - val_accuracy: 0.7333\n",
      "Epoch 232/500\n",
      "44/44 [==============================] - 0s 2ms/step - loss: 0.3958 - accuracy: 0.8210 - val_loss: 0.4098 - val_accuracy: 0.8000\n",
      "Epoch 233/500\n",
      "44/44 [==============================] - 0s 2ms/step - loss: 0.4174 - accuracy: 0.8182 - val_loss: 0.4173 - val_accuracy: 0.8000\n",
      "Epoch 234/500\n",
      "44/44 [==============================] - 0s 2ms/step - loss: 0.4098 - accuracy: 0.8068 - val_loss: 0.4102 - val_accuracy: 0.9000\n",
      "Epoch 235/500\n",
      "44/44 [==============================] - 0s 2ms/step - loss: 0.3926 - accuracy: 0.8352 - val_loss: 0.4271 - val_accuracy: 0.8000\n",
      "Epoch 236/500\n",
      "44/44 [==============================] - 0s 3ms/step - loss: 0.3937 - accuracy: 0.8210 - val_loss: 0.4064 - val_accuracy: 0.8000\n",
      "Epoch 237/500\n",
      "44/44 [==============================] - 0s 3ms/step - loss: 0.3890 - accuracy: 0.8352 - val_loss: 0.4115 - val_accuracy: 0.8000\n",
      "Epoch 238/500\n",
      "44/44 [==============================] - 0s 2ms/step - loss: 0.3906 - accuracy: 0.8097 - val_loss: 0.3896 - val_accuracy: 0.8667\n",
      "Epoch 239/500\n",
      "44/44 [==============================] - 0s 2ms/step - loss: 0.3989 - accuracy: 0.8097 - val_loss: 0.4215 - val_accuracy: 0.8000\n",
      "Epoch 240/500\n",
      "44/44 [==============================] - 0s 2ms/step - loss: 0.3974 - accuracy: 0.8040 - val_loss: 0.4060 - val_accuracy: 0.8667\n",
      "Epoch 241/500\n",
      "44/44 [==============================] - 0s 2ms/step - loss: 0.3906 - accuracy: 0.8409 - val_loss: 0.4203 - val_accuracy: 0.8333\n",
      "Epoch 242/500\n",
      "44/44 [==============================] - 0s 2ms/step - loss: 0.3924 - accuracy: 0.8210 - val_loss: 0.4115 - val_accuracy: 0.9000\n",
      "Epoch 243/500\n",
      "44/44 [==============================] - 0s 2ms/step - loss: 0.3883 - accuracy: 0.8352 - val_loss: 0.4119 - val_accuracy: 0.8333\n",
      "Epoch 244/500\n",
      "44/44 [==============================] - 0s 2ms/step - loss: 0.3952 - accuracy: 0.8267 - val_loss: 0.4742 - val_accuracy: 0.7667\n",
      "Epoch 245/500\n",
      "44/44 [==============================] - 0s 2ms/step - loss: 0.3919 - accuracy: 0.8352 - val_loss: 0.4404 - val_accuracy: 0.8333\n",
      "Epoch 246/500\n",
      "44/44 [==============================] - 0s 2ms/step - loss: 0.3978 - accuracy: 0.8210 - val_loss: 0.3897 - val_accuracy: 0.8667\n",
      "Epoch 247/500\n",
      "44/44 [==============================] - 0s 2ms/step - loss: 0.3894 - accuracy: 0.8295 - val_loss: 0.4178 - val_accuracy: 0.9000\n",
      "Epoch 248/500\n",
      "44/44 [==============================] - 0s 3ms/step - loss: 0.3881 - accuracy: 0.8267 - val_loss: 0.3921 - val_accuracy: 0.8667\n",
      "Epoch 249/500\n",
      "44/44 [==============================] - 0s 2ms/step - loss: 0.3955 - accuracy: 0.8040 - val_loss: 0.4228 - val_accuracy: 0.8000\n",
      "Epoch 250/500\n",
      "44/44 [==============================] - 0s 2ms/step - loss: 0.3998 - accuracy: 0.8068 - val_loss: 0.4818 - val_accuracy: 0.7667\n",
      "Epoch 251/500\n",
      "44/44 [==============================] - 0s 2ms/step - loss: 0.3843 - accuracy: 0.8523 - val_loss: 0.4262 - val_accuracy: 0.8333\n",
      "Epoch 252/500\n",
      "44/44 [==============================] - 0s 2ms/step - loss: 0.3882 - accuracy: 0.8352 - val_loss: 0.4253 - val_accuracy: 0.7667\n",
      "Epoch 253/500\n",
      "44/44 [==============================] - 0s 2ms/step - loss: 0.3979 - accuracy: 0.7983 - val_loss: 0.4624 - val_accuracy: 0.7667\n",
      "Epoch 254/500\n",
      "44/44 [==============================] - 0s 2ms/step - loss: 0.3995 - accuracy: 0.8210 - val_loss: 0.4176 - val_accuracy: 0.8000\n",
      "Epoch 255/500\n",
      "44/44 [==============================] - 0s 2ms/step - loss: 0.3843 - accuracy: 0.8324 - val_loss: 0.4271 - val_accuracy: 0.8667\n",
      "Epoch 256/500\n",
      "44/44 [==============================] - 0s 2ms/step - loss: 0.3858 - accuracy: 0.8267 - val_loss: 0.3979 - val_accuracy: 0.8000\n",
      "Epoch 257/500\n",
      "44/44 [==============================] - 0s 2ms/step - loss: 0.3808 - accuracy: 0.8324 - val_loss: 0.3991 - val_accuracy: 0.8667\n",
      "Epoch 258/500\n",
      "44/44 [==============================] - 0s 2ms/step - loss: 0.3917 - accuracy: 0.8153 - val_loss: 0.4369 - val_accuracy: 0.8000\n",
      "Epoch 259/500\n",
      "44/44 [==============================] - 0s 3ms/step - loss: 0.3988 - accuracy: 0.8210 - val_loss: 0.4548 - val_accuracy: 0.7333\n",
      "Epoch 260/500\n",
      "44/44 [==============================] - 0s 3ms/step - loss: 0.3781 - accuracy: 0.8466 - val_loss: 0.3696 - val_accuracy: 0.8667\n",
      "Epoch 261/500\n",
      "44/44 [==============================] - 0s 3ms/step - loss: 0.3846 - accuracy: 0.8324 - val_loss: 0.4004 - val_accuracy: 0.9000\n",
      "Epoch 262/500\n",
      "44/44 [==============================] - 0s 2ms/step - loss: 0.3804 - accuracy: 0.8352 - val_loss: 0.4168 - val_accuracy: 0.8333\n",
      "Epoch 263/500\n",
      "44/44 [==============================] - 0s 2ms/step - loss: 0.3766 - accuracy: 0.8324 - val_loss: 0.3830 - val_accuracy: 0.9000\n",
      "Epoch 264/500\n",
      "44/44 [==============================] - 0s 2ms/step - loss: 0.3896 - accuracy: 0.8153 - val_loss: 0.4152 - val_accuracy: 0.8333\n",
      "Epoch 265/500\n",
      "44/44 [==============================] - 0s 3ms/step - loss: 0.4218 - accuracy: 0.7841 - val_loss: 0.4118 - val_accuracy: 0.8333\n",
      "Epoch 266/500\n",
      "44/44 [==============================] - 0s 2ms/step - loss: 0.3775 - accuracy: 0.8494 - val_loss: 0.4126 - val_accuracy: 0.8333\n",
      "Epoch 267/500\n",
      "44/44 [==============================] - 0s 2ms/step - loss: 0.3873 - accuracy: 0.8239 - val_loss: 0.4154 - val_accuracy: 0.8667\n",
      "Epoch 268/500\n",
      "44/44 [==============================] - 0s 2ms/step - loss: 0.4018 - accuracy: 0.8097 - val_loss: 0.4048 - val_accuracy: 0.8333\n",
      "Epoch 269/500\n",
      "44/44 [==============================] - 0s 2ms/step - loss: 0.3849 - accuracy: 0.8438 - val_loss: 0.4066 - val_accuracy: 0.8333\n",
      "Epoch 270/500\n",
      "44/44 [==============================] - 0s 2ms/step - loss: 0.3842 - accuracy: 0.8295 - val_loss: 0.4005 - val_accuracy: 0.8667\n",
      "Epoch 271/500\n",
      "44/44 [==============================] - 0s 2ms/step - loss: 0.3742 - accuracy: 0.8409 - val_loss: 0.4109 - val_accuracy: 0.9000\n",
      "Epoch 272/500\n",
      "44/44 [==============================] - 0s 2ms/step - loss: 0.3860 - accuracy: 0.8182 - val_loss: 0.3993 - val_accuracy: 0.8000\n",
      "Epoch 273/500\n",
      "44/44 [==============================] - 0s 3ms/step - loss: 0.3880 - accuracy: 0.8324 - val_loss: 0.4595 - val_accuracy: 0.7667\n",
      "Epoch 274/500\n",
      "44/44 [==============================] - 0s 2ms/step - loss: 0.3815 - accuracy: 0.8295 - val_loss: 0.4170 - val_accuracy: 0.8333\n",
      "Epoch 275/500\n",
      "44/44 [==============================] - 0s 3ms/step - loss: 0.3814 - accuracy: 0.8239 - val_loss: 0.4060 - val_accuracy: 0.8333\n",
      "Epoch 276/500\n",
      "44/44 [==============================] - 0s 3ms/step - loss: 0.3723 - accuracy: 0.8523 - val_loss: 0.4238 - val_accuracy: 0.8333\n",
      "Epoch 277/500\n",
      "44/44 [==============================] - 0s 2ms/step - loss: 0.3860 - accuracy: 0.8182 - val_loss: 0.3948 - val_accuracy: 0.8667\n",
      "Epoch 278/500\n",
      "44/44 [==============================] - 0s 3ms/step - loss: 0.3743 - accuracy: 0.8551 - val_loss: 0.4120 - val_accuracy: 0.8333\n",
      "Epoch 279/500\n",
      "44/44 [==============================] - 0s 2ms/step - loss: 0.3708 - accuracy: 0.8438 - val_loss: 0.4571 - val_accuracy: 0.7667\n",
      "Epoch 280/500\n",
      "44/44 [==============================] - 0s 2ms/step - loss: 0.3793 - accuracy: 0.8381 - val_loss: 0.3796 - val_accuracy: 0.8667\n",
      "Epoch 281/500\n",
      "44/44 [==============================] - 0s 3ms/step - loss: 0.4006 - accuracy: 0.7926 - val_loss: 0.5446 - val_accuracy: 0.7000\n",
      "Epoch 282/500\n",
      "44/44 [==============================] - 0s 2ms/step - loss: 0.3804 - accuracy: 0.8381 - val_loss: 0.4011 - val_accuracy: 0.8333\n",
      "Epoch 283/500\n",
      "44/44 [==============================] - 0s 2ms/step - loss: 0.3770 - accuracy: 0.8381 - val_loss: 0.3939 - val_accuracy: 0.8333\n",
      "Epoch 284/500\n",
      "44/44 [==============================] - 0s 2ms/step - loss: 0.3759 - accuracy: 0.8324 - val_loss: 0.4165 - val_accuracy: 0.8333\n",
      "Epoch 285/500\n",
      "44/44 [==============================] - 0s 3ms/step - loss: 0.3835 - accuracy: 0.8267 - val_loss: 0.4120 - val_accuracy: 0.8333\n",
      "Epoch 286/500\n",
      "44/44 [==============================] - 0s 2ms/step - loss: 0.3723 - accuracy: 0.8352 - val_loss: 0.4133 - val_accuracy: 0.8000\n",
      "Epoch 287/500\n"
     ]
    },
    {
     "name": "stdout",
     "output_type": "stream",
     "text": [
      "44/44 [==============================] - 0s 2ms/step - loss: 0.3733 - accuracy: 0.8381 - val_loss: 0.3950 - val_accuracy: 0.8667\n",
      "Epoch 288/500\n",
      "44/44 [==============================] - 0s 2ms/step - loss: 0.3839 - accuracy: 0.8466 - val_loss: 0.4125 - val_accuracy: 0.8000\n",
      "Epoch 289/500\n",
      "44/44 [==============================] - 0s 2ms/step - loss: 0.3713 - accuracy: 0.8352 - val_loss: 0.4513 - val_accuracy: 0.7667\n",
      "Epoch 290/500\n",
      "44/44 [==============================] - 0s 2ms/step - loss: 0.3753 - accuracy: 0.8239 - val_loss: 0.4062 - val_accuracy: 0.8333\n",
      "Epoch 291/500\n",
      "44/44 [==============================] - 0s 3ms/step - loss: 0.3707 - accuracy: 0.8381 - val_loss: 0.4398 - val_accuracy: 0.7667\n",
      "Epoch 292/500\n",
      "44/44 [==============================] - 0s 2ms/step - loss: 0.3755 - accuracy: 0.8324 - val_loss: 0.4187 - val_accuracy: 0.8667\n",
      "Epoch 293/500\n",
      "44/44 [==============================] - 0s 2ms/step - loss: 0.3734 - accuracy: 0.8267 - val_loss: 0.4099 - val_accuracy: 0.8333\n",
      "Epoch 294/500\n",
      "44/44 [==============================] - 0s 2ms/step - loss: 0.3654 - accuracy: 0.8409 - val_loss: 0.4092 - val_accuracy: 0.8667\n",
      "Epoch 295/500\n",
      "44/44 [==============================] - 0s 2ms/step - loss: 0.3616 - accuracy: 0.8295 - val_loss: 0.4098 - val_accuracy: 0.8667\n",
      "Epoch 296/500\n",
      "44/44 [==============================] - 0s 2ms/step - loss: 0.3624 - accuracy: 0.8352 - val_loss: 0.3915 - val_accuracy: 0.8667\n",
      "Epoch 297/500\n",
      "44/44 [==============================] - 0s 2ms/step - loss: 0.3674 - accuracy: 0.8381 - val_loss: 0.4038 - val_accuracy: 0.8667\n",
      "Epoch 298/500\n",
      "44/44 [==============================] - 0s 3ms/step - loss: 0.3927 - accuracy: 0.8352 - val_loss: 0.4322 - val_accuracy: 0.7667\n",
      "Epoch 299/500\n",
      "44/44 [==============================] - 0s 2ms/step - loss: 0.3762 - accuracy: 0.8324 - val_loss: 0.4669 - val_accuracy: 0.7000\n",
      "Epoch 300/500\n",
      "44/44 [==============================] - 0s 2ms/step - loss: 0.3705 - accuracy: 0.8239 - val_loss: 0.4225 - val_accuracy: 0.8000\n",
      "Epoch 301/500\n",
      "44/44 [==============================] - 0s 2ms/step - loss: 0.3628 - accuracy: 0.8551 - val_loss: 0.3963 - val_accuracy: 0.8667\n",
      "Epoch 302/500\n",
      "44/44 [==============================] - 0s 2ms/step - loss: 0.3617 - accuracy: 0.8352 - val_loss: 0.4133 - val_accuracy: 0.8333\n",
      "Epoch 303/500\n",
      "44/44 [==============================] - 0s 2ms/step - loss: 0.3672 - accuracy: 0.8466 - val_loss: 0.4008 - val_accuracy: 0.8333\n",
      "Epoch 304/500\n",
      "44/44 [==============================] - 0s 2ms/step - loss: 0.3734 - accuracy: 0.8381 - val_loss: 0.4161 - val_accuracy: 0.8667\n",
      "Epoch 305/500\n",
      "44/44 [==============================] - 0s 2ms/step - loss: 0.3716 - accuracy: 0.8295 - val_loss: 0.4271 - val_accuracy: 0.8333\n",
      "Epoch 306/500\n",
      "44/44 [==============================] - 0s 2ms/step - loss: 0.3599 - accuracy: 0.8352 - val_loss: 0.4093 - val_accuracy: 0.8333\n",
      "Epoch 307/500\n",
      "44/44 [==============================] - 0s 2ms/step - loss: 0.3602 - accuracy: 0.8409 - val_loss: 0.4254 - val_accuracy: 0.8000\n",
      "Epoch 308/500\n",
      "44/44 [==============================] - 0s 2ms/step - loss: 0.3630 - accuracy: 0.8494 - val_loss: 0.4057 - val_accuracy: 0.8333\n",
      "Epoch 309/500\n",
      "44/44 [==============================] - 0s 2ms/step - loss: 0.3619 - accuracy: 0.8381 - val_loss: 0.4331 - val_accuracy: 0.7667\n",
      "Epoch 310/500\n",
      "44/44 [==============================] - 0s 2ms/step - loss: 0.3655 - accuracy: 0.8551 - val_loss: 0.4258 - val_accuracy: 0.8333\n",
      "Epoch 311/500\n",
      "44/44 [==============================] - 0s 2ms/step - loss: 0.3795 - accuracy: 0.8210 - val_loss: 0.4486 - val_accuracy: 0.7000\n",
      "Epoch 312/500\n",
      "44/44 [==============================] - 0s 2ms/step - loss: 0.3650 - accuracy: 0.8324 - val_loss: 0.4109 - val_accuracy: 0.8333\n",
      "Epoch 313/500\n",
      "44/44 [==============================] - 0s 2ms/step - loss: 0.3889 - accuracy: 0.8267 - val_loss: 0.4232 - val_accuracy: 0.8000\n",
      "Epoch 314/500\n",
      "44/44 [==============================] - 0s 2ms/step - loss: 0.3604 - accuracy: 0.8551 - val_loss: 0.4068 - val_accuracy: 0.8333\n",
      "Epoch 315/500\n",
      "44/44 [==============================] - 0s 3ms/step - loss: 0.3516 - accuracy: 0.8466 - val_loss: 0.4347 - val_accuracy: 0.8667\n",
      "Epoch 316/500\n",
      "44/44 [==============================] - 0s 2ms/step - loss: 0.3878 - accuracy: 0.8239 - val_loss: 0.3993 - val_accuracy: 0.8000\n",
      "Epoch 317/500\n",
      "44/44 [==============================] - 0s 2ms/step - loss: 0.3601 - accuracy: 0.8523 - val_loss: 0.3960 - val_accuracy: 0.8333\n",
      "Epoch 318/500\n",
      "44/44 [==============================] - 0s 2ms/step - loss: 0.3731 - accuracy: 0.8267 - val_loss: 0.3976 - val_accuracy: 0.8667\n",
      "Epoch 319/500\n",
      "44/44 [==============================] - 0s 3ms/step - loss: 0.3874 - accuracy: 0.8352 - val_loss: 0.3951 - val_accuracy: 0.8667\n",
      "Epoch 320/500\n",
      "44/44 [==============================] - 0s 2ms/step - loss: 0.3764 - accuracy: 0.8324 - val_loss: 0.4530 - val_accuracy: 0.7667\n",
      "Epoch 321/500\n",
      "44/44 [==============================] - 0s 2ms/step - loss: 0.3883 - accuracy: 0.8352 - val_loss: 0.4110 - val_accuracy: 0.8333\n",
      "Epoch 322/500\n",
      "44/44 [==============================] - 0s 2ms/step - loss: 0.3778 - accuracy: 0.8409 - val_loss: 0.4805 - val_accuracy: 0.7000\n",
      "Epoch 323/500\n",
      "44/44 [==============================] - 0s 2ms/step - loss: 0.3617 - accuracy: 0.8466 - val_loss: 0.4567 - val_accuracy: 0.7667\n",
      "Epoch 324/500\n",
      "44/44 [==============================] - 0s 2ms/step - loss: 0.3615 - accuracy: 0.8466 - val_loss: 0.4248 - val_accuracy: 0.8333\n",
      "Epoch 325/500\n",
      "44/44 [==============================] - 0s 2ms/step - loss: 0.3620 - accuracy: 0.8295 - val_loss: 0.4023 - val_accuracy: 0.8000\n",
      "Epoch 326/500\n",
      "44/44 [==============================] - 0s 2ms/step - loss: 0.3610 - accuracy: 0.8466 - val_loss: 0.4484 - val_accuracy: 0.8000\n",
      "Epoch 327/500\n",
      "44/44 [==============================] - 0s 2ms/step - loss: 0.3690 - accuracy: 0.8324 - val_loss: 0.3968 - val_accuracy: 0.8333\n",
      "Epoch 328/500\n",
      "44/44 [==============================] - 0s 2ms/step - loss: 0.3753 - accuracy: 0.8352 - val_loss: 0.4903 - val_accuracy: 0.7000\n",
      "Epoch 329/500\n",
      "44/44 [==============================] - 0s 2ms/step - loss: 0.3730 - accuracy: 0.8295 - val_loss: 0.4109 - val_accuracy: 0.8333\n",
      "Epoch 330/500\n",
      "44/44 [==============================] - 0s 2ms/step - loss: 0.3585 - accuracy: 0.8381 - val_loss: 0.4042 - val_accuracy: 0.8667\n",
      "Epoch 331/500\n",
      "44/44 [==============================] - 0s 3ms/step - loss: 0.3558 - accuracy: 0.8438 - val_loss: 0.4109 - val_accuracy: 0.8667\n",
      "Epoch 332/500\n",
      "44/44 [==============================] - 0s 2ms/step - loss: 0.3559 - accuracy: 0.8466 - val_loss: 0.4186 - val_accuracy: 0.8333\n",
      "Epoch 333/500\n",
      "44/44 [==============================] - 0s 2ms/step - loss: 0.3620 - accuracy: 0.8324 - val_loss: 0.4399 - val_accuracy: 0.8333\n",
      "Epoch 334/500\n",
      "44/44 [==============================] - 0s 2ms/step - loss: 0.3593 - accuracy: 0.8551 - val_loss: 0.4352 - val_accuracy: 0.7667\n",
      "Epoch 335/500\n",
      "44/44 [==============================] - 0s 2ms/step - loss: 0.3558 - accuracy: 0.8466 - val_loss: 0.4008 - val_accuracy: 0.8333\n",
      "Epoch 336/500\n",
      "44/44 [==============================] - 0s 3ms/step - loss: 0.3594 - accuracy: 0.8438 - val_loss: 0.4152 - val_accuracy: 0.8333\n",
      "Epoch 337/500\n",
      "44/44 [==============================] - 0s 2ms/step - loss: 0.3899 - accuracy: 0.8125 - val_loss: 0.4382 - val_accuracy: 0.8000\n",
      "Epoch 338/500\n",
      "44/44 [==============================] - 0s 3ms/step - loss: 0.3468 - accuracy: 0.8438 - val_loss: 0.4420 - val_accuracy: 0.8333\n",
      "Epoch 339/500\n",
      "44/44 [==============================] - 0s 2ms/step - loss: 0.3538 - accuracy: 0.8494 - val_loss: 0.4882 - val_accuracy: 0.7000\n",
      "Epoch 340/500\n",
      "44/44 [==============================] - 0s 3ms/step - loss: 0.3984 - accuracy: 0.8295 - val_loss: 0.4703 - val_accuracy: 0.8333\n",
      "Epoch 341/500\n",
      "44/44 [==============================] - 0s 2ms/step - loss: 0.3645 - accuracy: 0.8324 - val_loss: 0.4179 - val_accuracy: 0.8333\n",
      "Epoch 342/500\n",
      "44/44 [==============================] - 0s 2ms/step - loss: 0.3919 - accuracy: 0.8097 - val_loss: 0.4141 - val_accuracy: 0.8333\n",
      "Epoch 343/500\n",
      "44/44 [==============================] - 0s 2ms/step - loss: 0.3801 - accuracy: 0.8295 - val_loss: 0.4329 - val_accuracy: 0.7667\n",
      "Epoch 344/500\n",
      "44/44 [==============================] - 0s 2ms/step - loss: 0.3756 - accuracy: 0.8324 - val_loss: 0.4422 - val_accuracy: 0.7667\n",
      "Epoch 345/500\n",
      "44/44 [==============================] - 0s 2ms/step - loss: 0.3739 - accuracy: 0.8040 - val_loss: 0.4146 - val_accuracy: 0.8000\n",
      "Epoch 346/500\n",
      "44/44 [==============================] - 0s 3ms/step - loss: 0.3451 - accuracy: 0.8551 - val_loss: 0.4413 - val_accuracy: 0.8000\n",
      "Epoch 347/500\n",
      "44/44 [==============================] - 0s 2ms/step - loss: 0.3512 - accuracy: 0.8409 - val_loss: 0.3900 - val_accuracy: 0.8667\n",
      "Epoch 348/500\n",
      "44/44 [==============================] - 0s 2ms/step - loss: 0.3578 - accuracy: 0.8551 - val_loss: 0.4309 - val_accuracy: 0.8000\n",
      "Epoch 349/500\n",
      "44/44 [==============================] - 0s 2ms/step - loss: 0.3525 - accuracy: 0.8523 - val_loss: 0.4176 - val_accuracy: 0.8667\n",
      "Epoch 350/500\n",
      "44/44 [==============================] - 0s 2ms/step - loss: 0.3483 - accuracy: 0.8580 - val_loss: 0.4802 - val_accuracy: 0.7667\n",
      "Epoch 351/500\n",
      "44/44 [==============================] - 0s 2ms/step - loss: 0.3518 - accuracy: 0.8523 - val_loss: 0.4400 - val_accuracy: 0.8000\n",
      "Epoch 352/500\n",
      "44/44 [==============================] - 0s 2ms/step - loss: 0.3514 - accuracy: 0.8381 - val_loss: 0.4588 - val_accuracy: 0.7333\n",
      "Epoch 353/500\n",
      "44/44 [==============================] - 0s 2ms/step - loss: 0.3459 - accuracy: 0.8665 - val_loss: 0.4432 - val_accuracy: 0.8000\n",
      "Epoch 354/500\n",
      "44/44 [==============================] - 0s 2ms/step - loss: 0.3444 - accuracy: 0.8551 - val_loss: 0.4055 - val_accuracy: 0.8333\n",
      "Epoch 355/500\n",
      "44/44 [==============================] - 0s 3ms/step - loss: 0.3612 - accuracy: 0.8239 - val_loss: 0.4886 - val_accuracy: 0.8000\n",
      "Epoch 356/500\n",
      "44/44 [==============================] - 0s 3ms/step - loss: 0.3493 - accuracy: 0.8466 - val_loss: 0.4081 - val_accuracy: 0.8000\n",
      "Epoch 357/500\n",
      "44/44 [==============================] - 0s 3ms/step - loss: 0.3460 - accuracy: 0.8580 - val_loss: 0.4229 - val_accuracy: 0.8333\n",
      "Epoch 358/500\n",
      "44/44 [==============================] - 0s 3ms/step - loss: 0.3562 - accuracy: 0.8324 - val_loss: 0.4380 - val_accuracy: 0.8333\n",
      "Epoch 359/500\n",
      "44/44 [==============================] - 0s 2ms/step - loss: 0.3431 - accuracy: 0.8636 - val_loss: 0.4719 - val_accuracy: 0.8000\n",
      "Epoch 360/500\n",
      "44/44 [==============================] - 0s 2ms/step - loss: 0.3433 - accuracy: 0.8381 - val_loss: 0.4060 - val_accuracy: 0.8333\n",
      "Epoch 361/500\n",
      "44/44 [==============================] - 0s 2ms/step - loss: 0.3393 - accuracy: 0.8665 - val_loss: 0.4328 - val_accuracy: 0.8000\n",
      "Epoch 362/500\n",
      "44/44 [==============================] - 0s 2ms/step - loss: 0.3422 - accuracy: 0.8551 - val_loss: 0.4282 - val_accuracy: 0.8333\n",
      "Epoch 363/500\n",
      "44/44 [==============================] - 0s 2ms/step - loss: 0.3477 - accuracy: 0.8466 - val_loss: 0.4419 - val_accuracy: 0.8333\n",
      "Epoch 364/500\n",
      "44/44 [==============================] - 0s 2ms/step - loss: 0.3486 - accuracy: 0.8409 - val_loss: 0.4286 - val_accuracy: 0.8667\n",
      "Epoch 365/500\n",
      "44/44 [==============================] - 0s 2ms/step - loss: 0.3377 - accuracy: 0.8523 - val_loss: 0.4009 - val_accuracy: 0.8667\n",
      "Epoch 366/500\n",
      "44/44 [==============================] - 0s 3ms/step - loss: 0.3404 - accuracy: 0.8551 - val_loss: 0.4600 - val_accuracy: 0.8000\n",
      "Epoch 367/500\n",
      "44/44 [==============================] - 0s 3ms/step - loss: 0.3384 - accuracy: 0.8494 - val_loss: 0.4239 - val_accuracy: 0.8333\n",
      "Epoch 368/500\n",
      "44/44 [==============================] - 0s 3ms/step - loss: 0.3332 - accuracy: 0.8636 - val_loss: 0.4816 - val_accuracy: 0.7333\n",
      "Epoch 369/500\n",
      "44/44 [==============================] - 0s 2ms/step - loss: 0.3616 - accuracy: 0.8466 - val_loss: 0.4505 - val_accuracy: 0.7333\n",
      "Epoch 370/500\n",
      "44/44 [==============================] - 0s 2ms/step - loss: 0.3565 - accuracy: 0.8352 - val_loss: 0.4130 - val_accuracy: 0.8333\n",
      "Epoch 371/500\n",
      "44/44 [==============================] - 0s 2ms/step - loss: 0.3407 - accuracy: 0.8494 - val_loss: 0.4350 - val_accuracy: 0.8333\n",
      "Epoch 372/500\n",
      "44/44 [==============================] - 0s 2ms/step - loss: 0.3409 - accuracy: 0.8580 - val_loss: 0.4190 - val_accuracy: 0.8333\n",
      "Epoch 373/500\n",
      "44/44 [==============================] - 0s 2ms/step - loss: 0.3407 - accuracy: 0.8438 - val_loss: 0.4230 - val_accuracy: 0.8333\n",
      "Epoch 374/500\n",
      "44/44 [==============================] - 0s 2ms/step - loss: 0.3425 - accuracy: 0.8551 - val_loss: 0.4511 - val_accuracy: 0.8333\n",
      "Epoch 375/500\n",
      "44/44 [==============================] - 0s 3ms/step - loss: 0.3388 - accuracy: 0.8665 - val_loss: 0.4409 - val_accuracy: 0.8333\n",
      "Epoch 376/500\n",
      "44/44 [==============================] - 0s 3ms/step - loss: 0.3320 - accuracy: 0.8636 - val_loss: 0.4448 - val_accuracy: 0.8333\n",
      "Epoch 377/500\n",
      "44/44 [==============================] - 0s 4ms/step - loss: 0.3933 - accuracy: 0.8182 - val_loss: 0.4001 - val_accuracy: 0.8333\n",
      "Epoch 378/500\n",
      "44/44 [==============================] - 0s 3ms/step - loss: 0.3609 - accuracy: 0.8352 - val_loss: 0.4335 - val_accuracy: 0.8333\n",
      "Epoch 379/500\n",
      "44/44 [==============================] - 0s 3ms/step - loss: 0.3463 - accuracy: 0.8523 - val_loss: 0.4215 - val_accuracy: 0.8667\n",
      "Epoch 380/500\n",
      "44/44 [==============================] - 0s 3ms/step - loss: 0.3414 - accuracy: 0.8636 - val_loss: 0.4722 - val_accuracy: 0.7667\n",
      "Epoch 381/500\n",
      "44/44 [==============================] - 0s 3ms/step - loss: 0.3415 - accuracy: 0.8580 - val_loss: 0.4618 - val_accuracy: 0.7333\n",
      "Epoch 382/500\n",
      "44/44 [==============================] - 0s 3ms/step - loss: 0.3489 - accuracy: 0.8409 - val_loss: 0.4311 - val_accuracy: 0.8667\n",
      "Epoch 383/500\n",
      "44/44 [==============================] - 0s 2ms/step - loss: 0.3551 - accuracy: 0.8494 - val_loss: 0.4969 - val_accuracy: 0.8000\n",
      "Epoch 384/500\n",
      "44/44 [==============================] - 0s 2ms/step - loss: 0.3423 - accuracy: 0.8438 - val_loss: 0.4016 - val_accuracy: 0.8667\n",
      "Epoch 385/500\n",
      "44/44 [==============================] - 0s 4ms/step - loss: 0.3363 - accuracy: 0.8693 - val_loss: 0.5377 - val_accuracy: 0.6667\n",
      "Epoch 386/500\n",
      "44/44 [==============================] - 0s 4ms/step - loss: 0.3517 - accuracy: 0.8438 - val_loss: 0.4522 - val_accuracy: 0.7667\n",
      "Epoch 387/500\n",
      "44/44 [==============================] - 0s 4ms/step - loss: 0.3817 - accuracy: 0.8295 - val_loss: 0.4324 - val_accuracy: 0.8333\n",
      "Epoch 388/500\n",
      "44/44 [==============================] - 0s 2ms/step - loss: 0.3769 - accuracy: 0.8381 - val_loss: 0.4661 - val_accuracy: 0.8000\n",
      "Epoch 389/500\n",
      "44/44 [==============================] - 0s 3ms/step - loss: 0.3381 - accuracy: 0.8523 - val_loss: 0.4138 - val_accuracy: 0.8333\n",
      "Epoch 390/500\n",
      "44/44 [==============================] - 0s 4ms/step - loss: 0.3500 - accuracy: 0.8551 - val_loss: 0.4659 - val_accuracy: 0.8000\n",
      "Epoch 391/500\n",
      "44/44 [==============================] - 0s 4ms/step - loss: 0.3425 - accuracy: 0.8580 - val_loss: 0.4513 - val_accuracy: 0.9000\n",
      "Epoch 392/500\n",
      "44/44 [==============================] - 0s 4ms/step - loss: 0.3288 - accuracy: 0.8608 - val_loss: 0.4346 - val_accuracy: 0.8333\n",
      "Epoch 393/500\n",
      "44/44 [==============================] - 0s 4ms/step - loss: 0.3369 - accuracy: 0.8523 - val_loss: 0.4551 - val_accuracy: 0.8000\n",
      "Epoch 394/500\n",
      "44/44 [==============================] - 0s 4ms/step - loss: 0.3414 - accuracy: 0.8580 - val_loss: 0.4789 - val_accuracy: 0.8000\n",
      "Epoch 395/500\n",
      "44/44 [==============================] - 0s 3ms/step - loss: 0.3321 - accuracy: 0.8580 - val_loss: 0.4227 - val_accuracy: 0.8333\n",
      "Epoch 396/500\n",
      "44/44 [==============================] - 0s 3ms/step - loss: 0.3320 - accuracy: 0.8750 - val_loss: 0.4241 - val_accuracy: 0.8333\n",
      "Epoch 397/500\n",
      "44/44 [==============================] - 0s 3ms/step - loss: 0.3266 - accuracy: 0.8665 - val_loss: 0.4774 - val_accuracy: 0.7667\n",
      "Epoch 398/500\n",
      "44/44 [==============================] - 0s 2ms/step - loss: 0.3591 - accuracy: 0.8352 - val_loss: 0.4169 - val_accuracy: 0.8333\n",
      "Epoch 399/500\n",
      "44/44 [==============================] - 0s 3ms/step - loss: 0.3855 - accuracy: 0.8239 - val_loss: 0.4116 - val_accuracy: 0.8333\n",
      "Epoch 400/500\n",
      "44/44 [==============================] - 0s 2ms/step - loss: 0.3417 - accuracy: 0.8409 - val_loss: 0.4764 - val_accuracy: 0.7667\n",
      "Epoch 401/500\n"
     ]
    },
    {
     "name": "stdout",
     "output_type": "stream",
     "text": [
      "44/44 [==============================] - 0s 2ms/step - loss: 0.3368 - accuracy: 0.8551 - val_loss: 0.4316 - val_accuracy: 0.8333\n",
      "Epoch 402/500\n",
      "44/44 [==============================] - 0s 3ms/step - loss: 0.3373 - accuracy: 0.8693 - val_loss: 0.4439 - val_accuracy: 0.8333\n",
      "Epoch 403/500\n",
      "44/44 [==============================] - 0s 2ms/step - loss: 0.3406 - accuracy: 0.8409 - val_loss: 0.4259 - val_accuracy: 0.8333\n",
      "Epoch 404/500\n",
      "44/44 [==============================] - 0s 3ms/step - loss: 0.3283 - accuracy: 0.8665 - val_loss: 0.4612 - val_accuracy: 0.8000\n",
      "Epoch 405/500\n",
      "44/44 [==============================] - 0s 2ms/step - loss: 0.3305 - accuracy: 0.8494 - val_loss: 0.4935 - val_accuracy: 0.7000\n",
      "Epoch 406/500\n",
      "44/44 [==============================] - 0s 3ms/step - loss: 0.3418 - accuracy: 0.8494 - val_loss: 0.4504 - val_accuracy: 0.8333\n",
      "Epoch 407/500\n",
      "44/44 [==============================] - 0s 3ms/step - loss: 0.3468 - accuracy: 0.8438 - val_loss: 0.4314 - val_accuracy: 0.8333\n",
      "Epoch 408/500\n",
      "44/44 [==============================] - 0s 3ms/step - loss: 0.3387 - accuracy: 0.8551 - val_loss: 0.4763 - val_accuracy: 0.7333\n",
      "Epoch 409/500\n",
      "44/44 [==============================] - 0s 3ms/step - loss: 0.3357 - accuracy: 0.8580 - val_loss: 0.4420 - val_accuracy: 0.8333\n",
      "Epoch 410/500\n",
      "44/44 [==============================] - 0s 3ms/step - loss: 0.3339 - accuracy: 0.8494 - val_loss: 0.4545 - val_accuracy: 0.8333\n",
      "Epoch 411/500\n",
      "44/44 [==============================] - 0s 2ms/step - loss: 0.3462 - accuracy: 0.8267 - val_loss: 0.4581 - val_accuracy: 0.8000\n",
      "Epoch 412/500\n",
      "44/44 [==============================] - 0s 3ms/step - loss: 0.3546 - accuracy: 0.8466 - val_loss: 0.4457 - val_accuracy: 0.8333\n",
      "Epoch 413/500\n",
      "44/44 [==============================] - 0s 3ms/step - loss: 0.3250 - accuracy: 0.8580 - val_loss: 0.4622 - val_accuracy: 0.8333\n",
      "Epoch 414/500\n",
      "44/44 [==============================] - 0s 4ms/step - loss: 0.3298 - accuracy: 0.8551 - val_loss: 0.4748 - val_accuracy: 0.8000\n",
      "Epoch 415/500\n",
      "44/44 [==============================] - 0s 4ms/step - loss: 0.3266 - accuracy: 0.8665 - val_loss: 0.4492 - val_accuracy: 0.8333\n",
      "Epoch 416/500\n",
      "44/44 [==============================] - 0s 3ms/step - loss: 0.3421 - accuracy: 0.8551 - val_loss: 0.5149 - val_accuracy: 0.7000\n",
      "Epoch 417/500\n",
      "44/44 [==============================] - 0s 4ms/step - loss: 0.3483 - accuracy: 0.8438 - val_loss: 0.4449 - val_accuracy: 0.8333\n",
      "Epoch 418/500\n",
      "44/44 [==============================] - 0s 2ms/step - loss: 0.3361 - accuracy: 0.8523 - val_loss: 0.4524 - val_accuracy: 0.7333\n",
      "Epoch 419/500\n",
      "44/44 [==============================] - 0s 4ms/step - loss: 0.3271 - accuracy: 0.8608 - val_loss: 0.4828 - val_accuracy: 0.7667\n",
      "Epoch 420/500\n",
      "44/44 [==============================] - 0s 4ms/step - loss: 0.3577 - accuracy: 0.8381 - val_loss: 0.4045 - val_accuracy: 0.8333\n",
      "Epoch 421/500\n",
      "44/44 [==============================] - 0s 4ms/step - loss: 0.3742 - accuracy: 0.8153 - val_loss: 0.4660 - val_accuracy: 0.8000\n",
      "Epoch 422/500\n",
      "44/44 [==============================] - 0s 4ms/step - loss: 0.3290 - accuracy: 0.8778 - val_loss: 0.4170 - val_accuracy: 0.8333\n",
      "Epoch 423/500\n",
      "44/44 [==============================] - 0s 5ms/step - loss: 0.3213 - accuracy: 0.8693 - val_loss: 0.4703 - val_accuracy: 0.8000\n",
      "Epoch 424/500\n",
      "44/44 [==============================] - 0s 4ms/step - loss: 0.3221 - accuracy: 0.8665 - val_loss: 0.4160 - val_accuracy: 0.8333\n",
      "Epoch 425/500\n",
      "44/44 [==============================] - 0s 4ms/step - loss: 0.3290 - accuracy: 0.8523 - val_loss: 0.4556 - val_accuracy: 0.8000\n",
      "Epoch 426/500\n",
      "44/44 [==============================] - 0s 3ms/step - loss: 0.3342 - accuracy: 0.8466 - val_loss: 0.4699 - val_accuracy: 0.8000\n",
      "Epoch 427/500\n",
      "44/44 [==============================] - 0s 4ms/step - loss: 0.3277 - accuracy: 0.8608 - val_loss: 0.4506 - val_accuracy: 0.7333\n",
      "Epoch 428/500\n",
      "44/44 [==============================] - 0s 3ms/step - loss: 0.3353 - accuracy: 0.8494 - val_loss: 0.4190 - val_accuracy: 0.7333\n",
      "Epoch 429/500\n",
      "44/44 [==============================] - 0s 2ms/step - loss: 0.3395 - accuracy: 0.8551 - val_loss: 0.4840 - val_accuracy: 0.7333\n",
      "Epoch 430/500\n",
      "44/44 [==============================] - 0s 3ms/step - loss: 0.3260 - accuracy: 0.8693 - val_loss: 0.4575 - val_accuracy: 0.8333\n",
      "Epoch 431/500\n",
      "44/44 [==============================] - 0s 5ms/step - loss: 0.3348 - accuracy: 0.8494 - val_loss: 0.4329 - val_accuracy: 0.8333\n",
      "Epoch 432/500\n",
      "44/44 [==============================] - 0s 4ms/step - loss: 0.3434 - accuracy: 0.8608 - val_loss: 0.5327 - val_accuracy: 0.7000\n",
      "Epoch 433/500\n",
      "44/44 [==============================] - 0s 5ms/step - loss: 0.3243 - accuracy: 0.8494 - val_loss: 0.4275 - val_accuracy: 0.7667\n",
      "Epoch 434/500\n",
      "44/44 [==============================] - 0s 5ms/step - loss: 0.3446 - accuracy: 0.8551 - val_loss: 0.4927 - val_accuracy: 0.7667\n",
      "Epoch 435/500\n",
      "44/44 [==============================] - 0s 4ms/step - loss: 0.3505 - accuracy: 0.8381 - val_loss: 0.5124 - val_accuracy: 0.7667\n",
      "Epoch 436/500\n",
      "44/44 [==============================] - 0s 5ms/step - loss: 0.3325 - accuracy: 0.8608 - val_loss: 0.4702 - val_accuracy: 0.8000\n",
      "Epoch 437/500\n",
      "44/44 [==============================] - 0s 4ms/step - loss: 0.3230 - accuracy: 0.8750 - val_loss: 0.4804 - val_accuracy: 0.8000\n",
      "Epoch 438/500\n",
      "44/44 [==============================] - 0s 3ms/step - loss: 0.3425 - accuracy: 0.8438 - val_loss: 0.4606 - val_accuracy: 0.8000\n",
      "Epoch 439/500\n",
      "44/44 [==============================] - 0s 3ms/step - loss: 0.3238 - accuracy: 0.8636 - val_loss: 0.4714 - val_accuracy: 0.8000\n",
      "Epoch 440/500\n",
      "44/44 [==============================] - 0s 2ms/step - loss: 0.3244 - accuracy: 0.8580 - val_loss: 0.4647 - val_accuracy: 0.8333\n",
      "Epoch 441/500\n",
      "44/44 [==============================] - 0s 3ms/step - loss: 0.3224 - accuracy: 0.8636 - val_loss: 0.4691 - val_accuracy: 0.8333\n",
      "Epoch 442/500\n",
      "44/44 [==============================] - 0s 3ms/step - loss: 0.3309 - accuracy: 0.8523 - val_loss: 0.4872 - val_accuracy: 0.8333\n",
      "Epoch 443/500\n",
      "44/44 [==============================] - 0s 3ms/step - loss: 0.3347 - accuracy: 0.8551 - val_loss: 0.4408 - val_accuracy: 0.8000\n",
      "Epoch 444/500\n",
      "44/44 [==============================] - 0s 3ms/step - loss: 0.3488 - accuracy: 0.8551 - val_loss: 0.5010 - val_accuracy: 0.7667\n",
      "Epoch 445/500\n",
      "44/44 [==============================] - 0s 3ms/step - loss: 0.3249 - accuracy: 0.8608 - val_loss: 0.4547 - val_accuracy: 0.8000\n",
      "Epoch 446/500\n",
      "44/44 [==============================] - 0s 3ms/step - loss: 0.3404 - accuracy: 0.8267 - val_loss: 0.4353 - val_accuracy: 0.8667\n",
      "Epoch 447/500\n",
      "44/44 [==============================] - 0s 3ms/step - loss: 0.3303 - accuracy: 0.8466 - val_loss: 0.4945 - val_accuracy: 0.8000\n",
      "Epoch 448/500\n",
      "44/44 [==============================] - 0s 2ms/step - loss: 0.3339 - accuracy: 0.8551 - val_loss: 0.4843 - val_accuracy: 0.7667\n",
      "Epoch 449/500\n",
      "44/44 [==============================] - 0s 3ms/step - loss: 0.3297 - accuracy: 0.8580 - val_loss: 0.4868 - val_accuracy: 0.7333\n",
      "Epoch 450/500\n",
      "44/44 [==============================] - 0s 3ms/step - loss: 0.3145 - accuracy: 0.8636 - val_loss: 0.4747 - val_accuracy: 0.8333\n",
      "Epoch 451/500\n",
      "44/44 [==============================] - 0s 3ms/step - loss: 0.3246 - accuracy: 0.8580 - val_loss: 0.4467 - val_accuracy: 0.8333\n",
      "Epoch 452/500\n",
      "44/44 [==============================] - 0s 3ms/step - loss: 0.3188 - accuracy: 0.8750 - val_loss: 0.4595 - val_accuracy: 0.8333\n",
      "Epoch 453/500\n",
      "44/44 [==============================] - 0s 2ms/step - loss: 0.3132 - accuracy: 0.8665 - val_loss: 0.4761 - val_accuracy: 0.7000\n",
      "Epoch 454/500\n",
      "44/44 [==============================] - 0s 2ms/step - loss: 0.3212 - accuracy: 0.8608 - val_loss: 0.4965 - val_accuracy: 0.8000\n",
      "Epoch 455/500\n",
      "44/44 [==============================] - 0s 3ms/step - loss: 0.3096 - accuracy: 0.8722 - val_loss: 0.4234 - val_accuracy: 0.8333\n",
      "Epoch 456/500\n",
      "44/44 [==============================] - 0s 3ms/step - loss: 0.3120 - accuracy: 0.8807 - val_loss: 0.4866 - val_accuracy: 0.8000\n",
      "Epoch 457/500\n",
      "44/44 [==============================] - 0s 3ms/step - loss: 0.3182 - accuracy: 0.8608 - val_loss: 0.4591 - val_accuracy: 0.8000\n",
      "Epoch 458/500\n",
      "44/44 [==============================] - 0s 3ms/step - loss: 0.3303 - accuracy: 0.8466 - val_loss: 0.4447 - val_accuracy: 0.8333\n",
      "Epoch 459/500\n",
      "44/44 [==============================] - 0s 3ms/step - loss: 0.3325 - accuracy: 0.8494 - val_loss: 0.4722 - val_accuracy: 0.7333\n",
      "Epoch 460/500\n",
      "44/44 [==============================] - 0s 2ms/step - loss: 0.3447 - accuracy: 0.8580 - val_loss: 0.5237 - val_accuracy: 0.8333\n",
      "Epoch 461/500\n",
      "44/44 [==============================] - 0s 3ms/step - loss: 0.3219 - accuracy: 0.8722 - val_loss: 0.4491 - val_accuracy: 0.8333\n",
      "Epoch 462/500\n",
      "44/44 [==============================] - 0s 2ms/step - loss: 0.3341 - accuracy: 0.8665 - val_loss: 0.4205 - val_accuracy: 0.8333\n",
      "Epoch 463/500\n",
      "44/44 [==============================] - 0s 2ms/step - loss: 0.3234 - accuracy: 0.8636 - val_loss: 0.4421 - val_accuracy: 0.8333\n",
      "Epoch 464/500\n",
      "44/44 [==============================] - 0s 3ms/step - loss: 0.3206 - accuracy: 0.8608 - val_loss: 0.4561 - val_accuracy: 0.8000\n",
      "Epoch 465/500\n",
      "44/44 [==============================] - 0s 3ms/step - loss: 0.3347 - accuracy: 0.8608 - val_loss: 0.5248 - val_accuracy: 0.8000\n",
      "Epoch 466/500\n",
      "44/44 [==============================] - 0s 3ms/step - loss: 0.3103 - accuracy: 0.8835 - val_loss: 0.4503 - val_accuracy: 0.7333\n",
      "Epoch 467/500\n",
      "44/44 [==============================] - 0s 3ms/step - loss: 0.3198 - accuracy: 0.8778 - val_loss: 0.4721 - val_accuracy: 0.8333\n",
      "Epoch 468/500\n",
      "44/44 [==============================] - 0s 3ms/step - loss: 0.3187 - accuracy: 0.8693 - val_loss: 0.4644 - val_accuracy: 0.8000\n",
      "Epoch 469/500\n",
      "44/44 [==============================] - 0s 3ms/step - loss: 0.3112 - accuracy: 0.8665 - val_loss: 0.4715 - val_accuracy: 0.7333\n",
      "Epoch 470/500\n",
      "44/44 [==============================] - 0s 2ms/step - loss: 0.3173 - accuracy: 0.8722 - val_loss: 0.5640 - val_accuracy: 0.7000\n",
      "Epoch 471/500\n",
      "44/44 [==============================] - 0s 3ms/step - loss: 0.3251 - accuracy: 0.8665 - val_loss: 0.4934 - val_accuracy: 0.8000\n",
      "Epoch 472/500\n",
      "44/44 [==============================] - 0s 7ms/step - loss: 0.3113 - accuracy: 0.8920 - val_loss: 0.5305 - val_accuracy: 0.7000\n",
      "Epoch 473/500\n",
      "44/44 [==============================] - 0s 4ms/step - loss: 0.3241 - accuracy: 0.8665 - val_loss: 0.4626 - val_accuracy: 0.8000\n",
      "Epoch 474/500\n",
      "44/44 [==============================] - 0s 4ms/step - loss: 0.3154 - accuracy: 0.8722 - val_loss: 0.4924 - val_accuracy: 0.8333\n",
      "Epoch 475/500\n",
      "44/44 [==============================] - 0s 4ms/step - loss: 0.3156 - accuracy: 0.8807 - val_loss: 0.4464 - val_accuracy: 0.8333\n",
      "Epoch 476/500\n",
      "44/44 [==============================] - 0s 3ms/step - loss: 0.3150 - accuracy: 0.8608 - val_loss: 0.5073 - val_accuracy: 0.8000\n",
      "Epoch 477/500\n",
      "44/44 [==============================] - 0s 2ms/step - loss: 0.3178 - accuracy: 0.8665 - val_loss: 0.4984 - val_accuracy: 0.7667\n",
      "Epoch 478/500\n",
      "44/44 [==============================] - 0s 2ms/step - loss: 0.3100 - accuracy: 0.8722 - val_loss: 0.4899 - val_accuracy: 0.8000\n",
      "Epoch 479/500\n",
      "44/44 [==============================] - 0s 3ms/step - loss: 0.3142 - accuracy: 0.8750 - val_loss: 0.4479 - val_accuracy: 0.8333\n",
      "Epoch 480/500\n",
      "44/44 [==============================] - 0s 5ms/step - loss: 0.3167 - accuracy: 0.8665 - val_loss: 0.4950 - val_accuracy: 0.7333\n",
      "Epoch 481/500\n",
      "44/44 [==============================] - 0s 5ms/step - loss: 0.3109 - accuracy: 0.8807 - val_loss: 0.4968 - val_accuracy: 0.7667\n",
      "Epoch 482/500\n",
      "44/44 [==============================] - 0s 5ms/step - loss: 0.3321 - accuracy: 0.8494 - val_loss: 0.5230 - val_accuracy: 0.7667\n",
      "Epoch 483/500\n",
      "44/44 [==============================] - 0s 5ms/step - loss: 0.3322 - accuracy: 0.8608 - val_loss: 0.4880 - val_accuracy: 0.7333\n",
      "Epoch 484/500\n",
      "44/44 [==============================] - 0s 6ms/step - loss: 0.3175 - accuracy: 0.8636 - val_loss: 0.4990 - val_accuracy: 0.7333\n",
      "Epoch 485/500\n",
      "44/44 [==============================] - 0s 7ms/step - loss: 0.3146 - accuracy: 0.8608 - val_loss: 0.4843 - val_accuracy: 0.8000\n",
      "Epoch 486/500\n",
      "44/44 [==============================] - 0s 2ms/step - loss: 0.3089 - accuracy: 0.8722 - val_loss: 0.5013 - val_accuracy: 0.7333\n",
      "Epoch 487/500\n",
      "44/44 [==============================] - 0s 4ms/step - loss: 0.3146 - accuracy: 0.8807 - val_loss: 0.5078 - val_accuracy: 0.7333\n",
      "Epoch 488/500\n",
      "44/44 [==============================] - 0s 4ms/step - loss: 0.3255 - accuracy: 0.8608 - val_loss: 0.4854 - val_accuracy: 0.8000\n",
      "Epoch 489/500\n",
      "44/44 [==============================] - 0s 4ms/step - loss: 0.3264 - accuracy: 0.8466 - val_loss: 0.5088 - val_accuracy: 0.8000\n",
      "Epoch 490/500\n",
      "44/44 [==============================] - 0s 6ms/step - loss: 0.3107 - accuracy: 0.8835 - val_loss: 0.5314 - val_accuracy: 0.7333\n",
      "Epoch 491/500\n",
      "44/44 [==============================] - 0s 6ms/step - loss: 0.3148 - accuracy: 0.8665 - val_loss: 0.4568 - val_accuracy: 0.8000\n",
      "Epoch 492/500\n",
      "44/44 [==============================] - 0s 5ms/step - loss: 0.3133 - accuracy: 0.8693 - val_loss: 0.5062 - val_accuracy: 0.8000\n",
      "Epoch 493/500\n",
      "44/44 [==============================] - 0s 3ms/step - loss: 0.3165 - accuracy: 0.8722 - val_loss: 0.5328 - val_accuracy: 0.7000\n",
      "Epoch 494/500\n",
      "44/44 [==============================] - 0s 3ms/step - loss: 0.3294 - accuracy: 0.8608 - val_loss: 0.5296 - val_accuracy: 0.8000\n",
      "Epoch 495/500\n",
      "44/44 [==============================] - 0s 3ms/step - loss: 0.3198 - accuracy: 0.8608 - val_loss: 0.5258 - val_accuracy: 0.7667\n",
      "Epoch 496/500\n",
      "44/44 [==============================] - 0s 5ms/step - loss: 0.3015 - accuracy: 0.8750 - val_loss: 0.4733 - val_accuracy: 0.7667\n",
      "Epoch 497/500\n",
      "44/44 [==============================] - 0s 4ms/step - loss: 0.3201 - accuracy: 0.8551 - val_loss: 0.4811 - val_accuracy: 0.7667\n",
      "Epoch 498/500\n",
      "44/44 [==============================] - 0s 4ms/step - loss: 0.3058 - accuracy: 0.8750 - val_loss: 0.5289 - val_accuracy: 0.7333\n",
      "Epoch 499/500\n",
      "44/44 [==============================] - 0s 4ms/step - loss: 0.3093 - accuracy: 0.8693 - val_loss: 0.4762 - val_accuracy: 0.8000\n",
      "Epoch 500/500\n",
      "44/44 [==============================] - 0s 3ms/step - loss: 0.3100 - accuracy: 0.8864 - val_loss: 0.4960 - val_accuracy: 0.8000\n"
     ]
    }
   ],
   "source": [
    "# Melatih model\n",
    "history = model.fit(X_train_resampled, y_train_resampled, epochs=500, batch_size=8,  validation_data=(X_val,y_val))"
   ]
  },
  {
   "cell_type": "code",
   "execution_count": 234,
   "id": "d983cda3",
   "metadata": {
    "ExecuteTime": {
     "end_time": "2024-06-08T05:45:11.791493Z",
     "start_time": "2024-06-08T05:45:11.377314Z"
    },
    "scrolled": true
   },
   "outputs": [
    {
     "data": {
      "image/png": "[encoded data removed]",
      "text/plain": [
       "<Figure size 432x288 with 1 Axes>"
      ]
     },
     "metadata": {
      "needs_background": "light"
     },
     "output_type": "display_data"
    },
    {
     "data": {
      "image/png": "[encoded data removed]",
      "text/plain": [
       "<Figure size 432x288 with 1 Axes>"
      ]
     },
     "metadata": {
      "needs_background": "light"
     },
     "output_type": "display_data"
    }
   ],
   "source": [
    "# Memplot loss\n",
    "plt.plot(history.history['loss'], label='Training Loss')\n",
    "plt.plot(history.history['val_loss'], label='Validation Loss')\n",
    "plt.title('Training and Validation Loss')\n",
    "plt.xlabel('Epoch')\n",
    "plt.ylabel('Loss')\n",
    "plt.legend()\n",
    "plt.show()\n",
    "\n",
    "# Memplot akurasi\n",
    "plt.plot(history.history['accuracy'], label='Training Accuracy')\n",
    "plt.plot(history.history['val_accuracy'], label='Validation Accuracy')\n",
    "plt.title('Training and Validation Accuracy')\n",
    "plt.xlabel('Epoch')\n",
    "plt.ylabel('Accuracy')\n",
    "plt.legend()\n",
    "plt.show()\n"
   ]
  },
  {
   "cell_type": "markdown",
   "id": "080151d4",
   "metadata": {},
   "source": [
    "## Testing"
   ]
  },
  {
   "cell_type": "code",
   "execution_count": 235,
   "id": "8ee9ce3c",
   "metadata": {
    "ExecuteTime": {
     "end_time": "2024-06-08T05:45:31.459100Z",
     "start_time": "2024-06-08T05:45:31.320569Z"
    }
   },
   "outputs": [],
   "source": [
    "# Evaluasi model dengan data uji\n",
    "y_pred_encoded = model.predict(X_test)\n",
    "y_pred = (y_pred_encoded > 0.5).astype(np.int64)"
   ]
  },
  {
   "cell_type": "markdown",
   "id": "f54384b3",
   "metadata": {},
   "source": [
    "bisa juga menggunakan kfold agar model lebih baik"
   ]
  },
  {
   "cell_type": "markdown",
   "id": "1a5c90fe",
   "metadata": {},
   "source": [
    "# Evaluation"
   ]
  },
  {
   "cell_type": "markdown",
   "id": "e8ccaf29",
   "metadata": {},
   "source": [
    "## Confussion Matrix"
   ]
  },
  {
   "cell_type": "code",
   "execution_count": 236,
   "id": "97d7e8fa",
   "metadata": {
    "ExecuteTime": {
     "end_time": "2024-06-08T05:45:32.728160Z",
     "start_time": "2024-06-08T05:45:32.476454Z"
    }
   },
   "outputs": [
    {
     "data": {
      "image/png": "[encoded data removed]",
      "text/plain": [
       "<Figure size 576x432 with 2 Axes>"
      ]
     },
     "metadata": {
      "needs_background": "light"
     },
     "output_type": "display_data"
    }
   ],
   "source": [
    "# Membuat confusion matrix\n",
    "conf_mat = confusion_matrix(y_test, y_pred)\n",
    "\n",
    "# Plot confusion matrix\n",
    "plt.figure(figsize=(8, 6))\n",
    "sns.heatmap(conf_mat, annot=True, cmap='Blues', fmt='g')\n",
    "plt.xlabel('Predicted Label')\n",
    "plt.ylabel('True Label')\n",
    "plt.title('Confusion Matrix')\n",
    "plt.show()"
   ]
  },
  {
   "cell_type": "markdown",
   "id": "92279808",
   "metadata": {},
   "source": [
    "## Classification Report"
   ]
  },
  {
   "cell_type": "code",
   "execution_count": 237,
   "id": "dce57bdc",
   "metadata": {
    "ExecuteTime": {
     "end_time": "2024-06-08T05:45:35.735136Z",
     "start_time": "2024-06-08T05:45:35.707057Z"
    }
   },
   "outputs": [
    {
     "name": "stdout",
     "output_type": "stream",
     "text": [
      "Classification Report:\n",
      "              precision    recall  f1-score   support\n",
      "\n",
      "           0       0.95      0.82      0.88        22\n",
      "           1       0.67      0.89      0.76         9\n",
      "\n",
      "    accuracy                           0.84        31\n",
      "   macro avg       0.81      0.85      0.82        31\n",
      "weighted avg       0.87      0.84      0.84        31\n",
      "\n"
     ]
    }
   ],
   "source": [
    "# Membuat classification report\n",
    "print(\"Classification Report:\")\n",
    "print(classification_report(y_test, y_pred))"
   ]
  },
  {
   "cell_type": "markdown",
   "id": "8e286092",
   "metadata": {},
   "source": [
    "## Simpan model"
   ]
  },
  {
   "cell_type": "code",
   "execution_count": 67,
   "id": "5d30e8c1",
   "metadata": {
    "ExecuteTime": {
     "end_time": "2024-06-06T07:53:34.252596Z",
     "start_time": "2024-06-06T07:53:34.217781Z"
    }
   },
   "outputs": [],
   "source": [
    "# Simpan model ke format TFLite\n",
    "best = model.save(\"model.h5\")"
   ]
  },
  {
   "cell_type": "markdown",
   "id": "6e3c2634",
   "metadata": {},
   "source": [
    "# Deployment"
   ]
  },
  {
   "cell_type": "markdown",
   "id": "d7d197c0",
   "metadata": {},
   "source": [
    "## Convert model"
   ]
  },
  {
   "cell_type": "code",
   "execution_count": 238,
   "id": "c1b08278",
   "metadata": {
    "ExecuteTime": {
     "end_time": "2024-06-08T05:50:37.653196Z",
     "start_time": "2024-06-08T05:50:34.338043Z"
    }
   },
   "outputs": [
    {
     "name": "stderr",
     "output_type": "stream",
     "text": [
      "2024-06-08 12:50:34.738734: W tensorflow/python/util/util.cc:368] Sets are not currently considered sequences, but this may change in the future, so consider avoiding using them.\n"
     ]
    },
    {
     "name": "stdout",
     "output_type": "stream",
     "text": [
      "INFO:tensorflow:Assets written to: /var/folders/3g/_fyl2gxs5c7bfjdzjyz2wc000000gn/T/tmps6lm4c0e/assets\n"
     ]
    },
    {
     "name": "stderr",
     "output_type": "stream",
     "text": [
      "2024-06-08 12:50:37.268295: W tensorflow/compiler/mlir/lite/python/tf_tfl_flatbuffer_helpers.cc:357] Ignored output_format.\n",
      "2024-06-08 12:50:37.268313: W tensorflow/compiler/mlir/lite/python/tf_tfl_flatbuffer_helpers.cc:360] Ignored drop_control_dependency.\n"
     ]
    }
   ],
   "source": [
    "# Konversi model H5 ke format TFLite\n",
    "model = tf.keras.models.load_model(\"model.h5\")\n",
    "converter = tf.lite.TFLiteConverter.from_keras_model(model)\n",
    "tflite_model = converter.convert()\n",
    "\n",
    "# Simpan model TFLite ke file\n",
    "with open(\"model.tflite\", \"wb\") as f:\n",
    "    f.write(tflite_model)"
   ]
  },
  {
   "cell_type": "markdown",
   "id": "a3eee7fe",
   "metadata": {},
   "source": [
    "## Build Simple HTML"
   ]
  },
  {
   "cell_type": "markdown",
   "id": "0165be18",
   "metadata": {
    "ExecuteTime": {
     "end_time": "2024-06-08T06:02:39.081317Z",
     "start_time": "2024-06-08T06:02:39.059420Z"
    }
   },
   "source": [
    "<img src=\"https://miro.medium.com/v2/resize:fit:1100/format:webp/1*XQjVnZhDL-hvNoe84byyiw.png\">"
   ]
  },
  {
   "cell_type": "markdown",
   "id": "1822d769",
   "metadata": {},
   "source": [
    "    buka link ini "
   ]
  },
  {
   "cell_type": "code",
   "execution_count": null,
   "id": "400182ed",
   "metadata": {},
   "outputs": [],
   "source": []
  }
 ],
 "metadata": {
  "kernelspec": {
   "display_name": "Python 3 (ipykernel)",
   "language": "python",
   "name": "python3"
  },
  "language_info": {
   "codemirror_mode": {
    "name": "ipython",
    "version": 3
   },
   "file_extension": ".py",
   "mimetype": "text/x-python",
   "name": "python",
   "nbconvert_exporter": "python",
   "pygments_lexer": "ipython3",
   "version": "3.9.2"
  },
  "toc": {
   "base_numbering": 1,
   "nav_menu": {},
   "number_sections": true,
   "sideBar": true,
   "skip_h1_title": false,
   "title_cell": "Table of Contents",
   "title_sidebar": "Contents",
   "toc_cell": false,
   "toc_position": {
    "height": "calc(100% - 180px)",
    "left": "10px",
    "top": "150px",
    "width": "288px"
   },
   "toc_section_display": true,
   "toc_window_display": true
  },
  "varInspector": {
   "cols": {
    "lenName": 16,
    "lenType": 16,
    "lenVar": 40
   },
   "kernels_config": {
    "python": {
     "delete_cmd_postfix": "",
     "delete_cmd_prefix": "del ",
     "library": "var_list.py",
     "varRefreshCmd": "print(var_dic_list())"
    },
    "r": {
     "delete_cmd_postfix": ") ",
     "delete_cmd_prefix": "rm(",
     "library": "var_list.r",
     "varRefreshCmd": "cat(var_dic_list()) "
    }
   },
   "types_to_exclude": [
    "module",
    "function",
    "builtin_function_or_method",
    "instance",
    "_Feature"
   ],
   "window_display": false
  }
 },
 "nbformat": 4,
 "nbformat_minor": 5
}
